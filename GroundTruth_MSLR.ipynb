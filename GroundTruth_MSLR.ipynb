{
 "cells": [
  {
   "cell_type": "code",
   "execution_count": 2,
   "id": "9d433b4f",
   "metadata": {},
   "outputs": [
    {
     "name": "stderr",
     "output_type": "stream",
     "text": [
      "WARNING:absl:No GPU/TPU found, falling back to CPU. (Set TF_CPP_MIN_LOG_LEVEL=0 and rerun for more info.)\n",
      "/tmp/ipykernel_1122573/1594448806.py:20: VisibleDeprecationWarning: Creating an ndarray from ragged nested sequences (which is a list-or-tuple of lists-or-tuples-or ndarrays with different lengths or shapes) is deprecated. If you meant to do this, you must specify 'dtype=object' when creating the ndarray.\n",
      "  cols_mouse = sns.color_palette(np.array([\"#5E3C18\", \"#F5993D\", \"#A8612A\",\n"
     ]
    }
   ],
   "source": [
    "import jax.numpy as jnp\n",
    "import jax.random as jr\n",
    "from sklearn.neighbors import KernelDensity\n",
    "from itertools import count\n",
    "import matplotlib.pyplot as plt\n",
    "import seaborn as sns\n",
    "sns.set_context(\"notebook\")\n",
    "from dynamax.hidden_markov_model import LinearRegressionHMM\n",
    "from jax import vmap\n",
    "from sklearn.metrics import r2_score\n",
    "from sklearn import metrics\n",
    "from matplotlib.colors import ListedColormap\n",
    "import pandas as pd\n",
    "import numpy as np\n",
    "import acme\n",
    "import h5py\n",
    "import BehavUtils as butils\n",
    "from sklearn.mixture import GaussianMixture\n",
    "\n",
    "cols_mouse = sns.color_palette(np.array([\"#5E3C18\", \"#F5993D\", \"#A8612A\", \n",
    "                                        sns.desaturate(\"#F5993D\", 0.3), \n",
    "                                        'orange', '#FBA984', \"#940393\", '#FE9E47',\n",
    "                                        \"#e9b7e3\", \"#cf60f3\", \"#5a3386\",\n",
    "                                        sns.desaturate(\"#ff66b2\", 0.5), '#FF8C80']))\n",
    "\n",
    "my_cmap = ListedColormap(sns.color_palette(cols_mouse).as_hex())\n",
    "\n",
    "def generate_synthetic_data(data, bandwidth_scale = 0.2):\n",
    "    synthetic_data = np.zeros(data.shape)\n",
    "    for i in range(data.shape[1]):\n",
    "        # Reshape the data for sklearn\n",
    "        column_data = data[:, i].reshape(-1, 1)\n",
    "\n",
    "        # Estimate the bandwidth as a fraction of the data range\n",
    "        bandwidth = bandwidth_scale * np.std(column_data)\n",
    "\n",
    "        # Use KDE to fit the data\n",
    "        kde = KernelDensity(kernel='gaussian', bandwidth=bandwidth)\n",
    "        kde.fit(column_data)\n",
    "\n",
    "        # Sample from the KDE to create synthetic data\n",
    "        synthetic_data[:, i] = kde.sample(n_samples=data.shape[0]).flatten()\n",
    "        \n",
    "    return synthetic_data\n",
    "\n",
    "\n",
    "def generate_synthetic_data_gmm_optimized(\n",
    "    data, \n",
    "    max_components=20, \n",
    "    covariance_type='full', \n",
    "    random_state=42, \n",
    "    verbose=False,\n",
    "    tolerance=1e-3\n",
    "):\n",
    "    \"\"\"\n",
    "    Generates synthetic data using Gaussian Mixture Models (GMM) with optimizations for large datasets.\n",
    "    \n",
    "    Parameters:\n",
    "    - data (np.ndarray or pd.DataFrame): Original data with shape (n_samples, n_features).\n",
    "    - max_components (int): Maximum number of GMM components to try for model selection.\n",
    "    - covariance_type (str): Type of covariance parameters ('full', 'tied', 'diag', 'spherical').\n",
    "    - random_state (int): Seed for reproducibility.\n",
    "    - verbose (bool): If True, prints progress and selected number of components.\n",
    "    - tolerance (float): Threshold for the minimum improvement in BIC to continue increasing components.\n",
    "    \n",
    "    Returns:\n",
    "    - synthetic_data (np.ndarray): Generated synthetic data with the same shape as input data.\n",
    "    - gmm (GaussianMixture): Fitted GMM model.\n",
    "    \"\"\"\n",
    "    # Ensure data is a NumPy array\n",
    "    if isinstance(data, pd.DataFrame):\n",
    "        data = data.values\n",
    "    elif not isinstance(data, np.ndarray):\n",
    "        raise ValueError(\"Input data must be a NumPy array or a Pandas DataFrame.\")\n",
    "    \n",
    "    n_samples, n_features = data.shape\n",
    "    \n",
    "    # Initialize variables to store BIC scores and models\n",
    "    bic_scores = []\n",
    "    models = []\n",
    "    \n",
    "    # Iterate over the number of components to find the optimal one\n",
    "    for n in range(1, max_components + 1):\n",
    "        gmm = GaussianMixture(\n",
    "            n_components=n, \n",
    "            covariance_type=covariance_type, \n",
    "            random_state=random_state,\n",
    "            n_init=3,  # Reduced number of initializations for speed\n",
    "            max_iter=200  # Default max iterations\n",
    "        )\n",
    "        gmm.fit(data)\n",
    "        bic = gmm.bic(data)\n",
    "        bic_scores.append(bic)\n",
    "        models.append(gmm)\n",
    "        if verbose:\n",
    "            print(f\"Fitted GMM with {n} components. BIC: {bic:.2f}\")\n",
    "    \n",
    "    # Plot BIC scores\n",
    "    plt.figure(figsize=(5,4))\n",
    "    plt.plot(np.arange(max_components)+1, bic_scores, marker='o')\n",
    "    plt.xlabel('Number of Components')\n",
    "    plt.ylabel('BIC Score')\n",
    "    plt.axvline(3)\n",
    "\n",
    "    # Select the model with the lowest BIC\n",
    "    optimal_n = 3#np.argmin(bic_scores) + 1\n",
    "    optimal_gmm = models[optimal_n]\n",
    "    \n",
    "    if verbose:\n",
    "        print(f\"\\nOptimal number of components selected: {optimal_n}\")\n",
    "    \n",
    "    # Generate synthetic data\n",
    "    synthetic_data, _ = optimal_gmm.sample(n_samples)\n",
    "    \n",
    "    return synthetic_data, optimal_gmm\n",
    "\n",
    "\n",
    "def plot_feature_distributions(original, synthetic, feature_names=None, n_features=5):\n",
    "    \"\"\"\n",
    "    Plots the distribution of each feature for original and synthetic data.\n",
    "    \n",
    "    Parameters:\n",
    "    - original (np.ndarray): Original dataset.\n",
    "    - synthetic (np.ndarray): Synthetic dataset.\n",
    "    - feature_names (list): Optional list of feature names.\n",
    "    - n_features (int): Number of features to plot.\n",
    "    \"\"\"\n",
    "    if feature_names is None:\n",
    "        feature_names = [f\"Feature {i+1}\" for i in range(original.shape[1])]\n",
    "    fig, ax = plt.subplots(nrows = 4, ncols = 2, figsize=(5, 6))\n",
    "    for i in range(n_features):\n",
    "        \n",
    "        sns.kdeplot(original[:, i], label='Original', shade=True, ax = ax.flat[i], color = 'gray')\n",
    "        sns.kdeplot(synthetic[:, i], label='Synthetic', shade=True, ax = ax.flat[i], color = 'orange')\n",
    "        ax.flat[i].set_xlabel(f'{feature_names[i]}')\n",
    "        ax.flat[i].set_ylabel('Density')\n",
    "        if i == 0:\n",
    "            ax.flat[i].legend(frameon = False, handlelength = 0, labelcolor = 'linecolor', fontsize = 10)\n",
    "        ax.flat[i].set_xticks([])\n",
    "        ax.flat[i].set_yticks([])\n",
    "    plt.tight_layout()\n",
    "\n",
    "    sns.despine()\n",
    "\n",
    "# Define feature names if available\n",
    "feature_names = ['Pupil Size', 'Eye Mov', 'Nose Mov', 'Eye [x]', 'Eye [y]', 'Nose [x]', 'Nose [y]', 'Whiskers [x]', 'Whiskers [y]']\n",
    "\n",
    "newOrder_mouse = np.array([0, 2, 3, 1, 4, 5, 6, 7])\n",
    "\n",
    "\n",
    "def fit_model_cv(X_cv, y_cv, X_val, y_val, nStates, covariate_dim, emission_dim, params, param_props):\n",
    "    \n",
    "    # Initialize our MSLR.\n",
    "    mslr = LinearRegressionHMM(nStates, covariate_dim, emission_dim)\n",
    "    test_params, lps = mslr.fit_em(params, param_props, y_cv, inputs=X_cv, num_iters = 20)\n",
    "    \n",
    "    if np.sum(np.isnan(lps)):\n",
    "        # Initialize our MSLR.\n",
    "        mslr = LinearRegressionHMM(nStates, covariate_dim, emission_dim)\n",
    "        # To fit the model, give it a batch of emissions and a batch of corresponding inputs\n",
    "        test_params, lps = mslr.fit_sgd(params, param_props, y_cv, inputs=X_cv, num_epochs = 2000)\n",
    "    if len(lps) == 0:\n",
    "        lps = np.array([0, 0])\n",
    "    # Compute the most likely states\n",
    "    most_likely_states = mslr.most_likely_states(test_params, y_val, inputs = X_val)\n",
    "    most_likely_states = np.array(most_likely_states)\n",
    "\n",
    "    # Predict the emissions given the true states\n",
    "    As = test_params.emissions.weights[most_likely_states]\n",
    "    bs = test_params.emissions.biases[most_likely_states]\n",
    "    y_pred= vmap(lambda x, A, b: A @ x + b)(X_val, As, bs)\n",
    "\n",
    "    return r2_score(y_pred, y_val)\n",
    "\n",
    "\n",
    "def find_similar_states(true_states, most_likely_states):\n",
    "    \"\"\"\n",
    "    Find the normalized mutual information between true states and most likely states.\n",
    "\n",
    "    Parameters:\n",
    "    - true_states: array-like, true state labels\n",
    "    - most_likely_states: array-like, predicted state labels\n",
    "\n",
    "    Returns:\n",
    "    - cors: 2D NumPy array, matrix of normalized mutual information values\n",
    "    \"\"\"\n",
    "    num_states = np.max(true_states) + 1\n",
    "    \n",
    "    # Convert true_states to pandas Series and one-hot encode\n",
    "    true_series = pd.Series(true_states)\n",
    "    true_ohe = pd.get_dummies(true_series).values\n",
    "    \n",
    "    # Convert most_likely_states to pandas Series and one-hot encode\n",
    "    pred_series = pd.Series(most_likely_states)\n",
    "    pred_ohe = pd.get_dummies(pred_series).values\n",
    "    \n",
    "    # Initialize the correlation matrix\n",
    "    cors = np.zeros((num_states, num_states))\n",
    "    \n",
    "    # Compute normalized MI for each pair of states\n",
    "    for ii in range(num_states):\n",
    "        for jj in range(num_states):\n",
    "            cors[ii, jj] = np.corrcoef(true_ohe[:, ii], pred_ohe[:, jj])[0,1]\n",
    "    return cors\n"
   ]
  },
  {
   "cell_type": "code",
   "execution_count": 3,
   "id": "76465b9a",
   "metadata": {},
   "outputs": [
    {
     "name": "stderr",
     "output_type": "stream",
     "text": [
      "/gs/home/tlaieboriaa/.conda/envs/Cluster-GLMHMM3/lib/python3.9/site-packages/acme/dask_helpers.py:765: RuntimeWarning: <cluster_cleanup> No dangling clients or clusters found.\n",
      "  inspect.currentframe().f_lineno)\n"
     ]
    },
    {
     "name": "stdout",
     "output_type": "stream",
     "text": [
      "<slurm_cluster_setup> Requested job-count 50 exceeds `n_jobs_startup`: waiting for 10 jobs to come online, then proceed\n"
     ]
    },
    {
     "name": "stderr",
     "output_type": "stream",
     "text": [
      "<slurm_cluster_setup> SLURM workers ready: 50/None \t[elapsed time 00:17 | timeout at :40:00]\n"
     ]
    },
    {
     "name": "stdout",
     "output_type": "stream",
     "text": [
      "<slurm_cluster_setup> Cluster dashboard accessible at http://10.100.32.3:8787/status\n"
     ]
    }
   ],
   "source": [
    "# Load the data\n",
    "dats_train = np.load('Predictors_emissions_mouse_newDLC_concat_train_40pad_nonScaled.npz', allow_pickle = True)\n",
    "inputs_train = dats_train['predictors']\n",
    "outputs_train = dats_train['emissions']\n",
    "\n",
    "inputs_train = inputs_train[:,np.arange(inputs_train.shape[1]) != 1]\n",
    "\n",
    "# First set some global constants\n",
    "num_timesteps, covariate_dim = inputs_train.shape\n",
    "emission_dim = 1\n",
    "nSplits = 5\n",
    "nReps = 10\n",
    "btscv = butils.BlockingTimeSeriesSplit(n_splits=nSplits)\n",
    "\n",
    "# Initialize server, to parallelize.\n",
    "acme.cluster_cleanup()\n",
    "client = acme.esi_cluster_setup(partition=\"8GBXS\", n_jobs=int(nSplits*nReps),\n",
    "                                 n_jobs_startup=10, timeout=60000, interactive_wait=1)\n",
    "\n",
    "# Simulate data from a \"true\" model with the same parameters as in the main text.\n",
    "num_states_true = 5\n",
    "stickiness = 42\n",
    "concentration = 34\n",
    "\n",
    "# Initialize keys for random number generation; we fixed the seeds for reproducibility.\n",
    "#keys = map(jr.PRNGKey, count())\n",
    "#SEED = next(keys)\n",
    "valid_seeds = np.load('ValidSeeds_Mouse_11112024.npy')\n",
    "SEED = jr.PRNGKey(valid_seeds[0])\n",
    "\n",
    "\n",
    "def generate_synthetic_hmm_data(num_states, covariate_dim, emission_dim, stickiness, concentration, num_timesteps, inputs, seed):\n",
    "    hmm = LinearRegressionHMM(num_states, covariate_dim, emission_dim,\n",
    "                              transition_matrix_concentration = concentration, transition_matrix_stickiness = stickiness)\n",
    "    params, _ = hmm.initialize(seed)\n",
    "    states, emissions = hmm.sample(params, seed, num_timesteps, inputs=inputs)\n",
    "    true_lp = hmm.marginal_log_prob(params, emissions, inputs = inputs)\n",
    "    return states, emissions, params, true_lp\n",
    "\n",
    "true_states, emissions, true_params, true_lp = generate_synthetic_hmm_data(num_states_true, covariate_dim, emission_dim, stickiness, concentration, num_timesteps, inputs_train, SEED)"
   ]
  },
  {
   "cell_type": "code",
   "execution_count": 4,
   "id": "c4b858cf",
   "metadata": {},
   "outputs": [],
   "source": [
    "internal_states = np.arange(2,11)\n",
    "X_cv_fin, X_val_fin, y_cv_fin, y_val_fin = [],[], [], []\n",
    "r2_cv = np.zeros((internal_states.shape[0], int(nReps * nSplits)))\n",
    "for ii, num_states in enumerate(internal_states):\n",
    "    \n",
    "    X_cv_list = []\n",
    "    X_val_list = []\n",
    "    y_cv_list = []\n",
    "    y_val_list = []\n",
    "    \n",
    "    for s in range(nReps):\n",
    "        for cv_index, val_index in btscv.split(inputs_train, emissions):\n",
    "\n",
    "            # Split data into cross-validation and validation sets\n",
    "            X_cv, X_val = inputs_train[cv_index, :], inputs_train[val_index, :]\n",
    "            y_cv, y_val = emissions[cv_index], emissions[val_index]\n",
    "            y_cv = y_cv.reshape(-1, 1)\n",
    "            y_val = y_val.reshape(-1, 1)\n",
    "\n",
    "            # Append cross-validation and validation data to lists\n",
    "            X_cv_list.append(X_cv)\n",
    "            X_val_list.append(X_val)\n",
    "            y_cv_list.append(y_cv)\n",
    "            y_val_list.append(y_val)\n",
    "        X_cv_fin.append(X_cv_list)\n",
    "        X_val_fin.append(X_val_list)\n",
    "        y_cv_fin.append(y_cv_list)\n",
    "        y_val_fin.append(y_val_list)"
   ]
  },
  {
   "cell_type": "code",
   "execution_count": 4,
   "id": "771ab50e",
   "metadata": {},
   "outputs": [
    {
     "name": "stderr",
     "output_type": "stream",
     "text": [
      "<ParallelMap> INFO: Attaching to global parallel computing client <Client: 'tcp://10.100.32.3:41259' processes=50 threads=50, memory=372.50 GiB>\n",
      "INFO:<ParallelMap>:Attaching to global parallel computing client <Client: 'tcp://10.100.32.3:41259' processes=50 threads=50, memory=372.50 GiB>\n",
      "<ParallelMap> INFO: Preparing 50 parallel calls of `fit_model_cv` using 50 workers\n",
      "INFO:<ParallelMap>:Preparing 50 parallel calls of `fit_model_cv` using 50 workers\n",
      "<ParallelMap> INFO: Log information available at /cs/slurm/tlaieboriaa/tlaieboriaa_20241112-093101\n",
      "INFO:<ParallelMap>:Log information available at /cs/slurm/tlaieboriaa/tlaieboriaa_20241112-093101\n",
      "100% |██████████| 50/50 [00:18<00:00]\n",
      "<ParallelMap> INFO: SUCCESS! Finished parallel computation. Results have been saved to /cs/home/tlaieboriaa/ACME_20241112-093219-753320\n",
      "INFO:<ParallelMap>:SUCCESS! Finished parallel computation. Results have been saved to /cs/home/tlaieboriaa/ACME_20241112-093219-753320\n"
     ]
    },
    {
     "name": "stdout",
     "output_type": "stream",
     "text": [
      "2\n"
     ]
    },
    {
     "name": "stderr",
     "output_type": "stream",
     "text": [
      "<ParallelMap> INFO: Attaching to global parallel computing client <Client: 'tcp://10.100.32.3:41259' processes=50 threads=50, memory=372.50 GiB>\n",
      "INFO:<ParallelMap>:Attaching to global parallel computing client <Client: 'tcp://10.100.32.3:41259' processes=50 threads=50, memory=372.50 GiB>\n",
      "<ParallelMap> INFO: Preparing 50 parallel calls of `fit_model_cv` using 50 workers\n",
      "INFO:<ParallelMap>:Preparing 50 parallel calls of `fit_model_cv` using 50 workers\n",
      "<ParallelMap> INFO: Log information available at /cs/slurm/tlaieboriaa/tlaieboriaa_20241112-093101\n",
      "INFO:<ParallelMap>:Log information available at /cs/slurm/tlaieboriaa/tlaieboriaa_20241112-093101\n",
      "100% |██████████| 50/50 [00:02<00:00]\n",
      "<ParallelMap> INFO: SUCCESS! Finished parallel computation. Results have been saved to /cs/home/tlaieboriaa/ACME_20241112-093335-891397\n",
      "INFO:<ParallelMap>:SUCCESS! Finished parallel computation. Results have been saved to /cs/home/tlaieboriaa/ACME_20241112-093335-891397\n"
     ]
    },
    {
     "name": "stdout",
     "output_type": "stream",
     "text": [
      "3\n"
     ]
    },
    {
     "name": "stderr",
     "output_type": "stream",
     "text": [
      "<ParallelMap> INFO: Attaching to global parallel computing client <Client: 'tcp://10.100.32.3:41259' processes=50 threads=50, memory=372.50 GiB>\n",
      "INFO:<ParallelMap>:Attaching to global parallel computing client <Client: 'tcp://10.100.32.3:41259' processes=50 threads=50, memory=372.50 GiB>\n",
      "<ParallelMap> INFO: Preparing 50 parallel calls of `fit_model_cv` using 50 workers\n",
      "INFO:<ParallelMap>:Preparing 50 parallel calls of `fit_model_cv` using 50 workers\n",
      "<ParallelMap> INFO: Log information available at /cs/slurm/tlaieboriaa/tlaieboriaa_20241112-093101\n",
      "INFO:<ParallelMap>:Log information available at /cs/slurm/tlaieboriaa/tlaieboriaa_20241112-093101\n",
      "100% |██████████| 50/50 [00:06<00:00]\n",
      "<ParallelMap> INFO: SUCCESS! Finished parallel computation. Results have been saved to /cs/home/tlaieboriaa/ACME_20241112-093432-578271\n",
      "INFO:<ParallelMap>:SUCCESS! Finished parallel computation. Results have been saved to /cs/home/tlaieboriaa/ACME_20241112-093432-578271\n"
     ]
    },
    {
     "name": "stdout",
     "output_type": "stream",
     "text": [
      "4\n"
     ]
    },
    {
     "name": "stderr",
     "output_type": "stream",
     "text": [
      "<ParallelMap> INFO: Attaching to global parallel computing client <Client: 'tcp://10.100.32.3:41259' processes=50 threads=50, memory=372.50 GiB>\n",
      "INFO:<ParallelMap>:Attaching to global parallel computing client <Client: 'tcp://10.100.32.3:41259' processes=50 threads=50, memory=372.50 GiB>\n",
      "<ParallelMap> INFO: Preparing 50 parallel calls of `fit_model_cv` using 50 workers\n",
      "INFO:<ParallelMap>:Preparing 50 parallel calls of `fit_model_cv` using 50 workers\n",
      "<ParallelMap> INFO: Log information available at /cs/slurm/tlaieboriaa/tlaieboriaa_20241112-093101\n",
      "INFO:<ParallelMap>:Log information available at /cs/slurm/tlaieboriaa/tlaieboriaa_20241112-093101\n",
      "100% |██████████| 50/50 [00:02<00:00]\n",
      "<ParallelMap> INFO: SUCCESS! Finished parallel computation. Results have been saved to /cs/home/tlaieboriaa/ACME_20241112-093533-030546\n",
      "INFO:<ParallelMap>:SUCCESS! Finished parallel computation. Results have been saved to /cs/home/tlaieboriaa/ACME_20241112-093533-030546\n"
     ]
    },
    {
     "name": "stdout",
     "output_type": "stream",
     "text": [
      "5\n"
     ]
    },
    {
     "name": "stderr",
     "output_type": "stream",
     "text": [
      "<ParallelMap> INFO: Attaching to global parallel computing client <Client: 'tcp://10.100.32.3:41259' processes=50 threads=50, memory=372.50 GiB>\n",
      "INFO:<ParallelMap>:Attaching to global parallel computing client <Client: 'tcp://10.100.32.3:41259' processes=50 threads=50, memory=372.50 GiB>\n",
      "<ParallelMap> INFO: Preparing 50 parallel calls of `fit_model_cv` using 50 workers\n",
      "INFO:<ParallelMap>:Preparing 50 parallel calls of `fit_model_cv` using 50 workers\n",
      "<ParallelMap> INFO: Log information available at /cs/slurm/tlaieboriaa/tlaieboriaa_20241112-093101\n",
      "INFO:<ParallelMap>:Log information available at /cs/slurm/tlaieboriaa/tlaieboriaa_20241112-093101\n",
      "100% |██████████| 50/50 [00:08<00:00]\n",
      "<ParallelMap> INFO: SUCCESS! Finished parallel computation. Results have been saved to /cs/home/tlaieboriaa/ACME_20241112-093631-694454\n",
      "INFO:<ParallelMap>:SUCCESS! Finished parallel computation. Results have been saved to /cs/home/tlaieboriaa/ACME_20241112-093631-694454\n"
     ]
    },
    {
     "name": "stdout",
     "output_type": "stream",
     "text": [
      "6\n"
     ]
    },
    {
     "name": "stderr",
     "output_type": "stream",
     "text": [
      "<ParallelMap> INFO: Attaching to global parallel computing client <Client: 'tcp://10.100.32.3:41259' processes=50 threads=50, memory=372.50 GiB>\n",
      "INFO:<ParallelMap>:Attaching to global parallel computing client <Client: 'tcp://10.100.32.3:41259' processes=50 threads=50, memory=372.50 GiB>\n",
      "<ParallelMap> INFO: Preparing 50 parallel calls of `fit_model_cv` using 50 workers\n",
      "INFO:<ParallelMap>:Preparing 50 parallel calls of `fit_model_cv` using 50 workers\n",
      "<ParallelMap> INFO: Log information available at /cs/slurm/tlaieboriaa/tlaieboriaa_20241112-093101\n",
      "INFO:<ParallelMap>:Log information available at /cs/slurm/tlaieboriaa/tlaieboriaa_20241112-093101\n",
      "100% |██████████| 50/50 [00:07<00:00]\n",
      "<ParallelMap> INFO: SUCCESS! Finished parallel computation. Results have been saved to /cs/home/tlaieboriaa/ACME_20241112-093737-283570\n",
      "INFO:<ParallelMap>:SUCCESS! Finished parallel computation. Results have been saved to /cs/home/tlaieboriaa/ACME_20241112-093737-283570\n"
     ]
    },
    {
     "name": "stdout",
     "output_type": "stream",
     "text": [
      "7\n"
     ]
    },
    {
     "name": "stderr",
     "output_type": "stream",
     "text": [
      "<ParallelMap> INFO: Attaching to global parallel computing client <Client: 'tcp://10.100.32.3:41259' processes=50 threads=50, memory=372.50 GiB>\n",
      "INFO:<ParallelMap>:Attaching to global parallel computing client <Client: 'tcp://10.100.32.3:41259' processes=50 threads=50, memory=372.50 GiB>\n",
      "<ParallelMap> INFO: Preparing 50 parallel calls of `fit_model_cv` using 50 workers\n",
      "INFO:<ParallelMap>:Preparing 50 parallel calls of `fit_model_cv` using 50 workers\n",
      "<ParallelMap> INFO: Log information available at /cs/slurm/tlaieboriaa/tlaieboriaa_20241112-093101\n",
      "INFO:<ParallelMap>:Log information available at /cs/slurm/tlaieboriaa/tlaieboriaa_20241112-093101\n",
      "100% |██████████| 50/50 [00:07<00:00]\n",
      "<ParallelMap> INFO: SUCCESS! Finished parallel computation. Results have been saved to /cs/home/tlaieboriaa/ACME_20241112-093840-407731\n",
      "INFO:<ParallelMap>:SUCCESS! Finished parallel computation. Results have been saved to /cs/home/tlaieboriaa/ACME_20241112-093840-407731\n"
     ]
    },
    {
     "name": "stdout",
     "output_type": "stream",
     "text": [
      "8\n"
     ]
    },
    {
     "name": "stderr",
     "output_type": "stream",
     "text": [
      "<ParallelMap> INFO: Attaching to global parallel computing client <Client: 'tcp://10.100.32.3:41259' processes=50 threads=50, memory=372.50 GiB>\n",
      "INFO:<ParallelMap>:Attaching to global parallel computing client <Client: 'tcp://10.100.32.3:41259' processes=50 threads=50, memory=372.50 GiB>\n",
      "<ParallelMap> INFO: Preparing 50 parallel calls of `fit_model_cv` using 50 workers\n",
      "INFO:<ParallelMap>:Preparing 50 parallel calls of `fit_model_cv` using 50 workers\n",
      "<ParallelMap> INFO: Log information available at /cs/slurm/tlaieboriaa/tlaieboriaa_20241112-093101\n",
      "INFO:<ParallelMap>:Log information available at /cs/slurm/tlaieboriaa/tlaieboriaa_20241112-093101\n",
      "100% |██████████| 50/50 [00:08<00:00]\n",
      "<ParallelMap> INFO: SUCCESS! Finished parallel computation. Results have been saved to /cs/home/tlaieboriaa/ACME_20241112-093950-359548\n",
      "INFO:<ParallelMap>:SUCCESS! Finished parallel computation. Results have been saved to /cs/home/tlaieboriaa/ACME_20241112-093950-359548\n"
     ]
    },
    {
     "name": "stdout",
     "output_type": "stream",
     "text": [
      "9\n"
     ]
    },
    {
     "name": "stderr",
     "output_type": "stream",
     "text": [
      "<ParallelMap> INFO: Attaching to global parallel computing client <Client: 'tcp://10.100.32.3:41259' processes=50 threads=50, memory=372.50 GiB>\n",
      "INFO:<ParallelMap>:Attaching to global parallel computing client <Client: 'tcp://10.100.32.3:41259' processes=50 threads=50, memory=372.50 GiB>\n",
      "<ParallelMap> INFO: Preparing 50 parallel calls of `fit_model_cv` using 50 workers\n",
      "INFO:<ParallelMap>:Preparing 50 parallel calls of `fit_model_cv` using 50 workers\n",
      "<ParallelMap> INFO: Log information available at /cs/slurm/tlaieboriaa/tlaieboriaa_20241112-093101\n",
      "INFO:<ParallelMap>:Log information available at /cs/slurm/tlaieboriaa/tlaieboriaa_20241112-093101\n",
      "100% |██████████| 50/50 [00:09<00:00]\n",
      "<ParallelMap> INFO: SUCCESS! Finished parallel computation. Results have been saved to /cs/home/tlaieboriaa/ACME_20241112-094101-421047\n",
      "INFO:<ParallelMap>:SUCCESS! Finished parallel computation. Results have been saved to /cs/home/tlaieboriaa/ACME_20241112-094101-421047\n"
     ]
    },
    {
     "name": "stdout",
     "output_type": "stream",
     "text": [
      "10\n"
     ]
    }
   ],
   "source": [
    "for ii, num_states in enumerate(internal_states):\n",
    "    emission_dims, covariate_dims, paramss, param_propss, keyss, num_statess = [], [], [], [], [], []\n",
    "    for s in range(nReps):\n",
    "        for cv_counter in range(nSplits):\n",
    "            \n",
    "            SEED_cv = jr.PRNGKey(valid_seeds[int(s*cv_counter)])\n",
    "            #SEED_cv = next(keys)\n",
    "\n",
    "            mslr = LinearRegressionHMM(num_states, covariate_dim, emission_dim)\n",
    "\n",
    "            init_params, param_props = mslr.initialize(SEED_cv)\n",
    "            \n",
    "            keyss.append(SEED_cv)\n",
    "            paramss.append(init_params)\n",
    "            param_propss.append(param_props)\n",
    "            num_statess.append(num_states)\n",
    "            covariate_dims.append(covariate_dim)\n",
    "            emission_dims.append(emission_dim)\n",
    "            \n",
    "    # Evaluate MSLR models in parallel\n",
    "    pmap = acme.ParallelMap(fit_model_cv, X_cv_fin[ii], y_cv_fin[ii], X_val_fin[ii], y_val_fin[ii], num_statess, covariate_dims, emission_dims, paramss, param_propss, \n",
    "                            n_inputs=len(paramss), setup_timeout=1)\n",
    "\n",
    "    with pmap as p:\n",
    "        results = p.compute()\n",
    "\n",
    "    for rr, fname in enumerate(results):\n",
    "        with h5py.File(fname, 'r') as f:\n",
    "            r2_cv[ii, rr] = float(np.array(f['result_0']))\n",
    "    print(ii+internal_states[0])"
   ]
  },
  {
   "cell_type": "code",
   "execution_count": 35,
   "id": "7a51eb55",
   "metadata": {},
   "outputs": [
    {
     "data": {
      "image/png": "[encoded data removed]",
      "text/plain": [
       "<Figure size 500x400 with 1 Axes>"
      ]
     },
     "metadata": {},
     "output_type": "display_data"
    }
   ],
   "source": [
    "max_r2_cv = np.nanmax(r2_cv, axis=1)  # calculate the max along axis=1\n",
    "shaded_r2_cv = np.nanpercentile(r2_cv, 90, axis=1)  # calculate the standard deviation along axis=1\n",
    "plt.figure(figsize = (5, 4))\n",
    "plt.plot(internal_states, max_r2_cv, color = 'black', marker = 'o', mfc = 'white', ms = 10)  # plot the max r2_cv\n",
    "plt.axvline(num_states_true, color = 'black', label = r\"Ground-truth $n_s$\")\n",
    "plt.axvline(np.argmax(max_r2_cv) + internal_states[0], label = r\"Best-performing $n_s$\")\n",
    "plt.fill_between(internal_states, shaded_r2_cv, max_r2_cv, color='gray', alpha=0.5)\n",
    "plt.xlabel('Internal States', fontsize = 14)\n",
    "plt.ylabel(r\"$R^2$\", fontsize = 14)\n",
    "plt.yticks(fontsize = 14)\n",
    "plt.xticks(fontsize = 14)\n",
    "plt.legend(handlelength = 0, frameon = False, labelcolor = 'linecolor',fontsize = 12)\n",
    "sns.despine()\n",
    "plt.tight_layout()\n",
    "plt.savefig('Results/CV_Curve_Synthetic_12112024.svg', transparent = True)"
   ]
  },
  {
   "cell_type": "code",
   "execution_count": 6,
   "id": "92795b60",
   "metadata": {},
   "outputs": [
    {
     "data": {
      "text/plain": [
       "Text(0.5, 0, '# internal states')"
      ]
     },
     "execution_count": 6,
     "metadata": {},
     "output_type": "execute_result"
    },
    {
     "data": {
      "image/png": "[encoded data removed]",
      "text/plain": [
       "<Figure size 640x480 with 1 Axes>"
      ]
     },
     "metadata": {},
     "output_type": "display_data"
    }
   ],
   "source": [
    "diffs = np.diff(max_r2_cv)\n",
    "diffs = np.concatenate([[0], diffs])\n",
    "\n",
    "\n",
    "plt.bar(x = internal_states, height = diffs, color = cols_mouse[0], width = 0.35, alpha = 0.6)\n",
    "plt.bar(x = [internal_states[2]], height = [diffs[2]], color = cols_mouse[1], width = 0.35, alpha = 1)\n",
    "\n",
    "plt.axhline(0, ls = '--', color = 'gray', zorder = -1)\n",
    "sns.despine()\n",
    "plt.ylabel(r'$\\Delta R^2$', fontsize = 18)\n",
    "plt.xticks(internal_states, internal_states, fontsize = 16)\n",
    "plt.yticks(np.linspace(0, 0.1, 5), np.linspace(0, 0.1, 5).astype(np.float16), fontsize = 16)\n",
    "plt.xlabel('# internal states', fontsize = 18)\n",
    "#plt.savefig('Results/Derivative_CVR2_NumStates_07112024.svg', transparent = True)"
   ]
  },
  {
   "cell_type": "code",
   "execution_count": 32,
   "id": "2bd5af12",
   "metadata": {},
   "outputs": [
    {
     "data": {
      "text/html": [
       "\n",
       "<style>\n",
       "    /* Turns off some styling */\n",
       "    progress {\n",
       "        /* gets rid of default border in Firefox and Opera. */\n",
       "        border: none;\n",
       "        /* Needs to be in here for Safari polyfill so background images work as expected. */\n",
       "        background-size: auto;\n",
       "    }\n",
       "    progress:not([value]), progress:not([value])::-webkit-progress-bar {\n",
       "        background: repeating-linear-gradient(45deg, #7e7e7e, #7e7e7e 10px, #5c5c5c 10px, #5c5c5c 20px);\n",
       "    }\n",
       "    .progress-bar-interrupted, .progress-bar-interrupted::-webkit-progress-bar {\n",
       "        background: #F44336;\n",
       "    }\n",
       "</style>\n"
      ],
      "text/plain": [
       "<IPython.core.display.HTML object>"
      ]
     },
     "metadata": {},
     "output_type": "display_data"
    },
    {
     "data": {
      "text/html": [
       "\n",
       "    <div>\n",
       "      <progress value='50' class='' max='50' style='width:300px; height:20px; vertical-align: middle;'></progress>\n",
       "      100.00% [50/50 00:02&lt;00:00]\n",
       "    </div>\n",
       "    "
      ],
      "text/plain": [
       "<IPython.core.display.HTML object>"
      ]
     },
     "metadata": {},
     "output_type": "display_data"
    },
    {
     "name": "stdout",
     "output_type": "stream",
     "text": [
      "Mouse: Computing pairwise Jensen-Shannon Divergence...\n",
      "Mouse: Performing 200 surrogate shuffles...\n"
     ]
    },
    {
     "name": "stderr",
     "output_type": "stream",
     "text": [
      "Shuffling:   0%|          | 0/200 [00:00<?, ?it/s]WARNING:absl:No GPU/TPU found, falling back to CPU. (Set TF_CPP_MIN_LOG_LEVEL=0 and rerun for more info.)\n",
      "WARNING:absl:No GPU/TPU found, falling back to CPU. (Set TF_CPP_MIN_LOG_LEVEL=0 and rerun for more info.)\n",
      "WARNING:absl:No GPU/TPU found, falling back to CPU. (Set TF_CPP_MIN_LOG_LEVEL=0 and rerun for more info.)\n",
      "WARNING:absl:No GPU/TPU found, falling back to CPU. (Set TF_CPP_MIN_LOG_LEVEL=0 and rerun for more info.)\n",
      "Shuffling:  16%|█▌        | 32/200 [00:01<00:05, 30.60it/s]WARNING:absl:No GPU/TPU found, falling back to CPU. (Set TF_CPP_MIN_LOG_LEVEL=0 and rerun for more info.)\n",
      "WARNING:absl:No GPU/TPU found, falling back to CPU. (Set TF_CPP_MIN_LOG_LEVEL=0 and rerun for more info.)\n",
      "WARNING:absl:No GPU/TPU found, falling back to CPU. (Set TF_CPP_MIN_LOG_LEVEL=0 and rerun for more info.)\n",
      "WARNING:absl:No GPU/TPU found, falling back to CPU. (Set TF_CPP_MIN_LOG_LEVEL=0 and rerun for more info.)\n",
      "WARNING:absl:No GPU/TPU found, falling back to CPU. (Set TF_CPP_MIN_LOG_LEVEL=0 and rerun for more info.)\n",
      "WARNING:absl:No GPU/TPU found, falling back to CPU. (Set TF_CPP_MIN_LOG_LEVEL=0 and rerun for more info.)\n",
      "WARNING:absl:No GPU/TPU found, falling back to CPU. (Set TF_CPP_MIN_LOG_LEVEL=0 and rerun for more info.)\n",
      "WARNING:absl:No GPU/TPU found, falling back to CPU. (Set TF_CPP_MIN_LOG_LEVEL=0 and rerun for more info.)\n",
      "Shuffling:  40%|████      | 80/200 [00:01<00:01, 84.08it/s]WARNING:absl:No GPU/TPU found, falling back to CPU. (Set TF_CPP_MIN_LOG_LEVEL=0 and rerun for more info.)\n",
      "Shuffling: 100%|██████████| 200/200 [00:01<00:00, 163.72it/s]\n",
      "WARNING:absl:No GPU/TPU found, falling back to CPU. (Set TF_CPP_MIN_LOG_LEVEL=0 and rerun for more info.)\n",
      "WARNING:absl:No GPU/TPU found, falling back to CPU. (Set TF_CPP_MIN_LOG_LEVEL=0 and rerun for more info.)\n",
      "WARNING:absl:No GPU/TPU found, falling back to CPU. (Set TF_CPP_MIN_LOG_LEVEL=0 and rerun for more info.)\n"
     ]
    },
    {
     "name": "stdout",
     "output_type": "stream",
     "text": [
      "Mouse: Percentile threshold = 0.1388\n",
      "Mouse: Number of clusters below threshold: 5\n",
      "Cluster 1: A, E, F, I\n",
      "Cluster 2: B, D, H\n",
      "Cluster 3: C\n",
      "Cluster 4: J\n",
      "Cluster 5: G\n"
     ]
    },
    {
     "data": {
      "image/png": "[encoded data removed]",
      "text/plain": [
       "<Figure size 500x400 with 1 Axes>"
      ]
     },
     "metadata": {},
     "output_type": "display_data"
    }
   ],
   "source": [
    "import numpy as np\n",
    "from scipy.cluster.hierarchy import linkage, dendrogram, fcluster\n",
    "from scipy.spatial.distance import squareform, jensenshannon\n",
    "from scipy.stats import ks_2samp\n",
    "import matplotlib.pyplot as plt\n",
    "from joblib import Parallel, delayed\n",
    "import itertools\n",
    "from functools import partial\n",
    "import os\n",
    "from tqdm import tqdm  # For progress bars\n",
    "import seaborn as sns\n",
    "import cmcrameri as cmc\n",
    "\n",
    "# Ensure reproducibility\n",
    "np.random.seed(42)\n",
    "\n",
    "def hierarchical_clustering_single_session(\n",
    "    predicted_states,\n",
    "    y_test,\n",
    "    all_states,\n",
    "    species='Species',\n",
    "    colors=None,\n",
    "    n_shuff=1000,\n",
    "    significance_method='percentile',\n",
    "    significance_threshold_1=90,\n",
    "    significance_threshold_2=99,\n",
    "    metric='ks',\n",
    "    num_bins=30,\n",
    "    n_jobs=-1,\n",
    "    ax=None\n",
    "):\n",
    "    \"\"\"\n",
    "    Performs hierarchical clustering using either KS test or JSD for 1D emission distributions.\n",
    "    Includes surrogate shuffles by randomly shuffling state assignments globally across the single session.\n",
    "\n",
    "    Parameters:\n",
    "    - predicted_states: 1D array containing predicted states for the single session.\n",
    "    - y_test: 2D array containing emission data for the single session.\n",
    "    - all_states: Integer representing the total number of states.\n",
    "    - species: String for labeling purposes.\n",
    "    - colors: List or array of colors for dendrogram labels.\n",
    "    - n_shuff: Number of surrogate shuffles.\n",
    "    - significance_method: Method to compute significance threshold ('percentile' or 'zscore').\n",
    "    - significance_threshold: Percentile value or z-score multiplier for threshold.\n",
    "    - metric: 'ks' for Kolmogorov-Smirnov or 'jsd' for Jensen-Shannon Divergence.\n",
    "    - num_bins: Number of bins for histogram-based distribution estimation (used for JSD).\n",
    "    - n_jobs: Number of parallel jobs (-1 uses all available cores).\n",
    "    - ax: Matplotlib Axes object to plot the dendrogram. If None, a new figure is created.\n",
    "    \"\"\"\n",
    "    \n",
    "    # Initialize Axes if not provided\n",
    "    if ax is None:\n",
    "        fig, ax = plt.subplots(figsize=(10, 6))\n",
    "    \n",
    "    # Collect emissions per state\n",
    "    emissions_per_state = {state: [] for state in range(all_states)}\n",
    "    \n",
    "    for state in range(all_states):\n",
    "        state_emissions = y_test[predicted_states == state, 0]\n",
    "        if state_emissions.size > 0:\n",
    "            emissions_per_state[state].extend(state_emissions)\n",
    "    \n",
    "    # Remove states with no data\n",
    "    valid_states = [s for s, e in emissions_per_state.items() if len(e) > 0]\n",
    "    state_letters = ['A', 'B', 'C', 'D', 'E', 'F', 'G', 'H', 'I', 'J']  # Extend as needed\n",
    "    state_labels = [f\"{state_letters[s]}\" for s in valid_states]\n",
    "    emissions_per_state = {s: np.array(emissions_per_state[s]) for s in valid_states}\n",
    "    \n",
    "    # Compute histograms for each state (assuming 1D data)\n",
    "    # Combine all emissions to determine bin edges\n",
    "    all_emissions = np.hstack([emissions_per_state[s] for s in valid_states])\n",
    "    bin_width = 2 * (np.percentile(all_emissions, 75) - np.percentile(all_emissions, 25)) / np.power(len(all_emissions), 1/3)  # Freedman-Diaconis rule\n",
    "    num_bins = max(10, int((np.max(all_emissions) - np.min(all_emissions)) / bin_width))  # Ensure at least 10 bins\n",
    "    bin_edges = np.histogram_bin_edges(all_emissions, bins=num_bins)\n",
    "    \n",
    "    # Compute histograms for each state\n",
    "    histograms = []\n",
    "    for state in valid_states:\n",
    "        hist, _ = np.histogram(emissions_per_state[state], bins=bin_edges, density=True)\n",
    "        hist = np.nan_to_num(hist)  # Replace NaN or inf with zero\n",
    "        histograms.append(hist)\n",
    "    histograms = np.array(histograms)\n",
    "    \n",
    "    print(f\"{species}: Computing pairwise Jensen-Shannon Divergence...\")\n",
    "    num_valid = len(valid_states)\n",
    "    \n",
    "    # Generate all unique pairs (i, j) where i < j\n",
    "    pairs = list(itertools.combinations(range(num_valid), 2))\n",
    "    \n",
    "    # Define a function to compute JSD for a pair\n",
    "    def compute_jsd(i, j):\n",
    "        jsd = jensenshannon(histograms[i], histograms[j])**2  # JSD squared\n",
    "        return (i, j, jsd)\n",
    "    \n",
    "    # Parallel computation of JSD\n",
    "    results = Parallel(n_jobs=n_jobs)(\n",
    "        delayed(compute_jsd)(i, j) for i, j in pairs\n",
    "    )\n",
    "    \n",
    "    # Initialize distance matrix\n",
    "    distance_matrix = np.zeros((num_valid, num_valid))\n",
    "    for i, j, jsd in results:\n",
    "        distance_matrix[i, j] = jsd\n",
    "        distance_matrix[j, i] = jsd  # Symmetric\n",
    "    \n",
    "    condensed_distance = squareform(distance_matrix)\n",
    "\n",
    "    # Hierarchical clustering\n",
    "    linkage_matrix = linkage(condensed_distance, method='average')\n",
    "    \n",
    "    # Surrogate similarity computation\n",
    "    surrogate_distances = []\n",
    "    \n",
    "    print(f\"{species}: Performing {n_shuff} surrogate shuffles...\")\n",
    "    \n",
    "    # Precompute all emissions and state assignments globally\n",
    "    all_emissions = y_test[:, 0].copy()\n",
    "    all_states_flat = predicted_states.copy()\n",
    "    \n",
    "    def perform_global_shuffle(shuffle_idx, all_states_flat, valid_states, bin_edges=None, metric='ks', histograms=None):\n",
    "        \"\"\"\n",
    "        Performs a single surrogate shuffle by shuffling state assignments globally.\n",
    "        Returns the condensed distance array for this shuffle.\n",
    "        \"\"\"\n",
    "        # Shuffle state assignments globally\n",
    "        shuffled_states = np.random.permutation(all_states_flat)\n",
    "        \n",
    "        # Assign emissions to shuffled states\n",
    "        surrogate_emissions_per_state = {s: all_emissions[shuffled_states == s] for s in valid_states}\n",
    "        \n",
    "        # Compute histograms for surrogate states\n",
    "        surrogate_histograms = []\n",
    "        for s in valid_states:\n",
    "            hist, _ = np.histogram(surrogate_emissions_per_state[s], bins=bin_edges, density=True)\n",
    "            hist = np.nan_to_num(hist)\n",
    "            surrogate_histograms.append(hist)\n",
    "        surrogate_histograms = np.array(surrogate_histograms)\n",
    "        \n",
    "        # Compute pairwise JSD distances\n",
    "        surrogate_distance_matrix = np.zeros((len(valid_states), len(valid_states)))\n",
    "        \n",
    "        for (i, j) in itertools.combinations(range(len(valid_states)), 2):\n",
    "            surrogate_distance = jensenshannon(surrogate_histograms[i], surrogate_histograms[j])**2\n",
    "            surrogate_distance_matrix[i, j] = surrogate_distance\n",
    "            surrogate_distance_matrix[j, i] = surrogate_distance  # Symmetric\n",
    "        \n",
    "        surrogate_condensed = squareform(surrogate_distance_matrix)\n",
    "        return surrogate_condensed\n",
    "    \n",
    "\n",
    "    # Partial function with fixed arguments except shuffle_idx\n",
    "    shuffle_func = partial(\n",
    "        perform_global_shuffle,\n",
    "        all_states_flat=all_states_flat,\n",
    "        valid_states=valid_states,\n",
    "        bin_edges=bin_edges,\n",
    "        metric=metric,\n",
    "        histograms=histograms\n",
    "    )\n",
    "    \n",
    "    # Parallel execution of shuffles with a progress bar\n",
    "    surrogate_results = Parallel(n_jobs=n_jobs)(\n",
    "        delayed(shuffle_func)(shuffle_idx) for shuffle_idx in tqdm(range(n_shuff), desc=\"Shuffling\")\n",
    "    )\n",
    "    \n",
    "    # Combine all surrogate distances\n",
    "    surrogate_distances = np.concatenate(surrogate_results)\n",
    "    \n",
    "    # Compute the significance threshold\n",
    "    threshold = np.percentile(surrogate_distances, significance_threshold_1)\n",
    "    \n",
    "    print(f\"{species}: {significance_method.capitalize()} threshold = {threshold:.4f}\")\n",
    "    \n",
    "    # Assign cluster labels based on the threshold\n",
    "    cluster_labels = fcluster(linkage_matrix, t=threshold, criterion='distance')\n",
    "    num_clusters = len(np.unique(cluster_labels))\n",
    "    print(f\"{species}: Number of clusters below threshold: {num_clusters}\")\n",
    "    \n",
    "    # Optionally, print cluster memberships\n",
    "    for cluster in range(1, num_clusters + 1):\n",
    "        members = [state_labels[i] for i, label in enumerate(cluster_labels) if label == cluster]\n",
    "        print(f\"Cluster {cluster}: {', '.join(members)}\")\n",
    "    \n",
    "    # Compute additional percentiles for shaded region (e.g., 90th and 99th)\n",
    "    ymin = np.percentile(surrogate_distances, significance_threshold_1)\n",
    "    ymax = np.percentile(surrogate_distances, significance_threshold_2)\n",
    "    \n",
    "    # Plot dendrogram\n",
    "    dendrogram(\n",
    "        linkage_matrix,\n",
    "        labels=state_labels,\n",
    "        color_threshold=threshold,\n",
    "        ax=ax,\n",
    "        above_threshold_color='grey'\n",
    "    )\n",
    "    \n",
    "    # Add shaded region\n",
    "    ax.axhspan(\n",
    "        ymin=ymin,\n",
    "        ymax=ymax,\n",
    "        linestyle='dotted',\n",
    "        color='grey',\n",
    "        alpha=0.3,\n",
    "        label='Significance Range ('+str(np.round(significance_threshold_1, 2))+'-'+str(np.round(significance_threshold_2, 2))+'%)'\n",
    "    )\n",
    "    \n",
    "    ax.set_title(f'Hierarchical Clustering of {species} States')\n",
    "    ax.set_ylabel('Distance' if metric == 'jsd' else 'KS Statistic')\n",
    "    ax.set_xlabel('States')\n",
    "    ax.legend()\n",
    "    \n",
    "    if colors:\n",
    "        ax.set_xticks(ax.get_xticks())\n",
    "        ax.set_xticklabels(ax.get_xticklabels(), rotation=30)\n",
    "        for lbl, color in zip(ax.get_xmajorticklabels(), colors):\n",
    "            lbl.set_color(color)\n",
    "    \n",
    "    plt.tight_layout()\n",
    "\n",
    "    return surrogate_distances, linkage_matrix\n",
    "\n",
    "# Initialize and fit the MSLR model with the best performing number of states (according to the CV R2)\n",
    "mslr = LinearRegressionHMM(np.argmax(max_r2_cv) + internal_states[0], covariate_dim, emission_dim)\n",
    "init_params, init_props = mslr.initialize(SEED)\n",
    "\n",
    "# Fit the model using EM\n",
    "fit_params, lps = mslr.fit_em(init_params, init_props, emissions, inputs=inputs_train, num_iters=50)\n",
    "\n",
    "# Compute the most likely states\n",
    "most_likely_states_max_perf = mslr.most_likely_states(fit_params, emissions, inputs=inputs_train)\n",
    "\n",
    "# Create subplots for dendrograms\n",
    "fig, ax = plt.subplots(ncols=1, figsize=(5,4))  # Increased figure size for better visibility\n",
    "\n",
    "# Perform hierarchical clustering, to find out whether there's state fragmentation\n",
    "surrogate_distances, linkage_matrix = hierarchical_clustering_single_session(\n",
    "    predicted_states=most_likely_states_max_perf,\n",
    "    y_test=np.array(emissions).reshape(-1, 1),  # Ensure y_test is 2D\n",
    "    all_states=np.argmax(max_r2_cv) + internal_states[0],\n",
    "    species='Mouse',\n",
    "    colors=cols_mouse,\n",
    "    n_shuff=200,\n",
    "    significance_method='percentile',\n",
    "    significance_threshold_1=90,\n",
    "    significance_threshold_2=99,\n",
    "    metric='jsd',\n",
    "    n_jobs=os.cpu_count(),\n",
    "    ax=ax\n",
    ")\n",
    "sns.despine()\n",
    "plt.tight_layout()\n",
    "plt.savefig('Results/Dendrogram_Synthetic_12112024.svg', transparent=True)"
   ]
  },
  {
   "cell_type": "code",
   "execution_count": 8,
   "id": "99eefe1d",
   "metadata": {},
   "outputs": [
    {
     "name": "stdout",
     "output_type": "stream",
     "text": [
      "10 0.7340713628908684\n",
      "9 0.6167660402338557\n",
      "8 0.5650782315353636\n",
      "7 0.516790556621766\n",
      "6 0.5034914210279711\n",
      "5 6.189390196920108e-06\n",
      "4 2.4424906541753444e-15\n",
      "3 2.4424906541753444e-15\n",
      "2 1.9984014443252818e-15\n"
     ]
    },
    {
     "data": {
      "image/png": "[encoded data removed]",
      "text/plain": [
       "<Figure size 640x480 with 1 Axes>"
      ]
     },
     "metadata": {},
     "output_type": "display_data"
    }
   ],
   "source": [
    "from scipy.stats import gaussian_kde\n",
    "from scipy.integrate import quad\n",
    "\n",
    "#sns.histplot(data = surrogate_distances)\n",
    "dat_surr = surrogate_distances.copy()#[surrogate_distances>np.percentile(surrogate_distances, 90)]\n",
    "sns.histplot(data = dat_surr, bins = 30)\n",
    "kde = gaussian_kde(dat_surr)\n",
    "\n",
    "def compute_area_kde(kde, d):\n",
    "    # Compute CDF up to d_k\n",
    "    cdf, _ = quad(kde, -np.inf, d)\n",
    "    \n",
    "    return min(cdf, 1.0) # Ensure CDF does not exceed 1 due to numerical integration\n",
    "\n",
    "for ii in range(linkage_matrix.shape[0]):\n",
    "    print(np.argmax(max_r2_cv) + internal_states[0] - ii, 1-compute_area_kde(kde, linkage_matrix[ii,2]))\n",
    "    plt.axvline(linkage_matrix[ii,2])"
   ]
  },
  {
   "cell_type": "code",
   "execution_count": null,
   "id": "19501fd3",
   "metadata": {},
   "outputs": [],
   "source": [
    "\"\"\"Script to find suitable initializations, due to a bug in Dynamax implementation of the EM.\"\"\"\n",
    "def try_seed(ii, mslr_true):\n",
    "    SEED = jr.PRNGKey(ii)\n",
    "    true_params, true_props = mslr_true.initialize(SEED)\n",
    "    test_params, lps_true = mslr_true.fit_em(true_params, true_props, outputs, inputs = synthetic_data, num_iters = 50)\n",
    "    # Generate a series of ground-truth states and emissions.\n",
    "    true_states, emissions = mslr_true.sample(test_params, SEED, num_timesteps, inputs = synthetic_data)\n",
    "\n",
    "    # Compute the marginal log probability of the emissions under the true model\n",
    "    true_lp = mslr_true.marginal_log_prob(test_params, emissions, inputs = synthetic_data)\n",
    "\n",
    "\n",
    "    # Now fit another model to the simulated data\n",
    "    mslr = LinearRegressionHMM(num_states_true, covariate_dim, emission_dim)\n",
    "    init_params, init_props = mslr.initialize(SEED)\n",
    "\n",
    "    # To fit the model, give it a batch of emissions and a batch of corresponding inputs\n",
    "    fit_params, lps = mslr.fit_em(init_params, init_props, emissions, inputs = synthetic_data, num_iters = 50)\n",
    "\n",
    "    # Compute the most likely states\n",
    "    most_likely_states = mslr.most_likely_states(fit_params, emissions, inputs = synthetic_data)\n",
    "\n",
    "    return np.sum(np.isnan(lps))\n",
    "\n",
    "# Evaluate MSLR models in parallel\n",
    "mslr_true = LinearRegressionHMM(num_states_true, covariate_dim, emission_dim,\n",
    "                            transition_matrix_concentration = concentration, \n",
    "                            transition_matrix_stickiness = stickiness)\n",
    "mslr_list = [mslr_true for _ in range(100)]\n",
    "pmap = acme.ParallelMap(try_seed, np.arange(100), mslr_list, \n",
    "                        n_inputs=100, setup_timeout=1)\n",
    "\n",
    "with pmap as p:\n",
    "    results = p.compute()\n",
    "seed_nans = np.zeros(100)\n",
    "for rr, fname in enumerate(results):\n",
    "    with h5py.File(fname, 'r') as f:\n",
    "        seed_nans[rr] = float(np.array(f['result_0']))\n",
    "\n",
    "plt.bar(x = np.arange(100), height = seed_nans/50)\n",
    "valid_seeds = np.where(seed_nans==0)[0]\n",
    "np.save('ValidSeeds_Mouse_11112024.npy', valid_seeds)"
   ]
  },
  {
   "cell_type": "code",
   "execution_count": 5,
   "id": "bd6b4686",
   "metadata": {},
   "outputs": [
    {
     "data": {
      "text/html": [
       "\n",
       "<style>\n",
       "    /* Turns off some styling */\n",
       "    progress {\n",
       "        /* gets rid of default border in Firefox and Opera. */\n",
       "        border: none;\n",
       "        /* Needs to be in here for Safari polyfill so background images work as expected. */\n",
       "        background-size: auto;\n",
       "    }\n",
       "    progress:not([value]), progress:not([value])::-webkit-progress-bar {\n",
       "        background: repeating-linear-gradient(45deg, #7e7e7e, #7e7e7e 10px, #5c5c5c 10px, #5c5c5c 20px);\n",
       "    }\n",
       "    .progress-bar-interrupted, .progress-bar-interrupted::-webkit-progress-bar {\n",
       "        background: #F44336;\n",
       "    }\n",
       "</style>\n"
      ],
      "text/plain": [
       "<IPython.core.display.HTML object>"
      ]
     },
     "metadata": {},
     "output_type": "display_data"
    },
    {
     "data": {
      "text/html": [
       "\n",
       "    <div>\n",
       "      <progress value='50' class='' max='50' style='width:300px; height:20px; vertical-align: middle;'></progress>\n",
       "      100.00% [50/50 00:01&lt;00:00]\n",
       "    </div>\n",
       "    "
      ],
      "text/plain": [
       "<IPython.core.display.HTML object>"
      ]
     },
     "metadata": {},
     "output_type": "display_data"
    }
   ],
   "source": [
    "import cmcrameri as cmc\n",
    "\n",
    "# Now fit another model to the simulated data\n",
    "mslr = LinearRegressionHMM(num_states_true, covariate_dim, emission_dim)\n",
    "init_params, init_props = mslr.initialize(SEED)\n",
    "\n",
    "# To fit the model, give it a batch of emissions and a batch of corresponding inputs\n",
    "fit_params, lps = mslr.fit_em(init_params, init_props, emissions, inputs = inputs_train, num_iters = 50)\n",
    "\n",
    "# Compute the most likely states\n",
    "most_likely_states = mslr.most_likely_states(fit_params, emissions, inputs = inputs_train)"
   ]
  },
  {
   "cell_type": "code",
   "execution_count": 34,
   "id": "b1f567fb",
   "metadata": {},
   "outputs": [
    {
     "data": {
      "image/png": "[encoded data removed]",
      "text/plain": [
       "<Figure size 500x250 with 1 Axes>"
      ]
     },
     "metadata": {},
     "output_type": "display_data"
    },
    {
     "data": {
      "image/png": "[encoded data removed]",
      "text/plain": [
       "<Figure size 900x300 with 2 Axes>"
      ]
     },
     "metadata": {},
     "output_type": "display_data"
    },
    {
     "data": {
      "image/png": "[encoded data removed]",
      "text/plain": [
       "<Figure size 640x480 with 2 Axes>"
      ]
     },
     "metadata": {},
     "output_type": "display_data"
    }
   ],
   "source": [
    "# Plot the log probability over EM iterations\n",
    "plt.figure(figsize = (5,2.5))\n",
    "plt.plot(lps, color = 'gray')\n",
    "plt.plot([0, len(lps)], true_lp * jnp.ones(2), '--k')\n",
    "plt.xlabel(\"EM iteration\")\n",
    "plt.ylabel(\"log joint probability\")\n",
    "plt.xlim([0, len(lps)])\n",
    "plt.ticklabel_format(style='sci', axis='y', scilimits=(0,0))\n",
    "plt.tight_layout()\n",
    "sns.despine()\n",
    "plt.savefig('Results/LPS_synthetic_12112024.svg', transparent = True)\n",
    "\n",
    "# Compare them to the true states\n",
    "fig, ax = plt.subplots(nrows = 2, figsize = (9,3))\n",
    "sns.despine()\n",
    "states_all = np.arange(num_states_true)\n",
    "titls = [\"true\", \"inferred\"]\n",
    "stats = [true_states, most_likely_states]\n",
    "xlim1 = 100\n",
    "xlim2 = 500\n",
    "for ii in range(2):\n",
    "    for jj in states_all:\n",
    "        idx = stats[ii] == jj\n",
    "        if np.sum(idx):\n",
    "            ax[ii].eventplot(np.where(idx)[0], color = cols_mouse[jj])\n",
    "    if ii == 1:\n",
    "        ax[ii].set_xlabel('Trials', fontsize = 20)\n",
    "        ax[ii].set_xticks(ticks = np.arange(xlim1, xlim2 + 1, 50), labels = np.arange(xlim1, xlim2 + 1, 50).astype(int), fontsize = 18)\n",
    "\n",
    "    else:\n",
    "        ax[ii].set_xticklabels([])\n",
    "    ax[ii].set_xlim(xlim1, xlim2)\n",
    "    ax[ii].set_ylim(1, 1.5)\n",
    "    ax[ii].set_yticks([1.25], [titls[ii]], fontsize = 18, rotation = 90)\n",
    "plt.tight_layout()\n",
    "plt.savefig('Results/StateExamples_synthetic_12112024.png', transparent = True, dpi = 300)\n",
    "#plt.savefig('Results/StateExamples_synthetic_12112024.svg', transparent = True)\n",
    "\n",
    "\n",
    "cors = find_similar_states(true_states, most_likely_states)\n",
    "mask = np.abs(cors)<0.5\n",
    "plt.figure()\n",
    "sns.heatmap(cors, annot = True, vmin = -1, vmax = 1, cmap = 'cmc.bam', mask = mask)\n",
    "plt.xlabel('Predicted')\n",
    "plt.ylabel('Ground truth')\n",
    "plt.savefig('Results/StateCorr_synthetic_12112024.svg', transparent = True)\n"
   ]
  }
 ],
 "metadata": {
  "kernelspec": {
   "display_name": "Cluster-GLMHMM3",
   "language": "python",
   "name": "python3"
  },
  "language_info": {
   "codemirror_mode": {
    "name": "ipython",
    "version": 3
   },
   "file_extension": ".py",
   "mimetype": "text/x-python",
   "name": "python",
   "nbconvert_exporter": "python",
   "pygments_lexer": "ipython3",
   "version": "3.9.6"
  }
 },
 "nbformat": 4,
 "nbformat_minor": 5
}
