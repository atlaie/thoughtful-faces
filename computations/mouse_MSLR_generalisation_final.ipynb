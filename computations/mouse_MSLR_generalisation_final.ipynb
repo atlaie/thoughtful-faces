{
 "cells": [
  {
   "cell_type": "code",
   "execution_count": null,
   "metadata": {},
   "outputs": [
    {
     "name": "stderr",
     "output_type": "stream",
     "text": [
      "<ParallelMap> WARNING: <cluster_cleanup> No dangling clients or clusters found.\n",
      "WARNING:<ParallelMap>:<cluster_cleanup> No dangling clients or clusters found.\n"
     ]
    },
    {
     "name": "stderr",
     "output_type": "stream",
     "text": [
      "/gs/home/tlaieboriaa/.conda/envs/Cluster-GLMHMM3/lib/python3.9/site-packages/distributed/node.py:177: UserWarning: Port 8787 is already in use.\n",
      "Perhaps you already have a cluster running?\n",
      "Hosting the HTTP server on port 39957 instead\n",
      "  warnings.warn(\n",
      "<ParallelMap> INFO: <slurm_cluster_setup> Requested job-count 5 exceeds `n_jobs_startup`: waiting for 2 jobs to come online, then proceed\n",
      "INFO:<ParallelMap>:<slurm_cluster_setup> Requested job-count 5 exceeds `n_jobs_startup`: waiting for 2 jobs to come online, then proceed\n",
      "<slurm_cluster_setup> SLURM workers ready: 5/None \t[elapsed time 00:11 | timeout at :40:00]\n",
      "<ParallelMap> INFO: <slurm_cluster_setup> Cluster dashboard accessible at http://10.100.32.3:39957/status\n",
      "INFO:<ParallelMap>:<slurm_cluster_setup> Cluster dashboard accessible at http://10.100.32.3:39957/status\n"
     ]
    },
    {
     "name": "stdout",
     "output_type": "stream",
     "text": [
      "N frames missed: 22\n",
      "GFrameNumber does not match first PresentCount, automatically adjusting\n",
      "AnimalCharacter_C_2147482442\n",
      "N frames missed: 22\n",
      "GFrameNumber does not match first PresentCount, automatically adjusting\n"
     ]
    },
    {
     "name": "stderr",
     "output_type": "stream",
     "text": [
      "/gs/home/tlaieboriaa/.conda/envs/Cluster-GLMHMM3/lib/python3.9/site-packages/numpy/core/shape_base.py:121: VisibleDeprecationWarning: Creating an ndarray from ragged nested sequences (which is a list-or-tuple of lists-or-tuples-or ndarrays with different lengths or shapes) is deprecated. If you meant to do this, you must specify 'dtype=object' when creating the ndarray.\n",
      "  ary = asanyarray(ary)\n",
      "<ParallelMap> INFO: Attaching to global parallel computing client <Client: 'tcp://10.100.32.3:35387' processes=5 threads=5, memory=37.25 GiB>\n",
      "INFO:<ParallelMap>:Attaching to global parallel computing client <Client: 'tcp://10.100.32.3:35387' processes=5 threads=5, memory=37.25 GiB>\n",
      "<ParallelMap> INFO: Preparing 6 parallel calls of `medianPos` using 5 workers\n",
      "INFO:<ParallelMap>:Preparing 6 parallel calls of `medianPos` using 5 workers\n",
      "<ParallelMap> INFO: Log information available at /cs/slurm/tlaieboriaa/tlaieboriaa_20241114-170858\n",
      "INFO:<ParallelMap>:Log information available at /cs/slurm/tlaieboriaa/tlaieboriaa_20241114-170858\n",
      "100% |██████████| 6/6 [00:04<00:00]\n",
      "<ParallelMap> INFO: SUCCESS! Finished parallel computation. Results have been saved to /cs/home/tlaieboriaa/ACME_20241114-175736-210611\n",
      "INFO:<ParallelMap>:SUCCESS! Finished parallel computation. Results have been saved to /cs/home/tlaieboriaa/ACME_20241114-175736-210611\n"
     ]
    },
    {
     "name": "stdout",
     "output_type": "stream",
     "text": [
      "N frames missed: 34\n",
      "AnimalCharacter_C_2147482442\n",
      "N frames missed: 34\n"
     ]
    },
    {
     "name": "stderr",
     "output_type": "stream",
     "text": [
      "/gs/home/tlaieboriaa/.conda/envs/Cluster-GLMHMM3/lib/python3.9/site-packages/numpy/core/shape_base.py:121: VisibleDeprecationWarning: Creating an ndarray from ragged nested sequences (which is a list-or-tuple of lists-or-tuples-or ndarrays with different lengths or shapes) is deprecated. If you meant to do this, you must specify 'dtype=object' when creating the ndarray.\n",
      "  ary = asanyarray(ary)\n",
      "<ParallelMap> INFO: Attaching to global parallel computing client <Client: 'tcp://10.100.32.3:35387' processes=5 threads=5, memory=37.25 GiB>\n",
      "INFO:<ParallelMap>:Attaching to global parallel computing client <Client: 'tcp://10.100.32.3:35387' processes=5 threads=5, memory=37.25 GiB>\n",
      "<ParallelMap> INFO: Preparing 6 parallel calls of `medianPos` using 5 workers\n",
      "INFO:<ParallelMap>:Preparing 6 parallel calls of `medianPos` using 5 workers\n",
      "<ParallelMap> INFO: Log information available at /cs/slurm/tlaieboriaa/tlaieboriaa_20241114-170858\n",
      "INFO:<ParallelMap>:Log information available at /cs/slurm/tlaieboriaa/tlaieboriaa_20241114-170858\n",
      "100% |██████████| 6/6 [00:00<00:00]\n",
      "<ParallelMap> INFO: SUCCESS! Finished parallel computation. Results have been saved to /cs/home/tlaieboriaa/ACME_20241114-175813-309874\n",
      "INFO:<ParallelMap>:SUCCESS! Finished parallel computation. Results have been saved to /cs/home/tlaieboriaa/ACME_20241114-175813-309874\n"
     ]
    },
    {
     "name": "stdout",
     "output_type": "stream",
     "text": [
      "N frames missed: 20\n",
      "AnimalCharacter_C_2147482442\n",
      "N frames missed: 20\n"
     ]
    },
    {
     "name": "stderr",
     "output_type": "stream",
     "text": [
      "/gs/home/tlaieboriaa/.conda/envs/Cluster-GLMHMM3/lib/python3.9/site-packages/numpy/core/shape_base.py:121: VisibleDeprecationWarning: Creating an ndarray from ragged nested sequences (which is a list-or-tuple of lists-or-tuples-or ndarrays with different lengths or shapes) is deprecated. If you meant to do this, you must specify 'dtype=object' when creating the ndarray.\n",
      "  ary = asanyarray(ary)\n",
      "<ParallelMap> INFO: Attaching to global parallel computing client <Client: 'tcp://10.100.32.3:35387' processes=5 threads=5, memory=37.25 GiB>\n",
      "INFO:<ParallelMap>:Attaching to global parallel computing client <Client: 'tcp://10.100.32.3:35387' processes=5 threads=5, memory=37.25 GiB>\n",
      "<ParallelMap> INFO: Preparing 6 parallel calls of `medianPos` using 5 workers\n",
      "INFO:<ParallelMap>:Preparing 6 parallel calls of `medianPos` using 5 workers\n",
      "<ParallelMap> INFO: Log information available at /cs/slurm/tlaieboriaa/tlaieboriaa_20241114-170858\n",
      "INFO:<ParallelMap>:Log information available at /cs/slurm/tlaieboriaa/tlaieboriaa_20241114-170858\n",
      "100% |██████████| 6/6 [00:00<00:00]\n",
      "<ParallelMap> INFO: SUCCESS! Finished parallel computation. Results have been saved to /cs/home/tlaieboriaa/ACME_20241114-175844-192902\n",
      "INFO:<ParallelMap>:SUCCESS! Finished parallel computation. Results have been saved to /cs/home/tlaieboriaa/ACME_20241114-175844-192902\n"
     ]
    },
    {
     "name": "stdout",
     "output_type": "stream",
     "text": [
      "N frames missed: 23\n",
      "AnimalCharacter_C_2147482442\n",
      "N frames missed: 23\n"
     ]
    },
    {
     "name": "stderr",
     "output_type": "stream",
     "text": [
      "/gs/home/tlaieboriaa/.conda/envs/Cluster-GLMHMM3/lib/python3.9/site-packages/numpy/core/shape_base.py:121: VisibleDeprecationWarning: Creating an ndarray from ragged nested sequences (which is a list-or-tuple of lists-or-tuples-or ndarrays with different lengths or shapes) is deprecated. If you meant to do this, you must specify 'dtype=object' when creating the ndarray.\n",
      "  ary = asanyarray(ary)\n",
      "<ParallelMap> INFO: Attaching to global parallel computing client <Client: 'tcp://10.100.32.3:35387' processes=5 threads=5, memory=37.25 GiB>\n",
      "INFO:<ParallelMap>:Attaching to global parallel computing client <Client: 'tcp://10.100.32.3:35387' processes=5 threads=5, memory=37.25 GiB>\n",
      "<ParallelMap> INFO: Preparing 6 parallel calls of `medianPos` using 5 workers\n",
      "INFO:<ParallelMap>:Preparing 6 parallel calls of `medianPos` using 5 workers\n",
      "<ParallelMap> INFO: Log information available at /cs/slurm/tlaieboriaa/tlaieboriaa_20241114-170858\n",
      "INFO:<ParallelMap>:Log information available at /cs/slurm/tlaieboriaa/tlaieboriaa_20241114-170858\n",
      "100% |██████████| 6/6 [00:00<00:00]\n",
      "<ParallelMap> INFO: SUCCESS! Finished parallel computation. Results have been saved to /cs/home/tlaieboriaa/ACME_20241114-175919-355687\n",
      "INFO:<ParallelMap>:SUCCESS! Finished parallel computation. Results have been saved to /cs/home/tlaieboriaa/ACME_20241114-175919-355687\n"
     ]
    },
    {
     "name": "stdout",
     "output_type": "stream",
     "text": [
      "N frames missed: 25\n",
      "AnimalCharacter_C_2147482442\n",
      "N frames missed: 25\n"
     ]
    },
    {
     "name": "stderr",
     "output_type": "stream",
     "text": [
      "/gs/home/tlaieboriaa/.conda/envs/Cluster-GLMHMM3/lib/python3.9/site-packages/numpy/core/shape_base.py:121: VisibleDeprecationWarning: Creating an ndarray from ragged nested sequences (which is a list-or-tuple of lists-or-tuples-or ndarrays with different lengths or shapes) is deprecated. If you meant to do this, you must specify 'dtype=object' when creating the ndarray.\n",
      "  ary = asanyarray(ary)\n",
      "<ParallelMap> INFO: Attaching to global parallel computing client <Client: 'tcp://10.100.32.3:35387' processes=5 threads=5, memory=37.25 GiB>\n",
      "INFO:<ParallelMap>:Attaching to global parallel computing client <Client: 'tcp://10.100.32.3:35387' processes=5 threads=5, memory=37.25 GiB>\n",
      "<ParallelMap> INFO: Preparing 6 parallel calls of `medianPos` using 5 workers\n",
      "INFO:<ParallelMap>:Preparing 6 parallel calls of `medianPos` using 5 workers\n",
      "<ParallelMap> INFO: Log information available at /cs/slurm/tlaieboriaa/tlaieboriaa_20241114-170858\n",
      "INFO:<ParallelMap>:Log information available at /cs/slurm/tlaieboriaa/tlaieboriaa_20241114-170858\n",
      "100% |██████████| 6/6 [00:00<00:00]\n",
      "<ParallelMap> INFO: SUCCESS! Finished parallel computation. Results have been saved to /cs/home/tlaieboriaa/ACME_20241114-175948-606589\n",
      "INFO:<ParallelMap>:SUCCESS! Finished parallel computation. Results have been saved to /cs/home/tlaieboriaa/ACME_20241114-175948-606589\n"
     ]
    },
    {
     "name": "stdout",
     "output_type": "stream",
     "text": [
      "N frames missed: 43\n",
      "AnimalCharacter_C_2147482442\n",
      "N frames missed: 43\n"
     ]
    },
    {
     "name": "stderr",
     "output_type": "stream",
     "text": [
      "/gs/home/tlaieboriaa/.conda/envs/Cluster-GLMHMM3/lib/python3.9/site-packages/numpy/core/shape_base.py:121: VisibleDeprecationWarning: Creating an ndarray from ragged nested sequences (which is a list-or-tuple of lists-or-tuples-or ndarrays with different lengths or shapes) is deprecated. If you meant to do this, you must specify 'dtype=object' when creating the ndarray.\n",
      "  ary = asanyarray(ary)\n",
      "<ParallelMap> INFO: Attaching to global parallel computing client <Client: 'tcp://10.100.32.3:35387' processes=5 threads=5, memory=37.25 GiB>\n",
      "INFO:<ParallelMap>:Attaching to global parallel computing client <Client: 'tcp://10.100.32.3:35387' processes=5 threads=5, memory=37.25 GiB>\n",
      "<ParallelMap> INFO: Preparing 6 parallel calls of `medianPos` using 5 workers\n",
      "INFO:<ParallelMap>:Preparing 6 parallel calls of `medianPos` using 5 workers\n",
      "<ParallelMap> INFO: Log information available at /cs/slurm/tlaieboriaa/tlaieboriaa_20241114-170858\n",
      "INFO:<ParallelMap>:Log information available at /cs/slurm/tlaieboriaa/tlaieboriaa_20241114-170858\n",
      "100% |██████████| 6/6 [00:00<00:00]\n",
      "<ParallelMap> INFO: SUCCESS! Finished parallel computation. Results have been saved to /cs/home/tlaieboriaa/ACME_20241114-180033-900669\n",
      "INFO:<ParallelMap>:SUCCESS! Finished parallel computation. Results have been saved to /cs/home/tlaieboriaa/ACME_20241114-180033-900669\n"
     ]
    },
    {
     "name": "stdout",
     "output_type": "stream",
     "text": [
      "N frames missed: 24\n",
      "AnimalCharacter_C_2147482442\n",
      "N frames missed: 24\n"
     ]
    },
    {
     "name": "stderr",
     "output_type": "stream",
     "text": [
      "/gs/home/tlaieboriaa/.conda/envs/Cluster-GLMHMM3/lib/python3.9/site-packages/numpy/core/shape_base.py:121: VisibleDeprecationWarning: Creating an ndarray from ragged nested sequences (which is a list-or-tuple of lists-or-tuples-or ndarrays with different lengths or shapes) is deprecated. If you meant to do this, you must specify 'dtype=object' when creating the ndarray.\n",
      "  ary = asanyarray(ary)\n",
      "<ParallelMap> INFO: Attaching to global parallel computing client <Client: 'tcp://10.100.32.3:35387' processes=5 threads=5, memory=37.25 GiB>\n",
      "INFO:<ParallelMap>:Attaching to global parallel computing client <Client: 'tcp://10.100.32.3:35387' processes=5 threads=5, memory=37.25 GiB>\n",
      "<ParallelMap> INFO: Preparing 6 parallel calls of `medianPos` using 5 workers\n",
      "INFO:<ParallelMap>:Preparing 6 parallel calls of `medianPos` using 5 workers\n",
      "<ParallelMap> INFO: Log information available at /cs/slurm/tlaieboriaa/tlaieboriaa_20241114-170858\n",
      "INFO:<ParallelMap>:Log information available at /cs/slurm/tlaieboriaa/tlaieboriaa_20241114-170858\n",
      "100% |██████████| 6/6 [00:00<00:00]\n",
      "<ParallelMap> INFO: SUCCESS! Finished parallel computation. Results have been saved to /cs/home/tlaieboriaa/ACME_20241114-180110-837019\n",
      "INFO:<ParallelMap>:SUCCESS! Finished parallel computation. Results have been saved to /cs/home/tlaieboriaa/ACME_20241114-180110-837019\n"
     ]
    },
    {
     "name": "stdout",
     "output_type": "stream",
     "text": [
      "N frames missed: 23\n",
      "AnimalCharacter_C_2147482443\n",
      "N frames missed: 23\n"
     ]
    },
    {
     "name": "stderr",
     "output_type": "stream",
     "text": [
      "/gs/home/tlaieboriaa/.conda/envs/Cluster-GLMHMM3/lib/python3.9/site-packages/numpy/core/shape_base.py:121: VisibleDeprecationWarning: Creating an ndarray from ragged nested sequences (which is a list-or-tuple of lists-or-tuples-or ndarrays with different lengths or shapes) is deprecated. If you meant to do this, you must specify 'dtype=object' when creating the ndarray.\n",
      "  ary = asanyarray(ary)\n",
      "<ParallelMap> INFO: Attaching to global parallel computing client <Client: 'tcp://10.100.32.3:35387' processes=5 threads=5, memory=37.25 GiB>\n",
      "INFO:<ParallelMap>:Attaching to global parallel computing client <Client: 'tcp://10.100.32.3:35387' processes=5 threads=5, memory=37.25 GiB>\n",
      "<ParallelMap> INFO: Preparing 6 parallel calls of `medianPos` using 5 workers\n",
      "INFO:<ParallelMap>:Preparing 6 parallel calls of `medianPos` using 5 workers\n",
      "<ParallelMap> INFO: Log information available at /cs/slurm/tlaieboriaa/tlaieboriaa_20241114-170858\n",
      "INFO:<ParallelMap>:Log information available at /cs/slurm/tlaieboriaa/tlaieboriaa_20241114-170858\n",
      "100% |██████████| 6/6 [00:00<00:00]\n",
      "<ParallelMap> INFO: SUCCESS! Finished parallel computation. Results have been saved to /cs/home/tlaieboriaa/ACME_20241114-180151-742143\n",
      "INFO:<ParallelMap>:SUCCESS! Finished parallel computation. Results have been saved to /cs/home/tlaieboriaa/ACME_20241114-180151-742143\n"
     ]
    },
    {
     "name": "stdout",
     "output_type": "stream",
     "text": [
      "N frames missed: 10\n",
      "AnimalCharacter_C_2147482442\n",
      "N frames missed: 10\n"
     ]
    },
    {
     "name": "stderr",
     "output_type": "stream",
     "text": [
      "/gs/home/tlaieboriaa/.conda/envs/Cluster-GLMHMM3/lib/python3.9/site-packages/numpy/core/shape_base.py:121: VisibleDeprecationWarning: Creating an ndarray from ragged nested sequences (which is a list-or-tuple of lists-or-tuples-or ndarrays with different lengths or shapes) is deprecated. If you meant to do this, you must specify 'dtype=object' when creating the ndarray.\n",
      "  ary = asanyarray(ary)\n",
      "<ParallelMap> INFO: Attaching to global parallel computing client <Client: 'tcp://10.100.32.3:35387' processes=5 threads=5, memory=37.25 GiB>\n",
      "INFO:<ParallelMap>:Attaching to global parallel computing client <Client: 'tcp://10.100.32.3:35387' processes=5 threads=5, memory=37.25 GiB>\n",
      "<ParallelMap> INFO: Preparing 6 parallel calls of `medianPos` using 5 workers\n",
      "INFO:<ParallelMap>:Preparing 6 parallel calls of `medianPos` using 5 workers\n",
      "<ParallelMap> INFO: Log information available at /cs/slurm/tlaieboriaa/tlaieboriaa_20241114-170858\n",
      "INFO:<ParallelMap>:Log information available at /cs/slurm/tlaieboriaa/tlaieboriaa_20241114-170858\n",
      "100% |██████████| 6/6 [00:00<00:00]\n",
      "<ParallelMap> INFO: SUCCESS! Finished parallel computation. Results have been saved to /cs/home/tlaieboriaa/ACME_20241114-180231-225425\n",
      "INFO:<ParallelMap>:SUCCESS! Finished parallel computation. Results have been saved to /cs/home/tlaieboriaa/ACME_20241114-180231-225425\n"
     ]
    },
    {
     "name": "stdout",
     "output_type": "stream",
     "text": [
      "N frames missed: 14\n",
      "AnimalCharacter_C_2147482442\n",
      "N frames missed: 14\n"
     ]
    },
    {
     "name": "stderr",
     "output_type": "stream",
     "text": [
      "/gs/home/tlaieboriaa/.conda/envs/Cluster-GLMHMM3/lib/python3.9/site-packages/numpy/core/shape_base.py:121: VisibleDeprecationWarning: Creating an ndarray from ragged nested sequences (which is a list-or-tuple of lists-or-tuples-or ndarrays with different lengths or shapes) is deprecated. If you meant to do this, you must specify 'dtype=object' when creating the ndarray.\n",
      "  ary = asanyarray(ary)\n",
      "<ParallelMap> INFO: Attaching to global parallel computing client <Client: 'tcp://10.100.32.3:35387' processes=5 threads=5, memory=37.25 GiB>\n",
      "INFO:<ParallelMap>:Attaching to global parallel computing client <Client: 'tcp://10.100.32.3:35387' processes=5 threads=5, memory=37.25 GiB>\n",
      "<ParallelMap> INFO: Preparing 6 parallel calls of `medianPos` using 5 workers\n",
      "INFO:<ParallelMap>:Preparing 6 parallel calls of `medianPos` using 5 workers\n",
      "<ParallelMap> INFO: Log information available at /cs/slurm/tlaieboriaa/tlaieboriaa_20241114-170858\n",
      "INFO:<ParallelMap>:Log information available at /cs/slurm/tlaieboriaa/tlaieboriaa_20241114-170858\n",
      "100% |██████████| 6/6 [00:00<00:00]\n",
      "<ParallelMap> INFO: SUCCESS! Finished parallel computation. Results have been saved to /cs/home/tlaieboriaa/ACME_20241114-180305-267168\n",
      "INFO:<ParallelMap>:SUCCESS! Finished parallel computation. Results have been saved to /cs/home/tlaieboriaa/ACME_20241114-180305-267168\n"
     ]
    },
    {
     "name": "stdout",
     "output_type": "stream",
     "text": [
      "N frames missed: 2\n",
      "AnimalCharacter_C_2147482442\n",
      "N frames missed: 2\n"
     ]
    },
    {
     "name": "stderr",
     "output_type": "stream",
     "text": [
      "/gs/home/tlaieboriaa/.conda/envs/Cluster-GLMHMM3/lib/python3.9/site-packages/numpy/core/shape_base.py:121: VisibleDeprecationWarning: Creating an ndarray from ragged nested sequences (which is a list-or-tuple of lists-or-tuples-or ndarrays with different lengths or shapes) is deprecated. If you meant to do this, you must specify 'dtype=object' when creating the ndarray.\n",
      "  ary = asanyarray(ary)\n",
      "<ParallelMap> INFO: Attaching to global parallel computing client <Client: 'tcp://10.100.32.3:35387' processes=5 threads=5, memory=37.25 GiB>\n",
      "INFO:<ParallelMap>:Attaching to global parallel computing client <Client: 'tcp://10.100.32.3:35387' processes=5 threads=5, memory=37.25 GiB>\n",
      "<ParallelMap> INFO: Preparing 6 parallel calls of `medianPos` using 5 workers\n",
      "INFO:<ParallelMap>:Preparing 6 parallel calls of `medianPos` using 5 workers\n",
      "<ParallelMap> INFO: Log information available at /cs/slurm/tlaieboriaa/tlaieboriaa_20241114-170858\n",
      "INFO:<ParallelMap>:Log information available at /cs/slurm/tlaieboriaa/tlaieboriaa_20241114-170858\n",
      "100% |██████████| 6/6 [00:00<00:00]\n",
      "<ParallelMap> INFO: SUCCESS! Finished parallel computation. Results have been saved to /cs/home/tlaieboriaa/ACME_20241114-180344-012545\n",
      "INFO:<ParallelMap>:SUCCESS! Finished parallel computation. Results have been saved to /cs/home/tlaieboriaa/ACME_20241114-180344-012545\n"
     ]
    },
    {
     "name": "stdout",
     "output_type": "stream",
     "text": [
      "N frames missed: 13\n",
      "AnimalCharacter_C_2147482443\n",
      "N frames missed: 13\n"
     ]
    },
    {
     "name": "stderr",
     "output_type": "stream",
     "text": [
      "/gs/home/tlaieboriaa/.conda/envs/Cluster-GLMHMM3/lib/python3.9/site-packages/numpy/core/shape_base.py:121: VisibleDeprecationWarning: Creating an ndarray from ragged nested sequences (which is a list-or-tuple of lists-or-tuples-or ndarrays with different lengths or shapes) is deprecated. If you meant to do this, you must specify 'dtype=object' when creating the ndarray.\n",
      "  ary = asanyarray(ary)\n",
      "<ParallelMap> INFO: Attaching to global parallel computing client <Client: 'tcp://10.100.32.3:35387' processes=5 threads=5, memory=37.25 GiB>\n",
      "INFO:<ParallelMap>:Attaching to global parallel computing client <Client: 'tcp://10.100.32.3:35387' processes=5 threads=5, memory=37.25 GiB>\n",
      "<ParallelMap> INFO: Preparing 6 parallel calls of `medianPos` using 5 workers\n",
      "INFO:<ParallelMap>:Preparing 6 parallel calls of `medianPos` using 5 workers\n",
      "<ParallelMap> INFO: Log information available at /cs/slurm/tlaieboriaa/tlaieboriaa_20241114-170858\n",
      "INFO:<ParallelMap>:Log information available at /cs/slurm/tlaieboriaa/tlaieboriaa_20241114-170858\n",
      " 83% |████████▎ | 5/6 [00:00<00:00]\n",
      "<ParallelMap> INFO: SUCCESS! Finished parallel computation. Results have been saved to /cs/home/tlaieboriaa/ACME_20241114-180414-806001\n",
      "INFO:<ParallelMap>:SUCCESS! Finished parallel computation. Results have been saved to /cs/home/tlaieboriaa/ACME_20241114-180414-806001\n"
     ]
    },
    {
     "name": "stdout",
     "output_type": "stream",
     "text": [
      "N frames missed: 24\n",
      "AnimalCharacter_C_2147482442\n",
      "N frames missed: 24\n"
     ]
    },
    {
     "name": "stderr",
     "output_type": "stream",
     "text": [
      "/gs/home/tlaieboriaa/.conda/envs/Cluster-GLMHMM3/lib/python3.9/site-packages/numpy/core/shape_base.py:121: VisibleDeprecationWarning: Creating an ndarray from ragged nested sequences (which is a list-or-tuple of lists-or-tuples-or ndarrays with different lengths or shapes) is deprecated. If you meant to do this, you must specify 'dtype=object' when creating the ndarray.\n",
      "  ary = asanyarray(ary)\n",
      "<ParallelMap> INFO: Attaching to global parallel computing client <Client: 'tcp://10.100.32.3:35387' processes=5 threads=5, memory=37.25 GiB>\n",
      "INFO:<ParallelMap>:Attaching to global parallel computing client <Client: 'tcp://10.100.32.3:35387' processes=5 threads=5, memory=37.25 GiB>\n",
      "<ParallelMap> INFO: Preparing 6 parallel calls of `medianPos` using 5 workers\n",
      "INFO:<ParallelMap>:Preparing 6 parallel calls of `medianPos` using 5 workers\n",
      "<ParallelMap> INFO: Log information available at /cs/slurm/tlaieboriaa/tlaieboriaa_20241114-170858\n",
      "INFO:<ParallelMap>:Log information available at /cs/slurm/tlaieboriaa/tlaieboriaa_20241114-170858\n",
      "100% |██████████| 6/6 [00:00<00:00]\n",
      "<ParallelMap> INFO: SUCCESS! Finished parallel computation. Results have been saved to /cs/home/tlaieboriaa/ACME_20241114-180449-272164\n",
      "INFO:<ParallelMap>:SUCCESS! Finished parallel computation. Results have been saved to /cs/home/tlaieboriaa/ACME_20241114-180449-272164\n"
     ]
    },
    {
     "name": "stdout",
     "output_type": "stream",
     "text": [
      "N frames missed: 5\n",
      "AnimalCharacter_C_2147482442\n",
      "N frames missed: 5\n"
     ]
    },
    {
     "name": "stderr",
     "output_type": "stream",
     "text": [
      "/gs/home/tlaieboriaa/.conda/envs/Cluster-GLMHMM3/lib/python3.9/site-packages/numpy/core/shape_base.py:121: VisibleDeprecationWarning: Creating an ndarray from ragged nested sequences (which is a list-or-tuple of lists-or-tuples-or ndarrays with different lengths or shapes) is deprecated. If you meant to do this, you must specify 'dtype=object' when creating the ndarray.\n",
      "  ary = asanyarray(ary)\n",
      "<ParallelMap> INFO: Attaching to global parallel computing client <Client: 'tcp://10.100.32.3:35387' processes=5 threads=5, memory=37.25 GiB>\n",
      "INFO:<ParallelMap>:Attaching to global parallel computing client <Client: 'tcp://10.100.32.3:35387' processes=5 threads=5, memory=37.25 GiB>\n",
      "<ParallelMap> INFO: Preparing 6 parallel calls of `medianPos` using 5 workers\n",
      "INFO:<ParallelMap>:Preparing 6 parallel calls of `medianPos` using 5 workers\n",
      "<ParallelMap> INFO: Log information available at /cs/slurm/tlaieboriaa/tlaieboriaa_20241114-170858\n",
      "INFO:<ParallelMap>:Log information available at /cs/slurm/tlaieboriaa/tlaieboriaa_20241114-170858\n",
      "100% |██████████| 6/6 [00:00<00:00]\n",
      "<ParallelMap> INFO: SUCCESS! Finished parallel computation. Results have been saved to /cs/home/tlaieboriaa/ACME_20241114-180522-376118\n",
      "INFO:<ParallelMap>:SUCCESS! Finished parallel computation. Results have been saved to /cs/home/tlaieboriaa/ACME_20241114-180522-376118\n"
     ]
    },
    {
     "name": "stdout",
     "output_type": "stream",
     "text": [
      "N frames missed: 11\n",
      "AnimalCharacter_C_2147482442\n",
      "N frames missed: 11\n"
     ]
    },
    {
     "name": "stderr",
     "output_type": "stream",
     "text": [
      "/gs/home/tlaieboriaa/.conda/envs/Cluster-GLMHMM3/lib/python3.9/site-packages/numpy/core/shape_base.py:121: VisibleDeprecationWarning: Creating an ndarray from ragged nested sequences (which is a list-or-tuple of lists-or-tuples-or ndarrays with different lengths or shapes) is deprecated. If you meant to do this, you must specify 'dtype=object' when creating the ndarray.\n",
      "  ary = asanyarray(ary)\n",
      "<ParallelMap> INFO: Attaching to global parallel computing client <Client: 'tcp://10.100.32.3:35387' processes=5 threads=5, memory=37.25 GiB>\n",
      "INFO:<ParallelMap>:Attaching to global parallel computing client <Client: 'tcp://10.100.32.3:35387' processes=5 threads=5, memory=37.25 GiB>\n",
      "<ParallelMap> INFO: Preparing 6 parallel calls of `medianPos` using 5 workers\n",
      "INFO:<ParallelMap>:Preparing 6 parallel calls of `medianPos` using 5 workers\n",
      "<ParallelMap> INFO: Log information available at /cs/slurm/tlaieboriaa/tlaieboriaa_20241114-170858\n",
      "INFO:<ParallelMap>:Log information available at /cs/slurm/tlaieboriaa/tlaieboriaa_20241114-170858\n",
      "100% |██████████| 6/6 [00:00<00:00]\n",
      "<ParallelMap> INFO: SUCCESS! Finished parallel computation. Results have been saved to /cs/home/tlaieboriaa/ACME_20241114-180556-049411\n",
      "INFO:<ParallelMap>:SUCCESS! Finished parallel computation. Results have been saved to /cs/home/tlaieboriaa/ACME_20241114-180556-049411\n"
     ]
    },
    {
     "name": "stdout",
     "output_type": "stream",
     "text": [
      "N frames missed: 10\n",
      "AnimalCharacter_C_2147482443\n",
      "N frames missed: 10\n"
     ]
    },
    {
     "name": "stderr",
     "output_type": "stream",
     "text": [
      "/gs/home/tlaieboriaa/.conda/envs/Cluster-GLMHMM3/lib/python3.9/site-packages/numpy/core/shape_base.py:121: VisibleDeprecationWarning: Creating an ndarray from ragged nested sequences (which is a list-or-tuple of lists-or-tuples-or ndarrays with different lengths or shapes) is deprecated. If you meant to do this, you must specify 'dtype=object' when creating the ndarray.\n",
      "  ary = asanyarray(ary)\n",
      "<ParallelMap> INFO: Attaching to global parallel computing client <Client: 'tcp://10.100.32.3:35387' processes=5 threads=5, memory=37.25 GiB>\n",
      "INFO:<ParallelMap>:Attaching to global parallel computing client <Client: 'tcp://10.100.32.3:35387' processes=5 threads=5, memory=37.25 GiB>\n",
      "<ParallelMap> INFO: Preparing 6 parallel calls of `medianPos` using 5 workers\n",
      "INFO:<ParallelMap>:Preparing 6 parallel calls of `medianPos` using 5 workers\n",
      "<ParallelMap> INFO: Log information available at /cs/slurm/tlaieboriaa/tlaieboriaa_20241114-170858\n",
      "INFO:<ParallelMap>:Log information available at /cs/slurm/tlaieboriaa/tlaieboriaa_20241114-170858\n",
      " 83% |████████▎ | 5/6 [00:00<00:00]\n",
      "<ParallelMap> INFO: SUCCESS! Finished parallel computation. Results have been saved to /cs/home/tlaieboriaa/ACME_20241114-180636-335400\n",
      "INFO:<ParallelMap>:SUCCESS! Finished parallel computation. Results have been saved to /cs/home/tlaieboriaa/ACME_20241114-180636-335400\n"
     ]
    },
    {
     "name": "stdout",
     "output_type": "stream",
     "text": [
      "N frames missed: 12\n",
      "AnimalCharacter_C_2147482442\n",
      "N frames missed: 12\n"
     ]
    },
    {
     "name": "stderr",
     "output_type": "stream",
     "text": [
      "/gs/home/tlaieboriaa/.conda/envs/Cluster-GLMHMM3/lib/python3.9/site-packages/numpy/core/shape_base.py:121: VisibleDeprecationWarning: Creating an ndarray from ragged nested sequences (which is a list-or-tuple of lists-or-tuples-or ndarrays with different lengths or shapes) is deprecated. If you meant to do this, you must specify 'dtype=object' when creating the ndarray.\n",
      "  ary = asanyarray(ary)\n",
      "<ParallelMap> INFO: Attaching to global parallel computing client <Client: 'tcp://10.100.32.3:35387' processes=5 threads=5, memory=37.25 GiB>\n",
      "INFO:<ParallelMap>:Attaching to global parallel computing client <Client: 'tcp://10.100.32.3:35387' processes=5 threads=5, memory=37.25 GiB>\n",
      "<ParallelMap> INFO: Preparing 6 parallel calls of `medianPos` using 5 workers\n",
      "INFO:<ParallelMap>:Preparing 6 parallel calls of `medianPos` using 5 workers\n",
      "<ParallelMap> INFO: Log information available at /cs/slurm/tlaieboriaa/tlaieboriaa_20241114-170858\n",
      "INFO:<ParallelMap>:Log information available at /cs/slurm/tlaieboriaa/tlaieboriaa_20241114-170858\n",
      "100% |██████████| 6/6 [00:00<00:00]\n",
      "<ParallelMap> INFO: SUCCESS! Finished parallel computation. Results have been saved to /cs/home/tlaieboriaa/ACME_20241114-180706-776957\n",
      "INFO:<ParallelMap>:SUCCESS! Finished parallel computation. Results have been saved to /cs/home/tlaieboriaa/ACME_20241114-180706-776957\n"
     ]
    },
    {
     "name": "stdout",
     "output_type": "stream",
     "text": [
      "N frames missed: 8\n",
      "AnimalCharacter_C_2147482442\n",
      "N frames missed: 8\n"
     ]
    },
    {
     "name": "stderr",
     "output_type": "stream",
     "text": [
      "/gs/home/tlaieboriaa/.conda/envs/Cluster-GLMHMM3/lib/python3.9/site-packages/numpy/core/shape_base.py:121: VisibleDeprecationWarning: Creating an ndarray from ragged nested sequences (which is a list-or-tuple of lists-or-tuples-or ndarrays with different lengths or shapes) is deprecated. If you meant to do this, you must specify 'dtype=object' when creating the ndarray.\n",
      "  ary = asanyarray(ary)\n",
      "<ParallelMap> INFO: Attaching to global parallel computing client <Client: 'tcp://10.100.32.3:35387' processes=5 threads=5, memory=37.25 GiB>\n",
      "INFO:<ParallelMap>:Attaching to global parallel computing client <Client: 'tcp://10.100.32.3:35387' processes=5 threads=5, memory=37.25 GiB>\n",
      "<ParallelMap> INFO: Preparing 6 parallel calls of `medianPos` using 5 workers\n",
      "INFO:<ParallelMap>:Preparing 6 parallel calls of `medianPos` using 5 workers\n",
      "<ParallelMap> INFO: Log information available at /cs/slurm/tlaieboriaa/tlaieboriaa_20241114-170858\n",
      "INFO:<ParallelMap>:Log information available at /cs/slurm/tlaieboriaa/tlaieboriaa_20241114-170858\n",
      "100% |██████████| 6/6 [00:00<00:00]\n",
      "<ParallelMap> INFO: SUCCESS! Finished parallel computation. Results have been saved to /cs/home/tlaieboriaa/ACME_20241114-180736-439084\n",
      "INFO:<ParallelMap>:SUCCESS! Finished parallel computation. Results have been saved to /cs/home/tlaieboriaa/ACME_20241114-180736-439084\n"
     ]
    },
    {
     "name": "stdout",
     "output_type": "stream",
     "text": [
      "N frames missed: 15\n",
      "AnimalCharacter_C_2147482443\n",
      "N frames missed: 15\n"
     ]
    },
    {
     "name": "stderr",
     "output_type": "stream",
     "text": [
      "/gs/home/tlaieboriaa/.conda/envs/Cluster-GLMHMM3/lib/python3.9/site-packages/numpy/core/shape_base.py:121: VisibleDeprecationWarning: Creating an ndarray from ragged nested sequences (which is a list-or-tuple of lists-or-tuples-or ndarrays with different lengths or shapes) is deprecated. If you meant to do this, you must specify 'dtype=object' when creating the ndarray.\n",
      "  ary = asanyarray(ary)\n",
      "<ParallelMap> INFO: Attaching to global parallel computing client <Client: 'tcp://10.100.32.3:35387' processes=5 threads=5, memory=37.25 GiB>\n",
      "INFO:<ParallelMap>:Attaching to global parallel computing client <Client: 'tcp://10.100.32.3:35387' processes=5 threads=5, memory=37.25 GiB>\n",
      "<ParallelMap> INFO: Preparing 6 parallel calls of `medianPos` using 5 workers\n",
      "INFO:<ParallelMap>:Preparing 6 parallel calls of `medianPos` using 5 workers\n",
      "<ParallelMap> INFO: Log information available at /cs/slurm/tlaieboriaa/tlaieboriaa_20241114-170858\n",
      "INFO:<ParallelMap>:Log information available at /cs/slurm/tlaieboriaa/tlaieboriaa_20241114-170858\n",
      "100% |██████████| 6/6 [00:00<00:00]\n",
      "<ParallelMap> INFO: SUCCESS! Finished parallel computation. Results have been saved to /cs/home/tlaieboriaa/ACME_20241114-180759-656546\n",
      "INFO:<ParallelMap>:SUCCESS! Finished parallel computation. Results have been saved to /cs/home/tlaieboriaa/ACME_20241114-180759-656546\n"
     ]
    },
    {
     "name": "stdout",
     "output_type": "stream",
     "text": [
      "N frames missed: 26\n",
      "GFrameNumber does not match first PresentCount, automatically adjusting\n",
      "AnimalCharacter_C_2147482443\n",
      "N frames missed: 26\n",
      "GFrameNumber does not match first PresentCount, automatically adjusting\n"
     ]
    },
    {
     "name": "stderr",
     "output_type": "stream",
     "text": [
      "/gs/home/tlaieboriaa/.conda/envs/Cluster-GLMHMM3/lib/python3.9/site-packages/numpy/core/shape_base.py:121: VisibleDeprecationWarning: Creating an ndarray from ragged nested sequences (which is a list-or-tuple of lists-or-tuples-or ndarrays with different lengths or shapes) is deprecated. If you meant to do this, you must specify 'dtype=object' when creating the ndarray.\n",
      "  ary = asanyarray(ary)\n",
      "<ParallelMap> INFO: Attaching to global parallel computing client <Client: 'tcp://10.100.32.3:35387' processes=5 threads=5, memory=37.25 GiB>\n",
      "INFO:<ParallelMap>:Attaching to global parallel computing client <Client: 'tcp://10.100.32.3:35387' processes=5 threads=5, memory=37.25 GiB>\n",
      "<ParallelMap> INFO: Preparing 6 parallel calls of `medianPos` using 5 workers\n",
      "INFO:<ParallelMap>:Preparing 6 parallel calls of `medianPos` using 5 workers\n",
      "<ParallelMap> INFO: Log information available at /cs/slurm/tlaieboriaa/tlaieboriaa_20241114-170858\n",
      "INFO:<ParallelMap>:Log information available at /cs/slurm/tlaieboriaa/tlaieboriaa_20241114-170858\n",
      "100% |██████████| 6/6 [00:00<00:00]\n",
      "<ParallelMap> INFO: SUCCESS! Finished parallel computation. Results have been saved to /cs/home/tlaieboriaa/ACME_20241114-180824-276475\n",
      "INFO:<ParallelMap>:SUCCESS! Finished parallel computation. Results have been saved to /cs/home/tlaieboriaa/ACME_20241114-180824-276475\n"
     ]
    },
    {
     "name": "stdout",
     "output_type": "stream",
     "text": [
      "N frames missed: 16\n",
      "AnimalCharacter_C_2147482443\n",
      "N frames missed: 16\n"
     ]
    },
    {
     "name": "stderr",
     "output_type": "stream",
     "text": [
      "/gs/home/tlaieboriaa/.conda/envs/Cluster-GLMHMM3/lib/python3.9/site-packages/numpy/core/shape_base.py:121: VisibleDeprecationWarning: Creating an ndarray from ragged nested sequences (which is a list-or-tuple of lists-or-tuples-or ndarrays with different lengths or shapes) is deprecated. If you meant to do this, you must specify 'dtype=object' when creating the ndarray.\n",
      "  ary = asanyarray(ary)\n",
      "<ParallelMap> INFO: Attaching to global parallel computing client <Client: 'tcp://10.100.32.3:35387' processes=5 threads=5, memory=37.25 GiB>\n",
      "INFO:<ParallelMap>:Attaching to global parallel computing client <Client: 'tcp://10.100.32.3:35387' processes=5 threads=5, memory=37.25 GiB>\n",
      "<ParallelMap> INFO: Preparing 6 parallel calls of `medianPos` using 5 workers\n",
      "INFO:<ParallelMap>:Preparing 6 parallel calls of `medianPos` using 5 workers\n",
      "<ParallelMap> INFO: Log information available at /cs/slurm/tlaieboriaa/tlaieboriaa_20241114-170858\n",
      "INFO:<ParallelMap>:Log information available at /cs/slurm/tlaieboriaa/tlaieboriaa_20241114-170858\n",
      "100% |██████████| 6/6 [00:00<00:00]\n",
      "<ParallelMap> INFO: SUCCESS! Finished parallel computation. Results have been saved to /cs/home/tlaieboriaa/ACME_20241114-180845-145731\n",
      "INFO:<ParallelMap>:SUCCESS! Finished parallel computation. Results have been saved to /cs/home/tlaieboriaa/ACME_20241114-180845-145731\n"
     ]
    },
    {
     "name": "stdout",
     "output_type": "stream",
     "text": [
      "N frames missed: 19\n",
      "AnimalCharacter_C_2147482442\n",
      "N frames missed: 19\n"
     ]
    },
    {
     "name": "stderr",
     "output_type": "stream",
     "text": [
      "/gs/home/tlaieboriaa/.conda/envs/Cluster-GLMHMM3/lib/python3.9/site-packages/numpy/core/shape_base.py:121: VisibleDeprecationWarning: Creating an ndarray from ragged nested sequences (which is a list-or-tuple of lists-or-tuples-or ndarrays with different lengths or shapes) is deprecated. If you meant to do this, you must specify 'dtype=object' when creating the ndarray.\n",
      "  ary = asanyarray(ary)\n",
      "<ParallelMap> INFO: Attaching to global parallel computing client <Client: 'tcp://10.100.32.3:35387' processes=5 threads=5, memory=37.25 GiB>\n",
      "INFO:<ParallelMap>:Attaching to global parallel computing client <Client: 'tcp://10.100.32.3:35387' processes=5 threads=5, memory=37.25 GiB>\n",
      "<ParallelMap> INFO: Preparing 6 parallel calls of `medianPos` using 5 workers\n",
      "INFO:<ParallelMap>:Preparing 6 parallel calls of `medianPos` using 5 workers\n",
      "<ParallelMap> INFO: Log information available at /cs/slurm/tlaieboriaa/tlaieboriaa_20241114-170858\n",
      "INFO:<ParallelMap>:Log information available at /cs/slurm/tlaieboriaa/tlaieboriaa_20241114-170858\n",
      "100% |██████████| 6/6 [00:00<00:00]\n",
      "<ParallelMap> INFO: SUCCESS! Finished parallel computation. Results have been saved to /cs/home/tlaieboriaa/ACME_20241114-180925-581958\n",
      "INFO:<ParallelMap>:SUCCESS! Finished parallel computation. Results have been saved to /cs/home/tlaieboriaa/ACME_20241114-180925-581958\n"
     ]
    },
    {
     "name": "stdout",
     "output_type": "stream",
     "text": [
      "N frames missed: 32\n",
      "AnimalCharacter_C_2147482440\n",
      "N frames missed: 32\n"
     ]
    },
    {
     "name": "stderr",
     "output_type": "stream",
     "text": [
      "/gs/home/tlaieboriaa/.conda/envs/Cluster-GLMHMM3/lib/python3.9/site-packages/numpy/core/shape_base.py:121: VisibleDeprecationWarning: Creating an ndarray from ragged nested sequences (which is a list-or-tuple of lists-or-tuples-or ndarrays with different lengths or shapes) is deprecated. If you meant to do this, you must specify 'dtype=object' when creating the ndarray.\n",
      "  ary = asanyarray(ary)\n",
      "<ParallelMap> INFO: Attaching to global parallel computing client <Client: 'tcp://10.100.32.3:35387' processes=5 threads=5, memory=37.25 GiB>\n",
      "INFO:<ParallelMap>:Attaching to global parallel computing client <Client: 'tcp://10.100.32.3:35387' processes=5 threads=5, memory=37.25 GiB>\n",
      "<ParallelMap> INFO: Preparing 6 parallel calls of `medianPos` using 5 workers\n",
      "INFO:<ParallelMap>:Preparing 6 parallel calls of `medianPos` using 5 workers\n",
      "<ParallelMap> INFO: Log information available at /cs/slurm/tlaieboriaa/tlaieboriaa_20241114-170858\n",
      "INFO:<ParallelMap>:Log information available at /cs/slurm/tlaieboriaa/tlaieboriaa_20241114-170858\n",
      "100% |██████████| 6/6 [00:00<00:00]\n",
      "<ParallelMap> INFO: SUCCESS! Finished parallel computation. Results have been saved to /cs/home/tlaieboriaa/ACME_20241114-180952-700583\n",
      "INFO:<ParallelMap>:SUCCESS! Finished parallel computation. Results have been saved to /cs/home/tlaieboriaa/ACME_20241114-180952-700583\n"
     ]
    },
    {
     "name": "stdout",
     "output_type": "stream",
     "text": [
      "N frames missed: 14\n",
      "AnimalCharacter_C_2147482440\n",
      "N frames missed: 14\n"
     ]
    },
    {
     "name": "stderr",
     "output_type": "stream",
     "text": [
      "/gs/home/tlaieboriaa/.conda/envs/Cluster-GLMHMM3/lib/python3.9/site-packages/numpy/core/shape_base.py:121: VisibleDeprecationWarning: Creating an ndarray from ragged nested sequences (which is a list-or-tuple of lists-or-tuples-or ndarrays with different lengths or shapes) is deprecated. If you meant to do this, you must specify 'dtype=object' when creating the ndarray.\n",
      "  ary = asanyarray(ary)\n",
      "<ParallelMap> INFO: Attaching to global parallel computing client <Client: 'tcp://10.100.32.3:35387' processes=5 threads=5, memory=37.25 GiB>\n",
      "INFO:<ParallelMap>:Attaching to global parallel computing client <Client: 'tcp://10.100.32.3:35387' processes=5 threads=5, memory=37.25 GiB>\n",
      "<ParallelMap> INFO: Preparing 6 parallel calls of `medianPos` using 5 workers\n",
      "INFO:<ParallelMap>:Preparing 6 parallel calls of `medianPos` using 5 workers\n",
      "<ParallelMap> INFO: Log information available at /cs/slurm/tlaieboriaa/tlaieboriaa_20241114-170858\n",
      "INFO:<ParallelMap>:Log information available at /cs/slurm/tlaieboriaa/tlaieboriaa_20241114-170858\n",
      "100% |██████████| 6/6 [00:00<00:00]\n",
      "<ParallelMap> INFO: SUCCESS! Finished parallel computation. Results have been saved to /cs/home/tlaieboriaa/ACME_20241114-181022-275682\n",
      "INFO:<ParallelMap>:SUCCESS! Finished parallel computation. Results have been saved to /cs/home/tlaieboriaa/ACME_20241114-181022-275682\n"
     ]
    },
    {
     "name": "stdout",
     "output_type": "stream",
     "text": [
      "N frames missed: 6\n",
      "AnimalCharacter_C_2147482443\n",
      "N frames missed: 6\n"
     ]
    },
    {
     "name": "stderr",
     "output_type": "stream",
     "text": [
      "/gs/home/tlaieboriaa/.conda/envs/Cluster-GLMHMM3/lib/python3.9/site-packages/numpy/core/shape_base.py:121: VisibleDeprecationWarning: Creating an ndarray from ragged nested sequences (which is a list-or-tuple of lists-or-tuples-or ndarrays with different lengths or shapes) is deprecated. If you meant to do this, you must specify 'dtype=object' when creating the ndarray.\n",
      "  ary = asanyarray(ary)\n",
      "<ParallelMap> INFO: Attaching to global parallel computing client <Client: 'tcp://10.100.32.3:35387' processes=5 threads=5, memory=37.25 GiB>\n",
      "INFO:<ParallelMap>:Attaching to global parallel computing client <Client: 'tcp://10.100.32.3:35387' processes=5 threads=5, memory=37.25 GiB>\n",
      "<ParallelMap> INFO: Preparing 6 parallel calls of `medianPos` using 5 workers\n",
      "INFO:<ParallelMap>:Preparing 6 parallel calls of `medianPos` using 5 workers\n",
      "<ParallelMap> INFO: Log information available at /cs/slurm/tlaieboriaa/tlaieboriaa_20241114-170858\n",
      "INFO:<ParallelMap>:Log information available at /cs/slurm/tlaieboriaa/tlaieboriaa_20241114-170858\n",
      "100% |██████████| 6/6 [00:00<00:00]\n",
      "<ParallelMap> INFO: SUCCESS! Finished parallel computation. Results have been saved to /cs/home/tlaieboriaa/ACME_20241114-181040-805115\n",
      "INFO:<ParallelMap>:SUCCESS! Finished parallel computation. Results have been saved to /cs/home/tlaieboriaa/ACME_20241114-181040-805115\n"
     ]
    },
    {
     "name": "stdout",
     "output_type": "stream",
     "text": [
      "N frames missed: 20\n",
      "AnimalCharacter_C_2147482443\n",
      "N frames missed: 20\n"
     ]
    },
    {
     "name": "stderr",
     "output_type": "stream",
     "text": [
      "/gs/home/tlaieboriaa/.conda/envs/Cluster-GLMHMM3/lib/python3.9/site-packages/numpy/core/shape_base.py:121: VisibleDeprecationWarning: Creating an ndarray from ragged nested sequences (which is a list-or-tuple of lists-or-tuples-or ndarrays with different lengths or shapes) is deprecated. If you meant to do this, you must specify 'dtype=object' when creating the ndarray.\n",
      "  ary = asanyarray(ary)\n",
      "<ParallelMap> INFO: Attaching to global parallel computing client <Client: 'tcp://10.100.32.3:35387' processes=5 threads=5, memory=37.25 GiB>\n",
      "INFO:<ParallelMap>:Attaching to global parallel computing client <Client: 'tcp://10.100.32.3:35387' processes=5 threads=5, memory=37.25 GiB>\n",
      "<ParallelMap> INFO: Preparing 6 parallel calls of `medianPos` using 5 workers\n",
      "INFO:<ParallelMap>:Preparing 6 parallel calls of `medianPos` using 5 workers\n",
      "<ParallelMap> INFO: Log information available at /cs/slurm/tlaieboriaa/tlaieboriaa_20241114-170858\n",
      "INFO:<ParallelMap>:Log information available at /cs/slurm/tlaieboriaa/tlaieboriaa_20241114-170858\n",
      "100% |██████████| 6/6 [00:00<00:00]\n",
      "<ParallelMap> INFO: SUCCESS! Finished parallel computation. Results have been saved to /cs/home/tlaieboriaa/ACME_20241114-181108-243052\n",
      "INFO:<ParallelMap>:SUCCESS! Finished parallel computation. Results have been saved to /cs/home/tlaieboriaa/ACME_20241114-181108-243052\n"
     ]
    },
    {
     "name": "stdout",
     "output_type": "stream",
     "text": [
      "N frames missed: 14\n",
      "AnimalCharacter_C_2147482442\n",
      "N frames missed: 14\n"
     ]
    },
    {
     "name": "stderr",
     "output_type": "stream",
     "text": [
      "/gs/home/tlaieboriaa/.conda/envs/Cluster-GLMHMM3/lib/python3.9/site-packages/numpy/core/shape_base.py:121: VisibleDeprecationWarning: Creating an ndarray from ragged nested sequences (which is a list-or-tuple of lists-or-tuples-or ndarrays with different lengths or shapes) is deprecated. If you meant to do this, you must specify 'dtype=object' when creating the ndarray.\n",
      "  ary = asanyarray(ary)\n",
      "<ParallelMap> INFO: Attaching to global parallel computing client <Client: 'tcp://10.100.32.3:35387' processes=5 threads=5, memory=37.25 GiB>\n",
      "INFO:<ParallelMap>:Attaching to global parallel computing client <Client: 'tcp://10.100.32.3:35387' processes=5 threads=5, memory=37.25 GiB>\n",
      "<ParallelMap> INFO: Preparing 6 parallel calls of `medianPos` using 5 workers\n",
      "INFO:<ParallelMap>:Preparing 6 parallel calls of `medianPos` using 5 workers\n",
      "<ParallelMap> INFO: Log information available at /cs/slurm/tlaieboriaa/tlaieboriaa_20241114-170858\n",
      "INFO:<ParallelMap>:Log information available at /cs/slurm/tlaieboriaa/tlaieboriaa_20241114-170858\n",
      "100% |██████████| 6/6 [00:00<00:00]\n",
      "<ParallelMap> INFO: SUCCESS! Finished parallel computation. Results have been saved to /cs/home/tlaieboriaa/ACME_20241114-181138-965629\n",
      "INFO:<ParallelMap>:SUCCESS! Finished parallel computation. Results have been saved to /cs/home/tlaieboriaa/ACME_20241114-181138-965629\n"
     ]
    },
    {
     "name": "stdout",
     "output_type": "stream",
     "text": [
      "N frames missed: 23\n",
      "AnimalCharacter_C_2147482443\n",
      "N frames missed: 23\n"
     ]
    },
    {
     "name": "stderr",
     "output_type": "stream",
     "text": [
      "/gs/home/tlaieboriaa/.conda/envs/Cluster-GLMHMM3/lib/python3.9/site-packages/numpy/core/shape_base.py:121: VisibleDeprecationWarning: Creating an ndarray from ragged nested sequences (which is a list-or-tuple of lists-or-tuples-or ndarrays with different lengths or shapes) is deprecated. If you meant to do this, you must specify 'dtype=object' when creating the ndarray.\n",
      "  ary = asanyarray(ary)\n",
      "<ParallelMap> INFO: Attaching to global parallel computing client <Client: 'tcp://10.100.32.3:35387' processes=5 threads=5, memory=37.25 GiB>\n",
      "INFO:<ParallelMap>:Attaching to global parallel computing client <Client: 'tcp://10.100.32.3:35387' processes=5 threads=5, memory=37.25 GiB>\n",
      "<ParallelMap> INFO: Preparing 6 parallel calls of `medianPos` using 5 workers\n",
      "INFO:<ParallelMap>:Preparing 6 parallel calls of `medianPos` using 5 workers\n",
      "<ParallelMap> INFO: Log information available at /cs/slurm/tlaieboriaa/tlaieboriaa_20241114-170858\n",
      "INFO:<ParallelMap>:Log information available at /cs/slurm/tlaieboriaa/tlaieboriaa_20241114-170858\n",
      "100% |██████████| 6/6 [00:00<00:00]\n",
      "<ParallelMap> INFO: SUCCESS! Finished parallel computation. Results have been saved to /cs/home/tlaieboriaa/ACME_20241114-181213-150762\n",
      "INFO:<ParallelMap>:SUCCESS! Finished parallel computation. Results have been saved to /cs/home/tlaieboriaa/ACME_20241114-181213-150762\n"
     ]
    },
    {
     "name": "stdout",
     "output_type": "stream",
     "text": [
      "N frames missed: 24\n",
      "AnimalCharacter_C_2147482442\n",
      "N frames missed: 24\n"
     ]
    },
    {
     "name": "stderr",
     "output_type": "stream",
     "text": [
      "/gs/home/tlaieboriaa/.conda/envs/Cluster-GLMHMM3/lib/python3.9/site-packages/numpy/core/shape_base.py:121: VisibleDeprecationWarning: Creating an ndarray from ragged nested sequences (which is a list-or-tuple of lists-or-tuples-or ndarrays with different lengths or shapes) is deprecated. If you meant to do this, you must specify 'dtype=object' when creating the ndarray.\n",
      "  ary = asanyarray(ary)\n",
      "<ParallelMap> INFO: Attaching to global parallel computing client <Client: 'tcp://10.100.32.3:35387' processes=5 threads=5, memory=37.25 GiB>\n",
      "INFO:<ParallelMap>:Attaching to global parallel computing client <Client: 'tcp://10.100.32.3:35387' processes=5 threads=5, memory=37.25 GiB>\n",
      "<ParallelMap> INFO: Preparing 6 parallel calls of `medianPos` using 5 workers\n",
      "INFO:<ParallelMap>:Preparing 6 parallel calls of `medianPos` using 5 workers\n",
      "<ParallelMap> INFO: Log information available at /cs/slurm/tlaieboriaa/tlaieboriaa_20241114-170858\n",
      "INFO:<ParallelMap>:Log information available at /cs/slurm/tlaieboriaa/tlaieboriaa_20241114-170858\n",
      "100% |██████████| 6/6 [00:00<00:00]\n",
      "<ParallelMap> INFO: SUCCESS! Finished parallel computation. Results have been saved to /cs/home/tlaieboriaa/ACME_20241114-181246-071250\n",
      "INFO:<ParallelMap>:SUCCESS! Finished parallel computation. Results have been saved to /cs/home/tlaieboriaa/ACME_20241114-181246-071250\n"
     ]
    },
    {
     "name": "stdout",
     "output_type": "stream",
     "text": [
      "Training data per mouse saved to RawData/Mouse/Predictors_emissions_train_per_mouse_generalisation_20pad.npz\n",
      "Data processing and saving completed in 948.85 seconds.\n"
     ]
    }
   ],
   "source": [
    "# Import necessary libraries\n",
    "import numpy as np\n",
    "import seaborn as sns\n",
    "import optuna\n",
    "from optuna.trial import TrialState\n",
    "from parse_logfile import TextLog\n",
    "import pipeline_MSLR as pipln\n",
    "import pandas as pd\n",
    "import seaborn as sns\n",
    "import warnings\n",
    "import BehavUtils as butils\n",
    "import glob\n",
    "from natsort import natsorted\n",
    "import time\n",
    "import reaction_time as reac\n",
    "from jax.config import config\n",
    "import os\n",
    "import acme\n",
    "from sklearn.experimental import enable_iterative_imputer\n",
    "from sklearn.impute import IterativeImputer\n",
    "from sklearn.linear_model import BayesianRidge\n",
    "\n",
    "# Enable 64-bit precision in JAX\n",
    "config.update(\"jax_enable_x64\", True)\n",
    "\n",
    "# Set seaborn plot style and ignore warnings\n",
    "sns.set_style('white')\n",
    "warnings.filterwarnings(action='ignore', message='Mean of empty slice')\n",
    "warnings.filterwarnings(action='ignore', message='Degrees of freedom <= 0 for slice')\n",
    "warnings.filterwarnings(action='ignore', message='All-NaN slice encountered')\n",
    "warnings.filterwarnings(action='ignore', message='RuntimeWarning: invalid value encountered in double_scalars')\n",
    "np.seterr(over='ignore')\n",
    "\n",
    "# Define the animal\n",
    "animal = 'mouse'\n",
    "\n",
    "# Load log, flash, face, and eye files\n",
    "with open('RawData/Mouse/files_logs_mouse_moreSes.txt') as f:\n",
    "    files_logs = [line.strip() for line in f.readlines()]\n",
    "with open('RawData/Mouse/files_flashes_mouse_moreSes.txt') as f:\n",
    "    files_flashes = [line.strip() for line in f.readlines()]\n",
    "with open('RawData/Mouse/files_face_mouse_moreSes_updated.txt') as f:\n",
    "    files_face = [line.strip() for line in f.readlines()]\n",
    "with open('RawData/Mouse/files_eye_mouse_moreSes_updated.txt') as f:\n",
    "    files_eye = [line.strip() for line in f.readlines()]\n",
    "\n",
    "# Define which column names to read from the face and eye files\n",
    "with open('RawData/Mouse/cols_nose_updated.txt') as f:\n",
    "    cols_nose = [line.strip() for line in f.readlines()]\n",
    "with open('RawData/Mouse/cols_whiskers_updated.txt') as f:\n",
    "    cols_whiskers = [line.strip() for line in f.readlines()]\n",
    "with open('RawData/Mouse/cols_eye.txt') as f:\n",
    "    cols_eye = [line.strip() for line in f.readlines()]\n",
    "\n",
    "# Define parameters for cross-validation, repetitions, and data splitting\n",
    "nWindows = 5\n",
    "nRepetitions = 5\n",
    "nSplits = 5\n",
    "btscv = butils.BlockingTimeSeriesSplit(n_splits=nSplits)\n",
    "shiftStim = -0.25\n",
    "winSize = 0.25\n",
    "internal_states = np.arange(2, 16)\n",
    "\n",
    "# Define how many partitions to use for Dask loading in the data.\n",
    "nPartitions = os.cpu_count() - 2\n",
    "\n",
    "# Clean up the cluster and set up a new cluster client\n",
    "acme.cluster_cleanup()\n",
    "client = acme.esi_cluster_setup(partition=\"8GBXS\", n_jobs=int(nSplits),\n",
    "                                n_jobs_startup=2, timeout=60000, interactive_wait=1)\n",
    "\n",
    "start1 = time.time()\n",
    "\n",
    "# Define session indices for each mouse\n",
    "mouse_1 = np.array([15,16,17,18,19,20,21,22,23,24,25,26])\n",
    "mouse_2 = np.array([0,1,2,3])\n",
    "mouse_3 = np.array([4,5,6,7,27,28])\n",
    "mouse_4 = np.array([8,9,10])\n",
    "mouse_5 = np.array([11,12])\n",
    "mouse_6 = np.setdiff1d(np.arange(len(files_logs)), np.concatenate([mouse_1, mouse_2, mouse_3, mouse_4, mouse_5]))\n",
    "\n",
    "# Organize mouse sessions into a dictionary for easy access\n",
    "mouse_sessions = {\n",
    "    'mouse_1': mouse_1,\n",
    "    'mouse_2': mouse_2,\n",
    "    'mouse_3': mouse_3,\n",
    "    'mouse_4': mouse_4,\n",
    "    'mouse_5': mouse_5,\n",
    "    'mouse_6': mouse_6\n",
    "}\n",
    "\n",
    "# Initialize dictionaries to store training and testing data for each mouse\n",
    "mouse_data = {\n",
    "    mouse: {\n",
    "        'dat_train_list': [],\n",
    "        'dat_test_list': [],\n",
    "        'y_train_list': [],\n",
    "        'y_test_list': []\n",
    "    } for mouse in mouse_sessions\n",
    "}\n",
    "\n",
    "# Function to determine which mouse a session belongs to\n",
    "def get_mouse_label(session_idx):\n",
    "    for mouse_label, sessions in mouse_sessions.items():\n",
    "        if session_idx in sessions:\n",
    "            return mouse_label\n",
    "    return None  # In case a session doesn't belong to any mouse\n",
    "\n",
    "# Iterate over all sessions\n",
    "for rr in range(len(files_logs)):\n",
    "\n",
    "    # Determine which mouse this session belongs to\n",
    "    mouse_label = get_mouse_label(rr)\n",
    "    if mouse_label is None:\n",
    "        print(f\"Session {rr} does not belong to any defined mouse. Skipping.\")\n",
    "        continue  # Skip sessions that don't belong to any mouse\n",
    "\n",
    "    # Load flashes data\n",
    "    flashes = np.load(files_flashes[rr], allow_pickle=True)\n",
    "\n",
    "    # Parse event markers from log file\n",
    "    evt, newSamp, nPoints, t_final, idx_start, idx_stim, _ = butils.readLog(files_logs[rr], 'mouse')\n",
    "\n",
    "    # Process session data, reaction times, and rescale reaction times\n",
    "    sess_data = reac.sess_data_maker(files_logs[rr], animal, 3000)\n",
    "    r_time, _ = reac.reaction_time(sess_data, [5,10,15])\n",
    "    r_time[pd.isna(r_time)] = -1\n",
    "    r_time = r_time.astype(np.float64)\n",
    "    r_time = r_time / newSamp\n",
    "    r_time[r_time > 4] = 4\n",
    "\n",
    "    t_tmp = np.nan * np.ones(nPoints)\n",
    "    t_tmp[idx_start[:-1]] = flashes[:-1]\n",
    "    frames_dlc = pd.Series(t_tmp).interpolate(method=\"linear\").values\n",
    "    frames_dlc[np.isnan(frames_dlc)] = 0\n",
    "    frames_dlc = np.array(frames_dlc, dtype=int)\n",
    "\n",
    "    t_stim = np.unique(t_final[idx_stim])\n",
    "\n",
    "    # Load facial and eye data using Dask\n",
    "    dat_face = butils.daskLoadCSV(files_face[rr], cols_nose, nPartitions=nPartitions)\n",
    "    dat_whis = butils.daskLoadCSV(files_face[rr], cols_whiskers, nPartitions=nPartitions)\n",
    "    dat_eye = butils.daskLoadCSV(files_eye[rr], cols_eye, nPartitions=nPartitions)\n",
    "\n",
    "    # Calculate positions and sizes\n",
    "    nose_x_fin, nose_y_fin, _ = butils.dlcCalcs(dat_face, nPoints=frames_dlc.shape[0], doSize=0)\n",
    "    eye_x_fin, eye_y_fin, pupSize_t = butils.dlcCalcs(dat_eye, nPoints=frames_dlc.shape[0], doSize=1)\n",
    "    whisk_x_fin, whisk_y_fin, _ = butils.dlcCalcs(dat_whis, nPoints=frames_dlc.shape[0], doSize=0)\n",
    "\n",
    "    # Prepare predictors\n",
    "    predVar = [eye_x_fin, eye_y_fin, nose_x_fin, nose_y_fin, whisk_x_fin, whisk_y_fin]\n",
    "    predictors = butils.preprocess_data(predVar, pupSize_t, eye_x_fin, eye_y_fin, t_final, idx_start, t_stim, animal, shiftStim, winSize)\n",
    "\n",
    "    # Ensure predictors and reaction times have the same length\n",
    "    if predictors.shape[0] > r_time.shape[0]:\n",
    "        predictors = predictors[:-1,:]\n",
    "    elif predictors.shape[0] < r_time.shape[0]:\n",
    "        r_time = r_time[:-1]\n",
    "\n",
    "    # Split data into training and testing sets\n",
    "    size = int(len(r_time) * 0.8)\n",
    "    dat_train, dat_test, y_train, y_test = predictors[:size,:], predictors[size:,:], r_time[:size], r_time[size:]\n",
    "    estimator = BayesianRidge()\n",
    "\n",
    "    # Impute missing values in training data\n",
    "    imp = IterativeImputer(estimator=estimator, random_state=42, max_iter=100, sample_posterior=True, skip_complete=True)\n",
    "    dat_train = imp.fit_transform(dat_train)\n",
    "    y_train = y_train.reshape(-1,1)\n",
    "\n",
    "    # Append the processed data to the corresponding mouse's lists\n",
    "    mouse_data[mouse_label]['dat_train_list'].append(dat_train)\n",
    "    mouse_data[mouse_label]['dat_test_list'].append(dat_test)\n",
    "    mouse_data[mouse_label]['y_train_list'].append(y_train)\n",
    "    mouse_data[mouse_label]['y_test_list'].append(y_test)\n",
    "\n",
    "# After processing all sessions, concatenate data separately for each mouse\n",
    "dat_train_final = {}\n",
    "dat_test_final = {}\n",
    "y_train_final = {}\n",
    "y_test_final = {}\n",
    "\n",
    "for mouse_label, data in mouse_data.items():\n",
    "    # Concatenate training and testing data\n",
    "    dat_train_final[mouse_label] = butils.pad_concatenate(data['dat_train_list'], doEmissions=False, numPad=20)\n",
    "    y_train_final[mouse_label] = butils.pad_concatenate(data['y_train_list'], doEmissions=True, numPad=20)\n",
    "\n",
    "# ================================\n",
    "# ======= Saving the Data ========\n",
    "# ================================\n",
    "\n",
    "# Define the directory to save the processed data\n",
    "save_dir = 'RawData/Mouse/'\n",
    "\n",
    "# Create the directory if it doesn't exist\n",
    "os.makedirs(save_dir, exist_ok=True)\n",
    "\n",
    "# Save the concatenated training data per mouse\n",
    "train_save_path = os.path.join(save_dir, 'Predictors_emissions_train_per_mouse_generalisation_20pad.npz')\n",
    "np.savez(\n",
    "    train_save_path,\n",
    "    dat_train_final=dat_train_final,\n",
    "    y_train_final=y_train_final\n",
    ")\n",
    "print(f\"Training data per mouse saved to {train_save_path}\")\n",
    "end1 = time.time()\n",
    "print(f\"Data processing and saving completed in {np.round(end1 - start1, 2)} seconds.\")\n"
   ]
  },
  {
   "cell_type": "code",
   "execution_count": null,
   "metadata": {},
   "outputs": [
    {
     "name": "stderr",
     "output_type": "stream",
     "text": [
      "/gs/home/tlaieboriaa/.conda/envs/Cluster-GLMHMM3/lib/python3.9/site-packages/acme/dask_helpers.py:765: RuntimeWarning: <cluster_cleanup> No dangling clients or clusters found.\n",
      "  inspect.currentframe().f_lineno)\n"
     ]
    },
    {
     "name": "stdout",
     "output_type": "stream",
     "text": [
      "<slurm_cluster_setup> Requested job-count 5 exceeds `n_jobs_startup`: waiting for 2 jobs to come online, then proceed\n"
     ]
    },
    {
     "name": "stderr",
     "output_type": "stream",
     "text": [
      "<slurm_cluster_setup> SLURM workers ready: 5/None \t[elapsed time 00:21 | timeout at :40:00]\n"
     ]
    },
    {
     "name": "stdout",
     "output_type": "stream",
     "text": [
      "<slurm_cluster_setup> Cluster dashboard accessible at http://10.100.32.3:8787/status\n",
      "\n",
      "Processing fold: Training on all mice except mouse_1, testing on mouse_1\n",
      "  Testing on session 1 of mouse_1\n"
     ]
    },
    {
     "data": {
      "text/html": [
       "\n",
       "<style>\n",
       "    /* Turns off some styling */\n",
       "    progress {\n",
       "        /* gets rid of default border in Firefox and Opera. */\n",
       "        border: none;\n",
       "        /* Needs to be in here for Safari polyfill so background images work as expected. */\n",
       "        background-size: auto;\n",
       "    }\n",
       "    progress:not([value]), progress:not([value])::-webkit-progress-bar {\n",
       "        background: repeating-linear-gradient(45deg, #7e7e7e, #7e7e7e 10px, #5c5c5c 10px, #5c5c5c 20px);\n",
       "    }\n",
       "    .progress-bar-interrupted, .progress-bar-interrupted::-webkit-progress-bar {\n",
       "        background: #F44336;\n",
       "    }\n",
       "</style>\n"
      ],
      "text/plain": [
       "<IPython.core.display.HTML object>"
      ]
     },
     "metadata": {},
     "output_type": "display_data"
    },
    {
     "data": {
      "text/html": [
       "\n",
       "    <div>\n",
       "      <progress value='50' class='' max='50' style='width:300px; height:20px; vertical-align: middle;'></progress>\n",
       "      100.00% [50/50 00:01&lt;00:00]\n",
       "    </div>\n",
       "    "
      ],
      "text/plain": [
       "<IPython.core.display.HTML object>"
      ]
     },
     "metadata": {},
     "output_type": "display_data"
    },
    {
     "name": "stdout",
     "output_type": "stream",
     "text": [
      "(55, 8) (55, 1, 8) (55, 1)\n",
      "      Session 1, selected_states=3 completed in 6.5 seconds. R²: 0.6541\n",
      "  Testing on session 2 of mouse_1\n"
     ]
    },
    {
     "data": {
      "text/html": [
       "\n",
       "<style>\n",
       "    /* Turns off some styling */\n",
       "    progress {\n",
       "        /* gets rid of default border in Firefox and Opera. */\n",
       "        border: none;\n",
       "        /* Needs to be in here for Safari polyfill so background images work as expected. */\n",
       "        background-size: auto;\n",
       "    }\n",
       "    progress:not([value]), progress:not([value])::-webkit-progress-bar {\n",
       "        background: repeating-linear-gradient(45deg, #7e7e7e, #7e7e7e 10px, #5c5c5c 10px, #5c5c5c 20px);\n",
       "    }\n",
       "    .progress-bar-interrupted, .progress-bar-interrupted::-webkit-progress-bar {\n",
       "        background: #F44336;\n",
       "    }\n",
       "</style>\n"
      ],
      "text/plain": [
       "<IPython.core.display.HTML object>"
      ]
     },
     "metadata": {},
     "output_type": "display_data"
    },
    {
     "data": {
      "text/html": [
       "\n",
       "    <div>\n",
       "      <progress value='50' class='' max='50' style='width:300px; height:20px; vertical-align: middle;'></progress>\n",
       "      100.00% [50/50 00:01&lt;00:00]\n",
       "    </div>\n",
       "    "
      ],
      "text/plain": [
       "<IPython.core.display.HTML object>"
      ]
     },
     "metadata": {},
     "output_type": "display_data"
    },
    {
     "name": "stdout",
     "output_type": "stream",
     "text": [
      "(71, 8) (71, 1, 8) (71, 1)\n",
      "      Session 2, selected_states=3 completed in 3.2 seconds. R²: 0.7318\n",
      "  Testing on session 3 of mouse_1\n"
     ]
    },
    {
     "data": {
      "text/html": [
       "\n",
       "<style>\n",
       "    /* Turns off some styling */\n",
       "    progress {\n",
       "        /* gets rid of default border in Firefox and Opera. */\n",
       "        border: none;\n",
       "        /* Needs to be in here for Safari polyfill so background images work as expected. */\n",
       "        background-size: auto;\n",
       "    }\n",
       "    progress:not([value]), progress:not([value])::-webkit-progress-bar {\n",
       "        background: repeating-linear-gradient(45deg, #7e7e7e, #7e7e7e 10px, #5c5c5c 10px, #5c5c5c 20px);\n",
       "    }\n",
       "    .progress-bar-interrupted, .progress-bar-interrupted::-webkit-progress-bar {\n",
       "        background: #F44336;\n",
       "    }\n",
       "</style>\n"
      ],
      "text/plain": [
       "<IPython.core.display.HTML object>"
      ]
     },
     "metadata": {},
     "output_type": "display_data"
    },
    {
     "data": {
      "text/html": [
       "\n",
       "    <div>\n",
       "      <progress value='50' class='' max='50' style='width:300px; height:20px; vertical-align: middle;'></progress>\n",
       "      100.00% [50/50 00:01&lt;00:00]\n",
       "    </div>\n",
       "    "
      ],
      "text/plain": [
       "<IPython.core.display.HTML object>"
      ]
     },
     "metadata": {},
     "output_type": "display_data"
    },
    {
     "name": "stdout",
     "output_type": "stream",
     "text": [
      "(73, 8) (73, 1, 8) (73, 1)\n",
      "      Session 3, selected_states=3 completed in 3.2 seconds. R²: 0.6442\n",
      "  Testing on session 4 of mouse_1\n"
     ]
    },
    {
     "data": {
      "text/html": [
       "\n",
       "<style>\n",
       "    /* Turns off some styling */\n",
       "    progress {\n",
       "        /* gets rid of default border in Firefox and Opera. */\n",
       "        border: none;\n",
       "        /* Needs to be in here for Safari polyfill so background images work as expected. */\n",
       "        background-size: auto;\n",
       "    }\n",
       "    progress:not([value]), progress:not([value])::-webkit-progress-bar {\n",
       "        background: repeating-linear-gradient(45deg, #7e7e7e, #7e7e7e 10px, #5c5c5c 10px, #5c5c5c 20px);\n",
       "    }\n",
       "    .progress-bar-interrupted, .progress-bar-interrupted::-webkit-progress-bar {\n",
       "        background: #F44336;\n",
       "    }\n",
       "</style>\n"
      ],
      "text/plain": [
       "<IPython.core.display.HTML object>"
      ]
     },
     "metadata": {},
     "output_type": "display_data"
    },
    {
     "data": {
      "text/html": [
       "\n",
       "    <div>\n",
       "      <progress value='50' class='' max='50' style='width:300px; height:20px; vertical-align: middle;'></progress>\n",
       "      100.00% [50/50 00:01&lt;00:00]\n",
       "    </div>\n",
       "    "
      ],
      "text/plain": [
       "<IPython.core.display.HTML object>"
      ]
     },
     "metadata": {},
     "output_type": "display_data"
    },
    {
     "name": "stdout",
     "output_type": "stream",
     "text": [
      "(49, 8) (49, 1, 8) (49, 1)\n",
      "      Session 4, selected_states=3 completed in 3.44 seconds. R²: 0.5190\n",
      "  Testing on session 5 of mouse_1\n"
     ]
    },
    {
     "data": {
      "text/html": [
       "\n",
       "<style>\n",
       "    /* Turns off some styling */\n",
       "    progress {\n",
       "        /* gets rid of default border in Firefox and Opera. */\n",
       "        border: none;\n",
       "        /* Needs to be in here for Safari polyfill so background images work as expected. */\n",
       "        background-size: auto;\n",
       "    }\n",
       "    progress:not([value]), progress:not([value])::-webkit-progress-bar {\n",
       "        background: repeating-linear-gradient(45deg, #7e7e7e, #7e7e7e 10px, #5c5c5c 10px, #5c5c5c 20px);\n",
       "    }\n",
       "    .progress-bar-interrupted, .progress-bar-interrupted::-webkit-progress-bar {\n",
       "        background: #F44336;\n",
       "    }\n",
       "</style>\n"
      ],
      "text/plain": [
       "<IPython.core.display.HTML object>"
      ]
     },
     "metadata": {},
     "output_type": "display_data"
    },
    {
     "data": {
      "text/html": [
       "\n",
       "    <div>\n",
       "      <progress value='50' class='' max='50' style='width:300px; height:20px; vertical-align: middle;'></progress>\n",
       "      100.00% [50/50 00:01&lt;00:00]\n",
       "    </div>\n",
       "    "
      ],
      "text/plain": [
       "<IPython.core.display.HTML object>"
      ]
     },
     "metadata": {},
     "output_type": "display_data"
    },
    {
     "name": "stdout",
     "output_type": "stream",
     "text": [
      "(69, 8) (69, 1, 8) (69, 1)\n",
      "      Session 5, selected_states=3 completed in 3.16 seconds. R²: 0.8103\n",
      "  Testing on session 6 of mouse_1\n"
     ]
    },
    {
     "data": {
      "text/html": [
       "\n",
       "<style>\n",
       "    /* Turns off some styling */\n",
       "    progress {\n",
       "        /* gets rid of default border in Firefox and Opera. */\n",
       "        border: none;\n",
       "        /* Needs to be in here for Safari polyfill so background images work as expected. */\n",
       "        background-size: auto;\n",
       "    }\n",
       "    progress:not([value]), progress:not([value])::-webkit-progress-bar {\n",
       "        background: repeating-linear-gradient(45deg, #7e7e7e, #7e7e7e 10px, #5c5c5c 10px, #5c5c5c 20px);\n",
       "    }\n",
       "    .progress-bar-interrupted, .progress-bar-interrupted::-webkit-progress-bar {\n",
       "        background: #F44336;\n",
       "    }\n",
       "</style>\n"
      ],
      "text/plain": [
       "<IPython.core.display.HTML object>"
      ]
     },
     "metadata": {},
     "output_type": "display_data"
    },
    {
     "data": {
      "text/html": [
       "\n",
       "    <div>\n",
       "      <progress value='50' class='' max='50' style='width:300px; height:20px; vertical-align: middle;'></progress>\n",
       "      100.00% [50/50 00:01&lt;00:00]\n",
       "    </div>\n",
       "    "
      ],
      "text/plain": [
       "<IPython.core.display.HTML object>"
      ]
     },
     "metadata": {},
     "output_type": "display_data"
    },
    {
     "name": "stdout",
     "output_type": "stream",
     "text": [
      "(50, 8) (50, 1, 8) (50, 1)\n",
      "      Session 6, selected_states=3 completed in 3.17 seconds. R²: 0.5277\n",
      "  Testing on session 7 of mouse_1\n"
     ]
    },
    {
     "data": {
      "text/html": [
       "\n",
       "<style>\n",
       "    /* Turns off some styling */\n",
       "    progress {\n",
       "        /* gets rid of default border in Firefox and Opera. */\n",
       "        border: none;\n",
       "        /* Needs to be in here for Safari polyfill so background images work as expected. */\n",
       "        background-size: auto;\n",
       "    }\n",
       "    progress:not([value]), progress:not([value])::-webkit-progress-bar {\n",
       "        background: repeating-linear-gradient(45deg, #7e7e7e, #7e7e7e 10px, #5c5c5c 10px, #5c5c5c 20px);\n",
       "    }\n",
       "    .progress-bar-interrupted, .progress-bar-interrupted::-webkit-progress-bar {\n",
       "        background: #F44336;\n",
       "    }\n",
       "</style>\n"
      ],
      "text/plain": [
       "<IPython.core.display.HTML object>"
      ]
     },
     "metadata": {},
     "output_type": "display_data"
    },
    {
     "data": {
      "text/html": [
       "\n",
       "    <div>\n",
       "      <progress value='50' class='' max='50' style='width:300px; height:20px; vertical-align: middle;'></progress>\n",
       "      100.00% [50/50 00:01&lt;00:00]\n",
       "    </div>\n",
       "    "
      ],
      "text/plain": [
       "<IPython.core.display.HTML object>"
      ]
     },
     "metadata": {},
     "output_type": "display_data"
    },
    {
     "name": "stdout",
     "output_type": "stream",
     "text": [
      "(97, 8) (97, 1, 8) (97, 1)\n",
      "      Session 7, selected_states=3 completed in 3.18 seconds. R²: 0.6305\n",
      "  Testing on session 8 of mouse_1\n"
     ]
    },
    {
     "data": {
      "text/html": [
       "\n",
       "<style>\n",
       "    /* Turns off some styling */\n",
       "    progress {\n",
       "        /* gets rid of default border in Firefox and Opera. */\n",
       "        border: none;\n",
       "        /* Needs to be in here for Safari polyfill so background images work as expected. */\n",
       "        background-size: auto;\n",
       "    }\n",
       "    progress:not([value]), progress:not([value])::-webkit-progress-bar {\n",
       "        background: repeating-linear-gradient(45deg, #7e7e7e, #7e7e7e 10px, #5c5c5c 10px, #5c5c5c 20px);\n",
       "    }\n",
       "    .progress-bar-interrupted, .progress-bar-interrupted::-webkit-progress-bar {\n",
       "        background: #F44336;\n",
       "    }\n",
       "</style>\n"
      ],
      "text/plain": [
       "<IPython.core.display.HTML object>"
      ]
     },
     "metadata": {},
     "output_type": "display_data"
    },
    {
     "data": {
      "text/html": [
       "\n",
       "    <div>\n",
       "      <progress value='50' class='' max='50' style='width:300px; height:20px; vertical-align: middle;'></progress>\n",
       "      100.00% [50/50 00:01&lt;00:00]\n",
       "    </div>\n",
       "    "
      ],
      "text/plain": [
       "<IPython.core.display.HTML object>"
      ]
     },
     "metadata": {},
     "output_type": "display_data"
    },
    {
     "name": "stdout",
     "output_type": "stream",
     "text": [
      "(73, 8) (73, 1, 8) (73, 1)\n",
      "      Session 8, selected_states=3 completed in 2.62 seconds. R²: 0.7700\n",
      "  Testing on session 9 of mouse_1\n"
     ]
    },
    {
     "data": {
      "text/html": [
       "\n",
       "<style>\n",
       "    /* Turns off some styling */\n",
       "    progress {\n",
       "        /* gets rid of default border in Firefox and Opera. */\n",
       "        border: none;\n",
       "        /* Needs to be in here for Safari polyfill so background images work as expected. */\n",
       "        background-size: auto;\n",
       "    }\n",
       "    progress:not([value]), progress:not([value])::-webkit-progress-bar {\n",
       "        background: repeating-linear-gradient(45deg, #7e7e7e, #7e7e7e 10px, #5c5c5c 10px, #5c5c5c 20px);\n",
       "    }\n",
       "    .progress-bar-interrupted, .progress-bar-interrupted::-webkit-progress-bar {\n",
       "        background: #F44336;\n",
       "    }\n",
       "</style>\n"
      ],
      "text/plain": [
       "<IPython.core.display.HTML object>"
      ]
     },
     "metadata": {},
     "output_type": "display_data"
    },
    {
     "data": {
      "text/html": [
       "\n",
       "    <div>\n",
       "      <progress value='50' class='' max='50' style='width:300px; height:20px; vertical-align: middle;'></progress>\n",
       "      100.00% [50/50 00:01&lt;00:00]\n",
       "    </div>\n",
       "    "
      ],
      "text/plain": [
       "<IPython.core.display.HTML object>"
      ]
     },
     "metadata": {},
     "output_type": "display_data"
    },
    {
     "name": "stdout",
     "output_type": "stream",
     "text": [
      "(32, 8) (32, 1, 8) (32, 1)\n",
      "      Session 9, selected_states=3 completed in 3.29 seconds. R²: 0.6864\n",
      "  Testing on session 10 of mouse_1\n"
     ]
    },
    {
     "data": {
      "text/html": [
       "\n",
       "<style>\n",
       "    /* Turns off some styling */\n",
       "    progress {\n",
       "        /* gets rid of default border in Firefox and Opera. */\n",
       "        border: none;\n",
       "        /* Needs to be in here for Safari polyfill so background images work as expected. */\n",
       "        background-size: auto;\n",
       "    }\n",
       "    progress:not([value]), progress:not([value])::-webkit-progress-bar {\n",
       "        background: repeating-linear-gradient(45deg, #7e7e7e, #7e7e7e 10px, #5c5c5c 10px, #5c5c5c 20px);\n",
       "    }\n",
       "    .progress-bar-interrupted, .progress-bar-interrupted::-webkit-progress-bar {\n",
       "        background: #F44336;\n",
       "    }\n",
       "</style>\n"
      ],
      "text/plain": [
       "<IPython.core.display.HTML object>"
      ]
     },
     "metadata": {},
     "output_type": "display_data"
    },
    {
     "data": {
      "text/html": [
       "\n",
       "    <div>\n",
       "      <progress value='50' class='' max='50' style='width:300px; height:20px; vertical-align: middle;'></progress>\n",
       "      100.00% [50/50 00:01&lt;00:00]\n",
       "    </div>\n",
       "    "
      ],
      "text/plain": [
       "<IPython.core.display.HTML object>"
      ]
     },
     "metadata": {},
     "output_type": "display_data"
    },
    {
     "name": "stdout",
     "output_type": "stream",
     "text": [
      "(25, 8) (25, 1, 8) (25, 1)\n",
      "      Session 10, selected_states=3 completed in 3.29 seconds. R²: 0.8300\n",
      "  Testing on session 11 of mouse_1\n"
     ]
    },
    {
     "data": {
      "text/html": [
       "\n",
       "<style>\n",
       "    /* Turns off some styling */\n",
       "    progress {\n",
       "        /* gets rid of default border in Firefox and Opera. */\n",
       "        border: none;\n",
       "        /* Needs to be in here for Safari polyfill so background images work as expected. */\n",
       "        background-size: auto;\n",
       "    }\n",
       "    progress:not([value]), progress:not([value])::-webkit-progress-bar {\n",
       "        background: repeating-linear-gradient(45deg, #7e7e7e, #7e7e7e 10px, #5c5c5c 10px, #5c5c5c 20px);\n",
       "    }\n",
       "    .progress-bar-interrupted, .progress-bar-interrupted::-webkit-progress-bar {\n",
       "        background: #F44336;\n",
       "    }\n",
       "</style>\n"
      ],
      "text/plain": [
       "<IPython.core.display.HTML object>"
      ]
     },
     "metadata": {},
     "output_type": "display_data"
    },
    {
     "data": {
      "text/html": [
       "\n",
       "    <div>\n",
       "      <progress value='50' class='' max='50' style='width:300px; height:20px; vertical-align: middle;'></progress>\n",
       "      100.00% [50/50 00:01&lt;00:00]\n",
       "    </div>\n",
       "    "
      ],
      "text/plain": [
       "<IPython.core.display.HTML object>"
      ]
     },
     "metadata": {},
     "output_type": "display_data"
    },
    {
     "name": "stdout",
     "output_type": "stream",
     "text": [
      "(27, 8) (27, 1, 8) (27, 1)\n",
      "      Session 11, selected_states=3 completed in 3.44 seconds. R²: 0.5781\n",
      "  Testing on session 12 of mouse_1\n"
     ]
    },
    {
     "data": {
      "text/html": [
       "\n",
       "<style>\n",
       "    /* Turns off some styling */\n",
       "    progress {\n",
       "        /* gets rid of default border in Firefox and Opera. */\n",
       "        border: none;\n",
       "        /* Needs to be in here for Safari polyfill so background images work as expected. */\n",
       "        background-size: auto;\n",
       "    }\n",
       "    progress:not([value]), progress:not([value])::-webkit-progress-bar {\n",
       "        background: repeating-linear-gradient(45deg, #7e7e7e, #7e7e7e 10px, #5c5c5c 10px, #5c5c5c 20px);\n",
       "    }\n",
       "    .progress-bar-interrupted, .progress-bar-interrupted::-webkit-progress-bar {\n",
       "        background: #F44336;\n",
       "    }\n",
       "</style>\n"
      ],
      "text/plain": [
       "<IPython.core.display.HTML object>"
      ]
     },
     "metadata": {},
     "output_type": "display_data"
    },
    {
     "data": {
      "text/html": [
       "\n",
       "    <div>\n",
       "      <progress value='50' class='' max='50' style='width:300px; height:20px; vertical-align: middle;'></progress>\n",
       "      100.00% [50/50 00:01&lt;00:00]\n",
       "    </div>\n",
       "    "
      ],
      "text/plain": [
       "<IPython.core.display.HTML object>"
      ]
     },
     "metadata": {},
     "output_type": "display_data"
    },
    {
     "name": "stdout",
     "output_type": "stream",
     "text": [
      "(55, 8) (55, 1, 8) (55, 1)\n",
      "      Session 12, selected_states=3 completed in 2.89 seconds. R²: 0.6152\n",
      "-- Fold mouse_1 completed in 41.47 seconds --\n",
      "\n",
      "Processing fold: Training on all mice except mouse_2, testing on mouse_2\n",
      "  Testing on session 1 of mouse_2\n"
     ]
    },
    {
     "data": {
      "text/html": [
       "\n",
       "<style>\n",
       "    /* Turns off some styling */\n",
       "    progress {\n",
       "        /* gets rid of default border in Firefox and Opera. */\n",
       "        border: none;\n",
       "        /* Needs to be in here for Safari polyfill so background images work as expected. */\n",
       "        background-size: auto;\n",
       "    }\n",
       "    progress:not([value]), progress:not([value])::-webkit-progress-bar {\n",
       "        background: repeating-linear-gradient(45deg, #7e7e7e, #7e7e7e 10px, #5c5c5c 10px, #5c5c5c 20px);\n",
       "    }\n",
       "    .progress-bar-interrupted, .progress-bar-interrupted::-webkit-progress-bar {\n",
       "        background: #F44336;\n",
       "    }\n",
       "</style>\n"
      ],
      "text/plain": [
       "<IPython.core.display.HTML object>"
      ]
     },
     "metadata": {},
     "output_type": "display_data"
    },
    {
     "data": {
      "text/html": [
       "\n",
       "    <div>\n",
       "      <progress value='50' class='' max='50' style='width:300px; height:20px; vertical-align: middle;'></progress>\n",
       "      100.00% [50/50 00:01&lt;00:00]\n",
       "    </div>\n",
       "    "
      ],
      "text/plain": [
       "<IPython.core.display.HTML object>"
      ]
     },
     "metadata": {},
     "output_type": "display_data"
    },
    {
     "name": "stdout",
     "output_type": "stream",
     "text": [
      "(122, 8) (122, 1, 8) (122, 1)\n",
      "      Session 1, selected_states=3 completed in 3.27 seconds. R²: 0.8058\n",
      "  Testing on session 2 of mouse_2\n"
     ]
    },
    {
     "data": {
      "text/html": [
       "\n",
       "<style>\n",
       "    /* Turns off some styling */\n",
       "    progress {\n",
       "        /* gets rid of default border in Firefox and Opera. */\n",
       "        border: none;\n",
       "        /* Needs to be in here for Safari polyfill so background images work as expected. */\n",
       "        background-size: auto;\n",
       "    }\n",
       "    progress:not([value]), progress:not([value])::-webkit-progress-bar {\n",
       "        background: repeating-linear-gradient(45deg, #7e7e7e, #7e7e7e 10px, #5c5c5c 10px, #5c5c5c 20px);\n",
       "    }\n",
       "    .progress-bar-interrupted, .progress-bar-interrupted::-webkit-progress-bar {\n",
       "        background: #F44336;\n",
       "    }\n",
       "</style>\n"
      ],
      "text/plain": [
       "<IPython.core.display.HTML object>"
      ]
     },
     "metadata": {},
     "output_type": "display_data"
    },
    {
     "data": {
      "text/html": [
       "\n",
       "    <div>\n",
       "      <progress value='50' class='' max='50' style='width:300px; height:20px; vertical-align: middle;'></progress>\n",
       "      100.00% [50/50 00:01&lt;00:00]\n",
       "    </div>\n",
       "    "
      ],
      "text/plain": [
       "<IPython.core.display.HTML object>"
      ]
     },
     "metadata": {},
     "output_type": "display_data"
    },
    {
     "name": "stdout",
     "output_type": "stream",
     "text": [
      "(97, 8) (97, 1, 8) (97, 1)\n",
      "      Session 2, selected_states=3 completed in 2.62 seconds. R²: 0.5070\n",
      "  Testing on session 3 of mouse_2\n"
     ]
    },
    {
     "data": {
      "text/html": [
       "\n",
       "<style>\n",
       "    /* Turns off some styling */\n",
       "    progress {\n",
       "        /* gets rid of default border in Firefox and Opera. */\n",
       "        border: none;\n",
       "        /* Needs to be in here for Safari polyfill so background images work as expected. */\n",
       "        background-size: auto;\n",
       "    }\n",
       "    progress:not([value]), progress:not([value])::-webkit-progress-bar {\n",
       "        background: repeating-linear-gradient(45deg, #7e7e7e, #7e7e7e 10px, #5c5c5c 10px, #5c5c5c 20px);\n",
       "    }\n",
       "    .progress-bar-interrupted, .progress-bar-interrupted::-webkit-progress-bar {\n",
       "        background: #F44336;\n",
       "    }\n",
       "</style>\n"
      ],
      "text/plain": [
       "<IPython.core.display.HTML object>"
      ]
     },
     "metadata": {},
     "output_type": "display_data"
    },
    {
     "data": {
      "text/html": [
       "\n",
       "    <div>\n",
       "      <progress value='50' class='' max='50' style='width:300px; height:20px; vertical-align: middle;'></progress>\n",
       "      100.00% [50/50 00:01&lt;00:00]\n",
       "    </div>\n",
       "    "
      ],
      "text/plain": [
       "<IPython.core.display.HTML object>"
      ]
     },
     "metadata": {},
     "output_type": "display_data"
    },
    {
     "name": "stdout",
     "output_type": "stream",
     "text": [
      "(84, 8) (84, 1, 8) (84, 1)\n",
      "      Session 3, selected_states=3 completed in 3.27 seconds. R²: 0.7077\n",
      "  Testing on session 4 of mouse_2\n"
     ]
    },
    {
     "data": {
      "text/html": [
       "\n",
       "<style>\n",
       "    /* Turns off some styling */\n",
       "    progress {\n",
       "        /* gets rid of default border in Firefox and Opera. */\n",
       "        border: none;\n",
       "        /* Needs to be in here for Safari polyfill so background images work as expected. */\n",
       "        background-size: auto;\n",
       "    }\n",
       "    progress:not([value]), progress:not([value])::-webkit-progress-bar {\n",
       "        background: repeating-linear-gradient(45deg, #7e7e7e, #7e7e7e 10px, #5c5c5c 10px, #5c5c5c 20px);\n",
       "    }\n",
       "    .progress-bar-interrupted, .progress-bar-interrupted::-webkit-progress-bar {\n",
       "        background: #F44336;\n",
       "    }\n",
       "</style>\n"
      ],
      "text/plain": [
       "<IPython.core.display.HTML object>"
      ]
     },
     "metadata": {},
     "output_type": "display_data"
    },
    {
     "data": {
      "text/html": [
       "\n",
       "    <div>\n",
       "      <progress value='50' class='' max='50' style='width:300px; height:20px; vertical-align: middle;'></progress>\n",
       "      100.00% [50/50 00:01&lt;00:00]\n",
       "    </div>\n",
       "    "
      ],
      "text/plain": [
       "<IPython.core.display.HTML object>"
      ]
     },
     "metadata": {},
     "output_type": "display_data"
    },
    {
     "name": "stdout",
     "output_type": "stream",
     "text": [
      "(109, 8) (109, 1, 8) (109, 1)\n",
      "      Session 4, selected_states=3 completed in 3.29 seconds. R²: 0.7649\n",
      "-- Fold mouse_2 completed in 12.52 seconds --\n",
      "\n",
      "Processing fold: Training on all mice except mouse_3, testing on mouse_3\n",
      "  Testing on session 1 of mouse_3\n"
     ]
    },
    {
     "data": {
      "text/html": [
       "\n",
       "<style>\n",
       "    /* Turns off some styling */\n",
       "    progress {\n",
       "        /* gets rid of default border in Firefox and Opera. */\n",
       "        border: none;\n",
       "        /* Needs to be in here for Safari polyfill so background images work as expected. */\n",
       "        background-size: auto;\n",
       "    }\n",
       "    progress:not([value]), progress:not([value])::-webkit-progress-bar {\n",
       "        background: repeating-linear-gradient(45deg, #7e7e7e, #7e7e7e 10px, #5c5c5c 10px, #5c5c5c 20px);\n",
       "    }\n",
       "    .progress-bar-interrupted, .progress-bar-interrupted::-webkit-progress-bar {\n",
       "        background: #F44336;\n",
       "    }\n",
       "</style>\n"
      ],
      "text/plain": [
       "<IPython.core.display.HTML object>"
      ]
     },
     "metadata": {},
     "output_type": "display_data"
    },
    {
     "data": {
      "text/html": [
       "\n",
       "    <div>\n",
       "      <progress value='50' class='' max='50' style='width:300px; height:20px; vertical-align: middle;'></progress>\n",
       "      100.00% [50/50 00:01&lt;00:00]\n",
       "    </div>\n",
       "    "
      ],
      "text/plain": [
       "<IPython.core.display.HTML object>"
      ]
     },
     "metadata": {},
     "output_type": "display_data"
    },
    {
     "name": "stdout",
     "output_type": "stream",
     "text": [
      "(65, 8) (65, 1, 8) (65, 1)\n",
      "      Session 1, selected_states=3 completed in 3.23 seconds. R²: 0.8236\n",
      "  Testing on session 2 of mouse_3\n"
     ]
    },
    {
     "data": {
      "text/html": [
       "\n",
       "<style>\n",
       "    /* Turns off some styling */\n",
       "    progress {\n",
       "        /* gets rid of default border in Firefox and Opera. */\n",
       "        border: none;\n",
       "        /* Needs to be in here for Safari polyfill so background images work as expected. */\n",
       "        background-size: auto;\n",
       "    }\n",
       "    progress:not([value]), progress:not([value])::-webkit-progress-bar {\n",
       "        background: repeating-linear-gradient(45deg, #7e7e7e, #7e7e7e 10px, #5c5c5c 10px, #5c5c5c 20px);\n",
       "    }\n",
       "    .progress-bar-interrupted, .progress-bar-interrupted::-webkit-progress-bar {\n",
       "        background: #F44336;\n",
       "    }\n",
       "</style>\n"
      ],
      "text/plain": [
       "<IPython.core.display.HTML object>"
      ]
     },
     "metadata": {},
     "output_type": "display_data"
    },
    {
     "data": {
      "text/html": [
       "\n",
       "    <div>\n",
       "      <progress value='50' class='' max='50' style='width:300px; height:20px; vertical-align: middle;'></progress>\n",
       "      100.00% [50/50 00:01&lt;00:00]\n",
       "    </div>\n",
       "    "
      ],
      "text/plain": [
       "<IPython.core.display.HTML object>"
      ]
     },
     "metadata": {},
     "output_type": "display_data"
    },
    {
     "name": "stdout",
     "output_type": "stream",
     "text": [
      "(133, 8) (133, 1, 8) (133, 1)\n",
      "      Session 2, selected_states=3 completed in 3.18 seconds. R²: 0.6026\n",
      "  Testing on session 3 of mouse_3\n"
     ]
    },
    {
     "data": {
      "text/html": [
       "\n",
       "<style>\n",
       "    /* Turns off some styling */\n",
       "    progress {\n",
       "        /* gets rid of default border in Firefox and Opera. */\n",
       "        border: none;\n",
       "        /* Needs to be in here for Safari polyfill so background images work as expected. */\n",
       "        background-size: auto;\n",
       "    }\n",
       "    progress:not([value]), progress:not([value])::-webkit-progress-bar {\n",
       "        background: repeating-linear-gradient(45deg, #7e7e7e, #7e7e7e 10px, #5c5c5c 10px, #5c5c5c 20px);\n",
       "    }\n",
       "    .progress-bar-interrupted, .progress-bar-interrupted::-webkit-progress-bar {\n",
       "        background: #F44336;\n",
       "    }\n",
       "</style>\n"
      ],
      "text/plain": [
       "<IPython.core.display.HTML object>"
      ]
     },
     "metadata": {},
     "output_type": "display_data"
    },
    {
     "data": {
      "text/html": [
       "\n",
       "    <div>\n",
       "      <progress value='50' class='' max='50' style='width:300px; height:20px; vertical-align: middle;'></progress>\n",
       "      100.00% [50/50 00:01&lt;00:00]\n",
       "    </div>\n",
       "    "
      ],
      "text/plain": [
       "<IPython.core.display.HTML object>"
      ]
     },
     "metadata": {},
     "output_type": "display_data"
    },
    {
     "name": "stdout",
     "output_type": "stream",
     "text": [
      "(122, 8) (122, 1, 8) (122, 1)\n",
      "      Session 3, selected_states=3 completed in 2.58 seconds. R²: 0.6821\n",
      "  Testing on session 4 of mouse_3\n"
     ]
    },
    {
     "data": {
      "text/html": [
       "\n",
       "<style>\n",
       "    /* Turns off some styling */\n",
       "    progress {\n",
       "        /* gets rid of default border in Firefox and Opera. */\n",
       "        border: none;\n",
       "        /* Needs to be in here for Safari polyfill so background images work as expected. */\n",
       "        background-size: auto;\n",
       "    }\n",
       "    progress:not([value]), progress:not([value])::-webkit-progress-bar {\n",
       "        background: repeating-linear-gradient(45deg, #7e7e7e, #7e7e7e 10px, #5c5c5c 10px, #5c5c5c 20px);\n",
       "    }\n",
       "    .progress-bar-interrupted, .progress-bar-interrupted::-webkit-progress-bar {\n",
       "        background: #F44336;\n",
       "    }\n",
       "</style>\n"
      ],
      "text/plain": [
       "<IPython.core.display.HTML object>"
      ]
     },
     "metadata": {},
     "output_type": "display_data"
    },
    {
     "data": {
      "text/html": [
       "\n",
       "    <div>\n",
       "      <progress value='50' class='' max='50' style='width:300px; height:20px; vertical-align: middle;'></progress>\n",
       "      100.00% [50/50 00:01&lt;00:00]\n",
       "    </div>\n",
       "    "
      ],
      "text/plain": [
       "<IPython.core.display.HTML object>"
      ]
     },
     "metadata": {},
     "output_type": "display_data"
    },
    {
     "name": "stdout",
     "output_type": "stream",
     "text": [
      "(123, 8) (123, 1, 8) (123, 1)\n",
      "      Session 4, selected_states=3 completed in 3.2 seconds. R²: 0.1280\n",
      "  Testing on session 5 of mouse_3\n"
     ]
    },
    {
     "data": {
      "text/html": [
       "\n",
       "<style>\n",
       "    /* Turns off some styling */\n",
       "    progress {\n",
       "        /* gets rid of default border in Firefox and Opera. */\n",
       "        border: none;\n",
       "        /* Needs to be in here for Safari polyfill so background images work as expected. */\n",
       "        background-size: auto;\n",
       "    }\n",
       "    progress:not([value]), progress:not([value])::-webkit-progress-bar {\n",
       "        background: repeating-linear-gradient(45deg, #7e7e7e, #7e7e7e 10px, #5c5c5c 10px, #5c5c5c 20px);\n",
       "    }\n",
       "    .progress-bar-interrupted, .progress-bar-interrupted::-webkit-progress-bar {\n",
       "        background: #F44336;\n",
       "    }\n",
       "</style>\n"
      ],
      "text/plain": [
       "<IPython.core.display.HTML object>"
      ]
     },
     "metadata": {},
     "output_type": "display_data"
    },
    {
     "data": {
      "text/html": [
       "\n",
       "    <div>\n",
       "      <progress value='50' class='' max='50' style='width:300px; height:20px; vertical-align: middle;'></progress>\n",
       "      100.00% [50/50 00:01&lt;00:00]\n",
       "    </div>\n",
       "    "
      ],
      "text/plain": [
       "<IPython.core.display.HTML object>"
      ]
     },
     "metadata": {},
     "output_type": "display_data"
    },
    {
     "name": "stdout",
     "output_type": "stream",
     "text": [
      "(123, 8) (123, 1, 8) (123, 1)\n",
      "      Session 5, selected_states=3 completed in 2.87 seconds. R²: 0.1280\n",
      "  Testing on session 6 of mouse_3\n"
     ]
    },
    {
     "data": {
      "text/html": [
       "\n",
       "<style>\n",
       "    /* Turns off some styling */\n",
       "    progress {\n",
       "        /* gets rid of default border in Firefox and Opera. */\n",
       "        border: none;\n",
       "        /* Needs to be in here for Safari polyfill so background images work as expected. */\n",
       "        background-size: auto;\n",
       "    }\n",
       "    progress:not([value]), progress:not([value])::-webkit-progress-bar {\n",
       "        background: repeating-linear-gradient(45deg, #7e7e7e, #7e7e7e 10px, #5c5c5c 10px, #5c5c5c 20px);\n",
       "    }\n",
       "    .progress-bar-interrupted, .progress-bar-interrupted::-webkit-progress-bar {\n",
       "        background: #F44336;\n",
       "    }\n",
       "</style>\n"
      ],
      "text/plain": [
       "<IPython.core.display.HTML object>"
      ]
     },
     "metadata": {},
     "output_type": "display_data"
    },
    {
     "data": {
      "text/html": [
       "\n",
       "    <div>\n",
       "      <progress value='50' class='' max='50' style='width:300px; height:20px; vertical-align: middle;'></progress>\n",
       "      100.00% [50/50 00:01&lt;00:00]\n",
       "    </div>\n",
       "    "
      ],
      "text/plain": [
       "<IPython.core.display.HTML object>"
      ]
     },
     "metadata": {},
     "output_type": "display_data"
    },
    {
     "name": "stdout",
     "output_type": "stream",
     "text": [
      "(122, 8) (122, 1, 8) (122, 1)\n",
      "      Session 6, selected_states=3 completed in 2.65 seconds. R²: 0.6821\n",
      "-- Fold mouse_3 completed in 17.8 seconds --\n",
      "\n",
      "Processing fold: Training on all mice except mouse_4, testing on mouse_4\n",
      "  Testing on session 1 of mouse_4\n"
     ]
    },
    {
     "data": {
      "text/html": [
       "\n",
       "<style>\n",
       "    /* Turns off some styling */\n",
       "    progress {\n",
       "        /* gets rid of default border in Firefox and Opera. */\n",
       "        border: none;\n",
       "        /* Needs to be in here for Safari polyfill so background images work as expected. */\n",
       "        background-size: auto;\n",
       "    }\n",
       "    progress:not([value]), progress:not([value])::-webkit-progress-bar {\n",
       "        background: repeating-linear-gradient(45deg, #7e7e7e, #7e7e7e 10px, #5c5c5c 10px, #5c5c5c 20px);\n",
       "    }\n",
       "    .progress-bar-interrupted, .progress-bar-interrupted::-webkit-progress-bar {\n",
       "        background: #F44336;\n",
       "    }\n",
       "</style>\n"
      ],
      "text/plain": [
       "<IPython.core.display.HTML object>"
      ]
     },
     "metadata": {},
     "output_type": "display_data"
    },
    {
     "data": {
      "text/html": [
       "\n",
       "    <div>\n",
       "      <progress value='50' class='' max='50' style='width:300px; height:20px; vertical-align: middle;'></progress>\n",
       "      100.00% [50/50 00:01&lt;00:00]\n",
       "    </div>\n",
       "    "
      ],
      "text/plain": [
       "<IPython.core.display.HTML object>"
      ]
     },
     "metadata": {},
     "output_type": "display_data"
    },
    {
     "name": "stdout",
     "output_type": "stream",
     "text": [
      "(74, 8) (74, 1, 8) (74, 1)\n",
      "      Session 1, selected_states=3 completed in 3.3 seconds. R²: 0.7967\n",
      "  Testing on session 2 of mouse_4\n"
     ]
    },
    {
     "data": {
      "text/html": [
       "\n",
       "<style>\n",
       "    /* Turns off some styling */\n",
       "    progress {\n",
       "        /* gets rid of default border in Firefox and Opera. */\n",
       "        border: none;\n",
       "        /* Needs to be in here for Safari polyfill so background images work as expected. */\n",
       "        background-size: auto;\n",
       "    }\n",
       "    progress:not([value]), progress:not([value])::-webkit-progress-bar {\n",
       "        background: repeating-linear-gradient(45deg, #7e7e7e, #7e7e7e 10px, #5c5c5c 10px, #5c5c5c 20px);\n",
       "    }\n",
       "    .progress-bar-interrupted, .progress-bar-interrupted::-webkit-progress-bar {\n",
       "        background: #F44336;\n",
       "    }\n",
       "</style>\n"
      ],
      "text/plain": [
       "<IPython.core.display.HTML object>"
      ]
     },
     "metadata": {},
     "output_type": "display_data"
    },
    {
     "data": {
      "text/html": [
       "\n",
       "    <div>\n",
       "      <progress value='50' class='' max='50' style='width:300px; height:20px; vertical-align: middle;'></progress>\n",
       "      100.00% [50/50 00:01&lt;00:00]\n",
       "    </div>\n",
       "    "
      ],
      "text/plain": [
       "<IPython.core.display.HTML object>"
      ]
     },
     "metadata": {},
     "output_type": "display_data"
    },
    {
     "name": "stdout",
     "output_type": "stream",
     "text": [
      "(38, 8) (38, 1, 8) (38, 1)\n",
      "      Session 2, selected_states=3 completed in 3.22 seconds. R²: 0.7658\n",
      "  Testing on session 3 of mouse_4\n"
     ]
    },
    {
     "data": {
      "text/html": [
       "\n",
       "<style>\n",
       "    /* Turns off some styling */\n",
       "    progress {\n",
       "        /* gets rid of default border in Firefox and Opera. */\n",
       "        border: none;\n",
       "        /* Needs to be in here for Safari polyfill so background images work as expected. */\n",
       "        background-size: auto;\n",
       "    }\n",
       "    progress:not([value]), progress:not([value])::-webkit-progress-bar {\n",
       "        background: repeating-linear-gradient(45deg, #7e7e7e, #7e7e7e 10px, #5c5c5c 10px, #5c5c5c 20px);\n",
       "    }\n",
       "    .progress-bar-interrupted, .progress-bar-interrupted::-webkit-progress-bar {\n",
       "        background: #F44336;\n",
       "    }\n",
       "</style>\n"
      ],
      "text/plain": [
       "<IPython.core.display.HTML object>"
      ]
     },
     "metadata": {},
     "output_type": "display_data"
    },
    {
     "data": {
      "text/html": [
       "\n",
       "    <div>\n",
       "      <progress value='50' class='' max='50' style='width:300px; height:20px; vertical-align: middle;'></progress>\n",
       "      100.00% [50/50 00:01&lt;00:00]\n",
       "    </div>\n",
       "    "
      ],
      "text/plain": [
       "<IPython.core.display.HTML object>"
      ]
     },
     "metadata": {},
     "output_type": "display_data"
    },
    {
     "name": "stdout",
     "output_type": "stream",
     "text": [
      "(37, 8) (37, 1, 8) (37, 1)\n",
      "      Session 3, selected_states=3 completed in 3.2 seconds. R²: 0.4615\n",
      "-- Fold mouse_4 completed in 9.73 seconds --\n",
      "\n",
      "Processing fold: Training on all mice except mouse_5, testing on mouse_5\n",
      "  Testing on session 1 of mouse_5\n"
     ]
    },
    {
     "data": {
      "text/html": [
       "\n",
       "<style>\n",
       "    /* Turns off some styling */\n",
       "    progress {\n",
       "        /* gets rid of default border in Firefox and Opera. */\n",
       "        border: none;\n",
       "        /* Needs to be in here for Safari polyfill so background images work as expected. */\n",
       "        background-size: auto;\n",
       "    }\n",
       "    progress:not([value]), progress:not([value])::-webkit-progress-bar {\n",
       "        background: repeating-linear-gradient(45deg, #7e7e7e, #7e7e7e 10px, #5c5c5c 10px, #5c5c5c 20px);\n",
       "    }\n",
       "    .progress-bar-interrupted, .progress-bar-interrupted::-webkit-progress-bar {\n",
       "        background: #F44336;\n",
       "    }\n",
       "</style>\n"
      ],
      "text/plain": [
       "<IPython.core.display.HTML object>"
      ]
     },
     "metadata": {},
     "output_type": "display_data"
    },
    {
     "data": {
      "text/html": [
       "\n",
       "    <div>\n",
       "      <progress value='50' class='' max='50' style='width:300px; height:20px; vertical-align: middle;'></progress>\n",
       "      100.00% [50/50 00:01&lt;00:00]\n",
       "    </div>\n",
       "    "
      ],
      "text/plain": [
       "<IPython.core.display.HTML object>"
      ]
     },
     "metadata": {},
     "output_type": "display_data"
    },
    {
     "name": "stdout",
     "output_type": "stream",
     "text": [
      "(94, 8) (94, 1, 8) (94, 1)\n",
      "      Session 1, selected_states=3 completed in 3.32 seconds. R²: 0.7219\n",
      "  Testing on session 2 of mouse_5\n"
     ]
    },
    {
     "data": {
      "text/html": [
       "\n",
       "<style>\n",
       "    /* Turns off some styling */\n",
       "    progress {\n",
       "        /* gets rid of default border in Firefox and Opera. */\n",
       "        border: none;\n",
       "        /* Needs to be in here for Safari polyfill so background images work as expected. */\n",
       "        background-size: auto;\n",
       "    }\n",
       "    progress:not([value]), progress:not([value])::-webkit-progress-bar {\n",
       "        background: repeating-linear-gradient(45deg, #7e7e7e, #7e7e7e 10px, #5c5c5c 10px, #5c5c5c 20px);\n",
       "    }\n",
       "    .progress-bar-interrupted, .progress-bar-interrupted::-webkit-progress-bar {\n",
       "        background: #F44336;\n",
       "    }\n",
       "</style>\n"
      ],
      "text/plain": [
       "<IPython.core.display.HTML object>"
      ]
     },
     "metadata": {},
     "output_type": "display_data"
    },
    {
     "data": {
      "text/html": [
       "\n",
       "    <div>\n",
       "      <progress value='50' class='' max='50' style='width:300px; height:20px; vertical-align: middle;'></progress>\n",
       "      100.00% [50/50 00:01&lt;00:00]\n",
       "    </div>\n",
       "    "
      ],
      "text/plain": [
       "<IPython.core.display.HTML object>"
      ]
     },
     "metadata": {},
     "output_type": "display_data"
    },
    {
     "name": "stdout",
     "output_type": "stream",
     "text": [
      "(91, 8) (91, 1, 8) (91, 1)\n",
      "      Session 2, selected_states=3 completed in 3.29 seconds. R²: 0.3649\n",
      "-- Fold mouse_5 completed in 6.63 seconds --\n",
      "\n",
      "Processing fold: Training on all mice except mouse_6, testing on mouse_6\n",
      "  Testing on session 1 of mouse_6\n"
     ]
    },
    {
     "data": {
      "text/html": [
       "\n",
       "<style>\n",
       "    /* Turns off some styling */\n",
       "    progress {\n",
       "        /* gets rid of default border in Firefox and Opera. */\n",
       "        border: none;\n",
       "        /* Needs to be in here for Safari polyfill so background images work as expected. */\n",
       "        background-size: auto;\n",
       "    }\n",
       "    progress:not([value]), progress:not([value])::-webkit-progress-bar {\n",
       "        background: repeating-linear-gradient(45deg, #7e7e7e, #7e7e7e 10px, #5c5c5c 10px, #5c5c5c 20px);\n",
       "    }\n",
       "    .progress-bar-interrupted, .progress-bar-interrupted::-webkit-progress-bar {\n",
       "        background: #F44336;\n",
       "    }\n",
       "</style>\n"
      ],
      "text/plain": [
       "<IPython.core.display.HTML object>"
      ]
     },
     "metadata": {},
     "output_type": "display_data"
    },
    {
     "data": {
      "text/html": [
       "\n",
       "    <div>\n",
       "      <progress value='50' class='' max='50' style='width:300px; height:20px; vertical-align: middle;'></progress>\n",
       "      100.00% [50/50 00:01&lt;00:00]\n",
       "    </div>\n",
       "    "
      ],
      "text/plain": [
       "<IPython.core.display.HTML object>"
      ]
     },
     "metadata": {},
     "output_type": "display_data"
    },
    {
     "name": "stdout",
     "output_type": "stream",
     "text": [
      "(62, 8) (62, 1, 8) (62, 1)\n",
      "      Session 1, selected_states=3 completed in 3.32 seconds. R²: 0.7955\n",
      "  Testing on session 2 of mouse_6\n"
     ]
    },
    {
     "data": {
      "text/html": [
       "\n",
       "<style>\n",
       "    /* Turns off some styling */\n",
       "    progress {\n",
       "        /* gets rid of default border in Firefox and Opera. */\n",
       "        border: none;\n",
       "        /* Needs to be in here for Safari polyfill so background images work as expected. */\n",
       "        background-size: auto;\n",
       "    }\n",
       "    progress:not([value]), progress:not([value])::-webkit-progress-bar {\n",
       "        background: repeating-linear-gradient(45deg, #7e7e7e, #7e7e7e 10px, #5c5c5c 10px, #5c5c5c 20px);\n",
       "    }\n",
       "    .progress-bar-interrupted, .progress-bar-interrupted::-webkit-progress-bar {\n",
       "        background: #F44336;\n",
       "    }\n",
       "</style>\n"
      ],
      "text/plain": [
       "<IPython.core.display.HTML object>"
      ]
     },
     "metadata": {},
     "output_type": "display_data"
    },
    {
     "data": {
      "text/html": [
       "\n",
       "    <div>\n",
       "      <progress value='50' class='' max='50' style='width:300px; height:20px; vertical-align: middle;'></progress>\n",
       "      100.00% [50/50 00:01&lt;00:00]\n",
       "    </div>\n",
       "    "
      ],
      "text/plain": [
       "<IPython.core.display.HTML object>"
      ]
     },
     "metadata": {},
     "output_type": "display_data"
    },
    {
     "name": "stdout",
     "output_type": "stream",
     "text": [
      "(96, 8) (96, 1, 8) (96, 1)\n",
      "      Session 2, selected_states=3 completed in 3.54 seconds. R²: 0.6986\n",
      "-- Fold mouse_6 completed in 6.87 seconds --\n",
      "---------------------------------------- It took 95.06 seconds for all folds to finish ----------------------------------------\n"
     ]
    }
   ],
   "source": [
    "# Import necessary libraries\n",
    "import numpy as np\n",
    "import optuna\n",
    "import pipeline_MSLR as pipln\n",
    "import warnings\n",
    "import BehavUtils as butils\n",
    "import time\n",
    "from jax.config import config\n",
    "import os\n",
    "import acme\n",
    "import argparse\n",
    "import matplotlib.pyplot as plt\n",
    "import seaborn as sns\n",
    "from sklearn.metrics import r2_score  # For computing R² scores\n",
    "from collections import defaultdict  # For aggregating R² scores\n",
    "\n",
    "# Enable 64-bit precision in JAX\n",
    "config.update(\"jax_enable_x64\", True)\n",
    "\n",
    "# Ignore specific warnings to keep the output clean\n",
    "warnings.filterwarnings(action='ignore', message='Mean of empty slice')\n",
    "warnings.filterwarnings(action='ignore', message='Degrees of freedom <= 0 for slice')\n",
    "warnings.filterwarnings(action='ignore', message='All-NaN slice encountered')\n",
    "warnings.filterwarnings(action='ignore', message='RuntimeWarning: invalid value encountered in double_scalars')\n",
    "np.seterr(over='ignore')\n",
    "\n",
    "# Define the animal type\n",
    "animal = 'mouse'\n",
    "\n",
    "date = '14112024'\n",
    "\n",
    "# Load log, flash, face, and eye files\n",
    "with open('RawData/Mouse/files_logs_mouse_moreSes.txt') as f:\n",
    "    files_logs = [line.strip() for line in f.readlines()]\n",
    "\n",
    "# Define parameters for cross-validation, repetitions, and data splitting\n",
    "nWindows = 5\n",
    "nRepetitions = 5\n",
    "nSplits = 5\n",
    "btscv = butils.BlockingTimeSeriesSplit(n_splits=nSplits)\n",
    "shiftStim = -0.25\n",
    "winSize = 0.25\n",
    "internal_states = np.arange(2, 16)  # Range of internal states to evaluate\n",
    "\n",
    "# Define how many partitions to use for Dask loading in the data\n",
    "nPartitions = os.cpu_count() - 2\n",
    "\n",
    "selected_states = 3\n",
    "\n",
    "# Clean up the cluster and set up a new cluster client\n",
    "acme.cluster_cleanup()\n",
    "client = acme.esi_cluster_setup(partition=\"8GBXS\", n_jobs=int(nSplits),\n",
    "                                n_jobs_startup=2, timeout=60000, interactive_wait=1)\n",
    "\n",
    "# Start overall timing\n",
    "start1 = time.time()\n",
    "\n",
    "# Define session indices for each mouse\n",
    "mouse_1 = np.array([15,16,17,18,19,20,21,22,23,24,25,26])\n",
    "mouse_2 = np.array([0,1,2,3])\n",
    "mouse_3 = np.array([4,5,6,7,27,28])\n",
    "mouse_4 = np.array([8,9,10])\n",
    "mouse_5 = np.array([11,12])\n",
    "mouse_6 = np.setdiff1d(np.arange(len(files_logs)), \n",
    "                        np.concatenate([mouse_1, mouse_2, mouse_3, mouse_4, mouse_5]))\n",
    "\n",
    "# Organize mouse sessions into a dictionary for easy access\n",
    "mouse_sessions = {\n",
    "    'mouse_1': mouse_1,\n",
    "    'mouse_2': mouse_2,\n",
    "    'mouse_3': mouse_3,\n",
    "    'mouse_4': mouse_4,\n",
    "    'mouse_5': mouse_5,\n",
    "    'mouse_6': mouse_6\n",
    "}\n",
    "\n",
    "# List of mouse labels for iteration\n",
    "mouse_labels = list(mouse_sessions.keys())\n",
    "\n",
    "variables_mouse = np.array(['Pupil Size', 'Eye Mov', 'Nose Mov', 'Eye [x]', 'Eye [y]', 'Nose [x]', 'Nose [y]', 'Whiskers [x]', 'Whiskers [y]'])\n",
    "\n",
    "# ================================\n",
    "# ======= Loading Training Data ===\n",
    "# ================================\n",
    "\n",
    "# Load pre-concatenated training data per mouse\n",
    "train_test_dir = 'RawData/Mouse/'  # Directory where processed data is saved\n",
    "train_data_path = os.path.join(train_test_dir, 'Predictors_emissions_train_per_mouse_generalisation_20pad.npz')\n",
    "\n",
    "# Verify that the training data file exists\n",
    "if not os.path.exists(train_data_path):\n",
    "    raise FileNotFoundError(f\"Training data file not found at {train_data_path}\")\n",
    "\n",
    "# Load the training data\n",
    "dat_all_train = np.load(train_data_path, allow_pickle=True)\n",
    "dat_train_final = dat_all_train['dat_train_final'].item()  # Dictionary: { 'mouse_1': array, ... }\n",
    "y_train_final = dat_all_train['y_train_final'].item()      # Dictionary: { 'mouse_1': array, ... }\n",
    "\n",
    "# Clamp y_train_final to a maximum value of 4\n",
    "for mouse_label in y_train_final:\n",
    "    y_train_final[mouse_label] = np.clip(y_train_final[mouse_label], None, 4)\n",
    "\n",
    "# Remove 'Eye Mov' from dat_train_final\n",
    "eye_mov_idx = np.where(variables_mouse != 'Eye Mov')[0]\n",
    "for mouse_label in dat_train_final:\n",
    "    dat_train_final[mouse_label] = dat_train_final[mouse_label][:, eye_mov_idx]\n",
    "\n",
    "# ================================\n",
    "# ======= Loading Optuna Results ===\n",
    "# ================================\n",
    "\n",
    "# Load Optuna results (ensure this file exists and contains the necessary data)\n",
    "optuna_results_path = 'Results/Mouse/Results_CV_sLDS_Optuna_mouse_100trials_3_states_28112023_RT_noEyeMovModel_AllSubjects_R2score_CVOnly.npz'\n",
    "if not os.path.exists(optuna_results_path):\n",
    "    raise FileNotFoundError(f\"Optuna results file not found at {optuna_results_path}\")\n",
    "\n",
    "dat_optuna = np.load(optuna_results_path, allow_pickle=True)\n",
    "# Extract selected concentration and stickiness\n",
    "selected_concentration = dat_optuna['concentration']\n",
    "selected_stickiness = dat_optuna['stickiness']\n",
    "\n",
    "# ================================\n",
    "# ======= LOO-CV Loop ============\n",
    "# ================================\n",
    "\n",
    "# Iterate over each leave-one-mouse-out fold\n",
    "for held_out_mouse in mouse_labels:\n",
    "    start_fold = time.time()\n",
    "    print(f'\\nProcessing fold: Training on all mice except {held_out_mouse}, testing on {held_out_mouse}')\n",
    "    \n",
    "    # Prepare training data by concatenating data from all mice except the held-out mouse\n",
    "    train_dat_list = [dat_train_final[mouse] for mouse in mouse_labels if mouse != held_out_mouse]\n",
    "    train_y_list = [y_train_final[mouse] for mouse in mouse_labels if mouse != held_out_mouse]\n",
    "    \n",
    "    # Concatenate training data and labels\n",
    "    train_dat = np.concatenate(train_dat_list, axis=0)\n",
    "    train_y = np.concatenate(train_y_list, axis=0).reshape(-1, 1)\n",
    "    \n",
    "    # Retrieve the test session indices for the held-out mouse\n",
    "    test_session_indices = mouse_sessions[held_out_mouse]\n",
    "    \n",
    "    # Iterate through each test session individually\n",
    "    for session_idx, rr in enumerate(test_session_indices):\n",
    "        print(f'  Testing on session {session_idx+1} of {held_out_mouse}')\n",
    "        \n",
    "        # Define the test filename based on the session index\n",
    "        test_filename = f'RawData/Mouse/Predictors_emissions_mouse_newDLC_test_session{rr}_nonScaled.npz'\n",
    "        \n",
    "        # Check if the test file exists\n",
    "        if not os.path.exists(test_filename):\n",
    "            print(f\"    Test file {test_filename} not found. Skipping session {rr}.\")\n",
    "            continue  # Skip if test file does not exist\n",
    "        \n",
    "        # Load test session data\n",
    "        dats = np.load(test_filename, allow_pickle=True)\n",
    "        dat_test = dats['predictors']\n",
    "        dat_test = dat_test[:, eye_mov_idx]\n",
    "        \n",
    "        y_test = dats['emissions']\n",
    "        y_test = np.clip(y_test, None, 4)  # Clamp emissions to a maximum of 4\n",
    "        \n",
    "        start2 = time.time()\n",
    "        \n",
    "        try:\n",
    "            # Initialize the MSLR model instance\n",
    "            mouse_MSLR_instance = pipln.model_MSLR_concat(\n",
    "                train_y,               # Training emissions\n",
    "                train_dat,             # Training predictors\n",
    "                y_test,                # Testing emissions for the current session\n",
    "                dat_test,              # Testing predictors for the current session\n",
    "                selected_states, \n",
    "                selected_concentration, \n",
    "                selected_stickiness,\n",
    "                btscv,\n",
    "                nRepetitions\n",
    "            )\n",
    "            pipln.model_MSLR_concat(y_train_final,dat_train_final,y_test,dat_test,\n",
    "                                                        selected_states, selected_concentration, selected_stickiness,btscv,nRepetitions)\n",
    "\n",
    "            # Perform testing\n",
    "            _, y_pred, y_test_out, state_probabilities, most_likely_states, _, _ = mouse_MSLR_instance.test_mslr()\n",
    "            \n",
    "            # Compute R² score\n",
    "            r2 = r2_score(y_test_out, y_pred)\n",
    "            \n",
    "            # Prepare results dictionary (optional: save more details if needed)\n",
    "            results = {\n",
    "                'predictions': y_pred,\n",
    "                'y_test': y_test_out,\n",
    "                'R2_score': r2,\n",
    "                'state_probabilities': state_probabilities,\n",
    "                'most_likely_states': most_likely_states\n",
    "            }\n",
    "            \n",
    "            # Define the result filename\n",
    "            result_filename = (\n",
    "                f\"Results/Mouse/Results_Test_MSLR_Optuna_mouse_{selected_states}states_leave_one_out_\"\n",
    "                f\"{date}_RT_AllSubjects_{held_out_mouse}_session{session_idx+1}.npz\"\n",
    "            )\n",
    "            \n",
    "            # Ensure the results directory exists\n",
    "            os.makedirs(os.path.dirname(result_filename), exist_ok=True)\n",
    "            \n",
    "            # Save the results\n",
    "            np.savez(result_filename, results)\n",
    "            \n",
    "            print(f'      Session {session_idx+1}, selected_states={selected_states} completed in '\n",
    "                    f'{np.round(time.time() - start2, 2)} seconds. R²: {r2:.4f}')\n",
    "        \n",
    "        except Exception as e:\n",
    "            print(f\"      Error processing session {session_idx+1}, state {selected_states}: {e}\")\n",
    "            continue  # Skip to the next iteration in case of an error\n",
    "\n",
    "    print(f'-- Fold {held_out_mouse} completed in {np.round(time.time() - start_fold, 2)} seconds --')\n",
    "\n",
    "# Final timing\n",
    "end1 = time.time()\n",
    "print('--'*20 + f' It took {np.round(end1 - start1, 3)} seconds for all folds to finish ' + '--'*20)"
   ]
  },
  {
   "cell_type": "code",
   "execution_count": 1,
   "metadata": {},
   "outputs": [
    {
     "name": "stderr",
     "output_type": "stream",
     "text": [
      "WARNING:absl:No GPU/TPU found, falling back to CPU. (Set TF_CPP_MIN_LOG_LEVEL=0 and rerun for more info.)\n"
     ]
    }
   ],
   "source": [
    "import seaborn as sns\n",
    "import glob\n",
    "import numpy as np\n",
    "from natsort import natsorted\n",
    "import matplotlib.pyplot as plt\n",
    "from sklearn.metrics import r2_score\n",
    "\n",
    "\n",
    "date = '13112024'\n",
    "numShuff = 100\n",
    "internal_states = np.arange(2, 16)\n",
    "\n",
    "perf_mouse = np.full((len(internal_states), 29), np.nan)\n",
    "perf_mouse_Sh = np.full((len(internal_states), 29, numShuff), np.nan)\n",
    "\n",
    "for n in internal_states:\n",
    "    files_results_mouse = natsorted(glob.glob(\"Results/Mouse/Results_Test_MSLR_Optuna_mouse_\"+\n",
    "                                                   str(n)+\"states_overfitting_\"+date+\n",
    "                                                   \"_RT_AllSubjects_session*.npz\", recursive = True))\n",
    "    for i, file in enumerate(files_results_mouse):\n",
    "        a = np.load(file, allow_pickle = True)\n",
    "\n",
    "        y_test = np.array(a[a.files[0]][()]['y_test'])\n",
    "        preds = np.array(a[a.files[0]][()]['predictions'])\n",
    "        preds[preds<0] = 0\n",
    "\n",
    "        perf_mouse[n-2, i] = r2_score(y_test, preds)\n",
    "        for s in np.arange(numShuff):\n",
    "            perf_mouse_Sh[n-2, i, s] = r2_score(y_test, np.random.permutation(y_test))"
   ]
  },
  {
   "cell_type": "code",
   "execution_count": null,
   "metadata": {},
   "outputs": [
    {
     "name": "stdout",
     "output_type": "stream",
     "text": [
      "Processed 5/29 sessions.\n",
      "Processed 10/29 sessions.\n",
      "Processed 15/29 sessions.\n",
      "Processed 20/29 sessions.\n",
      "Processed 25/29 sessions.\n",
      "Processed 29/29 sessions.\n"
     ]
    },
    {
     "data": {
      "text/plain": [
       "\"\\n# Example: Violin plot for better distribution visualization\\nplt.figure(figsize=(5,4))\\nsns.violinplot(data=df_a_stats, x='State Pair', y='A_statistic', palette='viridis', inner='quartile')\\nplt.title('Pooled A-statistic Across Sessions for Each State Pair')\\nplt.xlabel('State Pair')\\nplt.ylabel('A-statistic')\\nplt.xticks(rotation=45)\\nplt.tight_layout()\""
      ]
     },
     "execution_count": 45,
     "metadata": {},
     "output_type": "execute_result"
    },
    {
     "data": {
      "image/png": "[encoded data removed]",
      "text/plain": [
       "<Figure size 500x400 with 1 Axes>"
      ]
     },
     "metadata": {},
     "output_type": "display_data"
    }
   ],
   "source": [
    "# Import necessary libraries\n",
    "import numpy as np\n",
    "import re\n",
    "import seaborn as sns\n",
    "import pandas as pd\n",
    "import warnings\n",
    "import BehavUtils as butils\n",
    "import glob\n",
    "from natsort import natsorted\n",
    "from sklearn.metrics import r2_score\n",
    "from scipy.stats import mannwhitneyu  # Import Mann-Whitney U-test\n",
    "from itertools import combinations  # For generating state pairs\n",
    "import matplotlib.pyplot as plt\n",
    "from collections import defaultdict  # For aggregating R² scores\n",
    "\n",
    "# Define the number of shuffles and initialize performance arrays\n",
    "numShuff = 100\n",
    "perf_mouse = np.full(29, np.nan)\n",
    "perf_mouse_Sh = np.full((29, numShuff), np.nan)\n",
    "mouse_1 = np.array([15,16,17,18,19,20,21,22,23,24,25,26])\n",
    "mouse_2 = np.array([0,1,2,3])\n",
    "mouse_3 = np.array([4,5,6,7,27,28])\n",
    "mouse_4 = np.array([8,9,10])\n",
    "mouse_5 = np.array([11,12])\n",
    "mouse_6 = np.setdiff1d(np.arange(29), np.concatenate([mouse_1, mouse_2, mouse_3, mouse_4, mouse_5]))\n",
    "\n",
    "# Organize mouse sessions into a dictionary for easy access\n",
    "mouse_sessions = {\n",
    "    'mouse_1': mouse_1,\n",
    "    'mouse_2': mouse_2,\n",
    "    'mouse_3': mouse_3,\n",
    "    'mouse_4': mouse_4,\n",
    "    'mouse_5': mouse_5,\n",
    "    'mouse_6': mouse_6\n",
    "}\n",
    "\n",
    "# Initialize dictionaries to store training and testing data for each mouse\n",
    "mouse_data = {\n",
    "    mouse: {\n",
    "        'dat_train_list': [],\n",
    "        'dat_test_list': [],\n",
    "        'y_train_list': [],\n",
    "        'y_test_list': []\n",
    "    } for mouse in mouse_sessions\n",
    "}\n",
    "\n",
    "# Define mouse_labels based on your mouse_sessions dictionary\n",
    "# Assuming 'mouse_sessions' is already defined as per your earlier script\n",
    "mouse_labels = list(mouse_sessions.keys())\n",
    "\n",
    "# Glob to find all relevant result files, sorted naturally\n",
    "result_filename = natsorted(glob.glob(f\"Results/Mouse/Results_Test_MSLR_Optuna_mouse_3states_leave_one_out_14112024_RT_AllSubjects_*_session*.npz\", recursive=True))\n",
    "\n",
    "# Initialize dictionaries to collect conditioned emissions and A-statistics\n",
    "y_test_per_state = defaultdict(list)  # To store emissions per state across all sessions\n",
    "a_stats = defaultdict(list)           # To store A-statistics per state pair across all sessions\n",
    "# Initialize list to store conditioned emissions for each session\n",
    "all_sessions_emissions = []\n",
    "\n",
    "# Function to compute A-statistic using Mann-Whitney U-test\n",
    "def compute_a_statistic(x, y):\n",
    "    if len(x) == 0 or len(y) == 0:\n",
    "        return np.nan  # Return NaN if one of the distributions is empty\n",
    "    u_stat, _ = mannwhitneyu(x, y, alternative='two-sided')\n",
    "    a_stat = u_stat / (len(x) * len(y))\n",
    "    return a_stat\n",
    "\n",
    "# Iterate over each result file (each session)\n",
    "for i, file in enumerate(result_filename):\n",
    "    a = np.load(file, allow_pickle=True)\n",
    "\n",
    "    y_test = np.array(a[a.files[0]][()]['y_test'])[:,0]\n",
    "    preds = np.array(a[a.files[0]][()]['predictions'])[:,0]\n",
    "    states = np.argmax(np.array(a[a.files[0]][()]['most_likely_states']), axis = 1)\n",
    "    preds[preds < 0] = 0\n",
    "\n",
    "    perf_mouse[i] = r2_score(y_test, preds)\n",
    "    for s in np.arange(numShuff):\n",
    "        perf_mouse_Sh[i, s] = r2_score(y_test, np.random.permutation(y_test))\n",
    "\n",
    "    # --------------------------------------------\n",
    "    # ----- Compute Conditioned Emissions --------\n",
    "    # --------------------------------------------\n",
    "\n",
    "    # Identify unique states in the current session\n",
    "    unique_states = np.unique(states)\n",
    "\n",
    "    # Generate all possible pairs of states for comparison (if needed)\n",
    "    state_pairs = list(combinations(unique_states, 2))\n",
    "\n",
    "    # Iterate over each state to collect emissions\n",
    "    for state in unique_states:\n",
    "        emissions = y_test[states == state]\n",
    "        y_test_per_state[f'state{state}'].extend(emissions)\n",
    "\n",
    "    # Compute A-statistic for each pair of states (if needed)\n",
    "    for pair in state_pairs:\n",
    "        state1, state2 = pair\n",
    "        emissions1 = y_test[states == state1]\n",
    "        emissions2 = y_test[states == state2]\n",
    "        a_stat = compute_a_statistic(emissions1, emissions2)\n",
    "        a_stats[f'state{state1}_state{state2}'].append(a_stat)\n",
    "\n",
    "    # ----------------------------------------\n",
    "    # ----- Collect Conditioned Emissions -----\n",
    "    # ----------------------------------------\n",
    "\n",
    "    # Create a DataFrame for the current session\n",
    "    df_session = pd.DataFrame({\n",
    "        'State': states,\n",
    "        'Emission': y_test\n",
    "    })\n",
    "\n",
    "    # Ensure 'Emission' is numeric, coercing errors to NaN\n",
    "    df_session['Emission'] = pd.to_numeric(df_session['Emission'], errors='coerce')\n",
    "\n",
    "    # Drop rows with NaN in 'Emission'\n",
    "    #df_session = df_session.dropna(subset=['Emission'])\n",
    "\n",
    "    # Extract session number from filename for labeling\n",
    "    match = re.search(r'session(\\d+)', file, re.IGNORECASE)\n",
    "    if match:\n",
    "        session_num = int(match.group(1))\n",
    "    else:\n",
    "        session_num = i + 1  # Fallback to loop index if pattern not found\n",
    "    \n",
    "    # Add session identifier to the DataFrame (optional). Assign corrected session number (1-based)\n",
    "    df_session['Session'] = f'Session {i}'\n",
    "\n",
    "    # Append the session DataFrame to the list\n",
    "    all_sessions_emissions.append(df_session)\n",
    "\n",
    "    # Optional: Print progress every 5 sessions\n",
    "    if (i + 1) % 5 == 0 or (i + 1) == len(result_filename):\n",
    "        print(f'Processed {i + 1}/{len(result_filename)} sessions.')\n",
    "\n",
    "# ----------------------------------------\n",
    "# ----- Plot Conditioned Distributions ----\n",
    "# ----------------------------------------\n",
    "\n",
    "# Convert y_test_per_state to a DataFrame for plotting\n",
    "data = []\n",
    "for state, emissions in y_test_per_state.items():\n",
    "    for emission in emissions:\n",
    "        data.append({'State': state, 'Emission': emission})\n",
    "df_emissions = pd.DataFrame(data)\n",
    "\n",
    "# Plot the conditioned distributions using Seaborn's KDE plots\n",
    "cols_mouse = sns.color_palette(np.array([\"#5E3C18\", \"#A8612A\", \n",
    "                                         'orange']))\n",
    "\n",
    "plt.figure(figsize=(5,4))\n",
    "sns.kdeplot(data=df_emissions, x='Emission', hue='State', fill=True, common_norm=False, palette=cols_mouse)\n",
    "plt.xlabel('RT', fontsize = 14)\n",
    "plt.ylabel('', fontsize = 14)\n",
    "plt.yticks([])\n",
    "plt.xticks(fontsize = 12)\n",
    "sns.despine(left = True)\n",
    "plt.tight_layout()"
   ]
  },
  {
   "cell_type": "code",
   "execution_count": 62,
   "metadata": {},
   "outputs": [
    {
     "name": "stderr",
     "output_type": "stream",
     "text": [
      "/gs/home/tlaieboriaa/.conda/envs/Cluster-GLMHMM3/lib/python3.9/site-packages/seaborn/distributions.py:316: UserWarning: Dataset has 0 variance; skipping density estimate. Pass `warn_singular=False` to disable this warning.\n",
      "  warnings.warn(msg, UserWarning)\n"
     ]
    },
    {
     "data": {
      "image/png": "[encoded data removed]",
      "text/plain": [
       "<Figure size 2400x1500 with 29 Axes>"
      ]
     },
     "metadata": {},
     "output_type": "display_data"
    }
   ],
   "source": [
    "import matplotlib.pyplot as plt\n",
    "import seaborn as sns\n",
    "from datetime import datetime\n",
    "# Determine the number of sessions\n",
    "num_sessions = len(all_sessions_emissions)  # Should be 29\n",
    "\n",
    "# Define subplot grid dimensions (e.g., 5 rows x 6 columns for 30 subplots)\n",
    "n_rows = 5\n",
    "n_cols = 6\n",
    "\n",
    "# Create subplots\n",
    "fig, axes = plt.subplots(n_rows, n_cols, figsize=(n_cols * 4, n_rows * 3), sharex=True, sharey=True)\n",
    "\n",
    "# Flatten the axes array for easy iteration\n",
    "axes = axes.flatten()\n",
    "\n",
    "# Iterate over each session and plot its conditioned distributions\n",
    "for idx, df_session in enumerate(all_sessions_emissions):\n",
    "    ax = axes[idx]\n",
    "    \n",
    "    # Extract session label and mouse ID\n",
    "    session_label = df_session['Session'].iloc[0]\n",
    "    mouse_id = df_session['Mouse'].iloc[0]\n",
    "    \n",
    "    # Plot KDE for each state within the session\n",
    "    sns.kdeplot(\n",
    "        data=df_session, \n",
    "        x='Emission', \n",
    "        hue='State', \n",
    "        fill=True, \n",
    "        common_norm=False, \n",
    "        palette=cols_mouse,  # Replace with 'cols_mouse' if defined\n",
    "        ax=ax\n",
    "    )\n",
    "    \n",
    "    # Set subplot title with mouse ID and session number\n",
    "    ax.set_title(mouse_id +', '+ session_label, fontsize = 16)\n",
    "    \n",
    "    # Set labels (only on outer subplots to avoid clutter)\n",
    "    if idx % n_cols == 0:\n",
    "        ax.set_ylabel('Density')\n",
    "    else:\n",
    "        ax.set_ylabel('')\n",
    "    \n",
    "    if idx >= (n_rows - 1) * n_cols:\n",
    "        ax.set_xlabel('RT', fontsize = 16)\n",
    "    else:\n",
    "        ax.set_xlabel('')\n",
    "    ax.set_yticks([])\n",
    "    # Remove individual legends to avoid repetition\n",
    "    if idx:\n",
    "        ax.get_legend().remove()\n",
    "\n",
    "# Remove any unused subplots (e.g., the 30th subplot)\n",
    "for j in range(idx + 1, n_rows * n_cols):\n",
    "    fig.delaxes(axes[j])\n",
    "\n",
    "# Adjust layout\n",
    "plt.tight_layout()\n",
    "sns.despine()\n",
    "\n",
    "# Save the plot with dynamic date inclusion\n",
    "date = datetime.now().strftime('%d%m%Y')\n",
    "plot_save_path = f\"Results/Mouse/Emissions_Conditioned_Distributions_per_Session_{date}.png\"\n",
    "plt.savefig(plot_save_path, dpi = 300)\n"
   ]
  },
  {
   "cell_type": "code",
   "execution_count": null,
   "metadata": {},
   "outputs": [
    {
     "data": {
      "image/png": "[encoded data removed]",
      "text/plain": [
       "<Figure size 200x400 with 1 Axes>"
      ]
     },
     "metadata": {},
     "output_type": "display_data"
    }
   ],
   "source": [
    "import matplotlib.pyplot as plt\n",
    "\n",
    "\n",
    "fig, ax = plt.subplots(figsize=(2,4))\n",
    "sns.despine()\n",
    "cus_pal = sns.color_palette(['#7899c2ff', '#A8612A'][::-1])\n",
    "\n",
    "sns.boxplot(data = perf_mouse, palette = cus_pal ,showfliers = False, width=0.25, linewidth = 2)\n",
    "\n",
    "for i, artist in enumerate(ax.patches):\n",
    "        # Set the linecolor on the artist to the facecolor, and set the facecolor to None\n",
    "        artist.set_edgecolor(cus_pal[i])\n",
    "        artist.set_facecolor('None')\n",
    "        # Each box has 5 associated Line2D objects (because there are no outliers)\n",
    "        # Loop over them here, and use the same colour as above\n",
    "        for j in range(i*5,i*5+5):\n",
    "            line = ax.lines[j]\n",
    "            line.set_color(cus_pal[i])\n",
    "            line.set_lw(2)\n",
    "            line.set_mfc(cus_pal[i])\n",
    "            line.set_mec(cus_pal[i])\n",
    "\n",
    "\n",
    "sns.stripplot(data=perf_mouse, palette=cus_pal, jitter=0.15, alpha=1, edgecolor='black', linewidth=1, ax=ax, zorder = 1, dodge=False, size = 8)\n",
    "\n",
    "# adjust x-limits to make room for stripplot\n",
    "ax.set_xlim(ax.get_xlim()[0], ax.get_xlim()[1] + 0.25)\n",
    "# shift the stripplot to the right\n",
    "for line in ax.collections:\n",
    "    x, y = line.get_offsets().T\n",
    "    line.set_offsets(np.c_[x + 0.35, y])\n",
    "    \n",
    "ax.set_xticks(ticks = [0.1775], labels = ['Mouse'], fontsize = 16, rotation = 30)\n",
    "#ax.set_yticks(ticks = np.linspace(-1., 1, 5), labels = ['{:.1f}'.format(a) for a in np.linspace(-1., 1, 5)], fontsize = 14)\n",
    "ax.set_yticks(ticks = np.linspace(-1, 1, 5), labels = ['{:.1f}'.format(a) for a in np.linspace(-1, 1, 5)], fontsize = 14)\n",
    "ax.set_ylabel('Cross-animal $R^2$', fontsize = 18)\n",
    "plt.axhline(np.percentile(perf_mouse_Sh,99), xmin = 0.35, xmax = 0.75, color = sns.desaturate('#A8612A',0.5), lw = 3, ls = '--')\n",
    "plt.tight_layout()\n",
    "#plt.savefig('Results/BothSpecies_AllSubjects_R2_Test_RT_27022024.svg', transparent = True)"
   ]
  }
 ],
 "metadata": {
  "kernelspec": {
   "display_name": "Cluster-GLMHMM3",
   "language": "python",
   "name": "python3"
  },
  "language_info": {
   "codemirror_mode": {
    "name": "ipython",
    "version": 3
   },
   "file_extension": ".py",
   "mimetype": "text/x-python",
   "name": "python",
   "nbconvert_exporter": "python",
   "pygments_lexer": "ipython3",
   "version": "3.9.6"
  }
 },
 "nbformat": 4,
 "nbformat_minor": 2
}
